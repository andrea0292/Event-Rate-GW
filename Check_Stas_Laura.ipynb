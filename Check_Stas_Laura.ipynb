{
 "cells": [
  {
   "cell_type": "code",
   "execution_count": 1,
   "metadata": {},
   "outputs": [],
   "source": [
    "import numpy as np\n",
    "from numpy import sqrt\n",
    "from numpy import sin\n",
    "from numpy import pi\n",
    "from numpy import cos\n",
    "from numpy import exp\n",
    "from numpy import tanh\n",
    "from numpy import zeros\n",
    "from numpy import arccos\n",
    "from numpy import log10\n",
    "from matplotlib import pyplot as plt\n",
    "import scipy.optimize as opt\n",
    "import emcee\n",
    "from pylab import plot\n",
    "from scipy import integrate\n",
    "import corner\n",
    "import random\n",
    "from collections import Counter\n",
    "import time\n",
    "import scipy\n",
    "from scipy.stats import poisson # use as poisson.pmf(number of events , mean value)\n",
    "from scipy import optimize\n",
    "import multiprocessing as mp\n",
    "from multiprocessing import Pool\n",
    "\n",
    "import h5py\n",
    "import matplotlib as mpl\n",
    "from matplotlib import rcParams\n",
    "from matplotlib.lines import Line2D\n",
    "import matplotlib.patches\n",
    "from matplotlib.patches import Rectangle\n",
    "import matplotlib.colors\n",
    "from matplotlib import cm\n",
    "import glob\n",
    "import json\n",
    "from scipy.stats import gaussian_kde\n",
    "import sys\n",
    "import pandas as pd\n",
    "import statistics as stat\n",
    "#import deepdish as dd\n",
    "\n",
    "import astropy.units as u\n",
    "import astropy.constants as c\n",
    "from astropy.cosmology import FlatLambdaCDM, z_at_value\n",
    "from tqdm import *\n",
    "from astropy.cosmology import Planck15 as cosmo\n",
    "from astropy import constants as const"
   ]
  },
  {
   "cell_type": "code",
   "execution_count": 2,
   "metadata": {},
   "outputs": [],
   "source": [
    "eobdata = np.loadtxt('EOBmasses.dat')\n",
    "NRdata = np.loadtxt('NRmasses.dat')\n",
    "PHENdata = np.loadtxt('PHENmasses.dat')"
   ]
  },
  {
   "cell_type": "code",
   "execution_count": 3,
   "metadata": {
    "scrolled": false
   },
   "outputs": [
    {
     "data": {
      "image/png": "[encoded data removed]",
      "text/plain": [
       "<Figure size 432x288 with 2 Axes>"
      ]
     },
     "metadata": {
      "needs_background": "light"
     },
     "output_type": "display_data"
    }
   ],
   "source": [
    "#mass data from O3a LVC population analysis\n",
    "\n",
    "labels = [r\"\\textsc{Power Law + Peak}\"]\n",
    "filenames = [\"Multiple-Fig-Data/mass_ppd/default/o1o2o3_mass_c_iid_mag_two_comp_iid_tilt_powerlaw_redshift_mass_data.h5\"]\n",
    "plpeak_file = \"Population_Samples/default/o1o2o3_mass_c_iid_mag_two_comp_iid_tilt_powerlaw_redshift_result.json\"\n",
    "\n",
    "mass_1 = np.linspace(3, 100, 1000)\n",
    "mass_ratio = np.linspace(0.1, 1, 500)\n",
    "\n",
    "# Get the posterior on the location of the Gaussian peak of Power Law + Peak\n",
    "with open(plpeak_file,\"r\") as jfile:\n",
    "    plpeak_jf = json.load(jfile)\n",
    "    \n",
    "posterior_samples_plpeak = plpeak_jf['posterior']['content']\n",
    "peak_plp = posterior_samples_plpeak['mpp']\n",
    "peak_plp_05 = np.quantile(peak_plp,0.05)\n",
    "peak_plp_95 = np.quantile(peak_plp,0.95)\n",
    "\n",
    "for i,ff in enumerate(filenames):\n",
    "       \n",
    "    f = h5py.File(\"{0}\".format(ff),\"r\")\n",
    "        \n",
    "        # Load mass distribution data\n",
    "        # \"ppd\" : A 2D PPD in m1 vs. q space\n",
    "        # \"lines\" : A collection of individual m1 and q population distributions\n",
    "    mass_ppd = f[\"ppd\"][:,:]\n",
    "    mass_lines = f[\"lines\"]\n",
    "        \n",
    "        # Integrate the 2D PPD over mass ratio to get marginal m1 PPD\n",
    "    mass_1_ppd = np.trapz(mass_ppd, mass_ratio, axis=0)\n",
    "        \n",
    "        # Get 0.05 and 0.95 percentiles at each m1\n",
    "    mass_1_lower = np.percentile(mass_lines[\"mass_1\"], 5, axis=0)\n",
    "    mass_1_upper = np.percentile(mass_lines[\"mass_1\"], 95, axis=0)\n",
    "        \n",
    "        #print(f.keys())\n",
    "        #print(mass_ppd.shape)\n",
    "        #plt.scatter(mass_ppd[0,:], mass_ppd[1,:], s=1)\n",
    "    plt.imshow(mass_ppd)#,  #extent=[0.1,1,3,100]);\n",
    "    plt.colorbar()\n",
    "        #plt.xticks(np.arange(3, 100, 10))\n",
    "    plt.show()   \n"
   ]
  },
  {
   "cell_type": "code",
   "execution_count": 105,
   "metadata": {
    "scrolled": true
   },
   "outputs": [
    {
     "name": "stdout",
     "output_type": "stream",
     "text": [
      "9.893893893893894 0.7691382765531062\n"
     ]
    }
   ],
   "source": [
    "# sample from numerical dist\n",
    "rate_powerlawpeak = np.trapz(np.trapz(mass_ppd, mass_ratio, axis=0),mass_1,axis=0)\n",
    "print('rate:',rate_powerlawpeak)\n",
    "\n",
    "# Create a flat copy of the array (https://stackoverflow.com/questions/56017163/given-a-2d-numpy-array-representing-a-2d-distribution-how-to-sample-data-from-t)\n",
    "flat = mass_ppd.flatten()/mass_ppd.flatten().sum()\n",
    "\n",
    "\n",
    "# Then, sample an index from the 1D array with the\n",
    "# probability distribution from the original array\n",
    "sample_index = np.random.choice(a=flat.size, p=flat)\n",
    "\n",
    "# Take this index and adjust it so it matches the original array\n",
    "adjusted_index = np.unravel_index(sample_index, mass_ppd.shape)\n",
    "#print(mass_1[adjusted_index[1]], mass_ratio[adjusted_index[0]] )\n"
   ]
  },
  {
   "cell_type": "code",
   "execution_count": 7,
   "metadata": {},
   "outputs": [],
   "source": [
    "import cmath\n",
    "# we work in geometrized units\n",
    "Msol = 1.47680000000000000000000000000000000 # in km\n",
    "c = 1 # we have actually put them to one everywhere in the code already\n",
    "G = 1\n",
    "year = 60*60*24*(365.250000000000000000000000000); # s\n",
    "cc = 2.9980000000000000000000000000000*10**5 # velocity of light in Km/s\n",
    "pc = 3.0856770000000000000000000000*10**13 # km\n",
    "\n",
    "H0 = 67.9 # km /s / Mpc # changed to PLANCK 2015\n",
    "Omegam = 0.306\n",
    "OmegaL = 0.694\n",
    "Omegar = 0.\n",
    "\n",
    "# some useful functions \n",
    "def distL(z):\n",
    "    return (1+z) * integrate.quad(invE,0,z)[0] *cc / H0 *10**6*pc # km\n",
    "\n",
    "def Ez(z):\n",
    "    return sqrt(Omegar*(1+z)**4+Omegam*(1+z)**3+OmegaL)\n",
    "\n",
    "def invE(z):\n",
    "    return 1. / Ez(z)\n",
    "\n",
    "def primopezzo(zp):\n",
    "    return 1/Ez(zp)*(integrate.quad(invE,0,zp)[0])**2\n",
    "\n",
    "def dVdz(z):\n",
    "    return 4*pi*(cc/H0)**3*primopezzo(z) # Mpc**3\n",
    "\n",
    "def dtdf(f,m1,m2):  # Hz, km, km, gravitational wave frequency\n",
    "    return 5/(96*pi**(8/3))*(1./cc*(m1 + m2)*(m1*m2/(m1 + m2)**2)**(3/5))**(-5/\n",
    "  3)*f**(-11/3)  # s^2, assuming f in Hz and m in km\n",
    "\n",
    "def solof(f):\n",
    "    return f**(-11/3)\n",
    "\n",
    "def nu(m1,m2):\n",
    "    return m1*m2/((m1+m2)**2)\n",
    "\n",
    "def Mc(m1,m2):\n",
    "    return (m1 + m2) * (m1*m2/((m1+m2)**2))**(3/5)"
   ]
  },
  {
   "cell_type": "code",
   "execution_count": 8,
   "metadata": {},
   "outputs": [],
   "source": [
    "#here we want to add also the part with the SNR \n",
    "\n",
    "# LISA noise parameters\n",
    "Amp = 5/10*18/10*10**-44\n",
    "alpha = 138/1000\n",
    "beta = -221\n",
    "kappa = 521\n",
    "gamma = 1680\n",
    "fk = 113/10**5\n",
    "L0 = 25/10*10**9\n",
    "fstar = 1909/100*10**-3\n",
    "pm = 10**-12\n",
    "\n",
    "skyav=(4/5*sqrt(2)*sin(pi/3))\n",
    "\n",
    "# noise function, checked with Mathematica\n",
    "\n",
    "def Sacc(f):\n",
    "    return (3*10**-15)**2*(1+(4/10*10**-3/f)**2)*(1+(f/(8*10**-3))**4)\n",
    "\n",
    "def Sgal(f):\n",
    "    return Amp*f**(-7/3)*exp(-f**alpha+beta*f*sin(kappa*f))*(1+tanh(gamma*(fk-f)))\n",
    "\n",
    "def Soms(f):\n",
    "    return (10. *pm)**2*(1+(2*10**-3/f)**4)  # noi: 10\n",
    "\n",
    "def Sacc(f):\n",
    "    return (3*10**-15)**2*(1+(4/10*10**-3/f)**2)*(1+(f/(8*10**-3))**4)\n",
    "    \n",
    "def SnSA(f):\n",
    "    return 10/3*(4*Sacc(f)/(2*pi*f)**4+Soms(f))/(L0**2)*(1+6/10*(f/fstar)**2)\n",
    "\n",
    "def R(f):\n",
    "    return 3/20*2\n",
    "\n",
    "def Sn(f):\n",
    "    return abs(SnSA(f)+Sgal(f))\n",
    "\n",
    "def Pn(f): # gravitational wave frequency\n",
    "    return abs(Sn(f)*R(f))\n",
    "\n",
    "def Aplus(iota,psi):\n",
    "    return -(1+cos(iota)**2)*cos(2*psi)-2*cos(iota)*sin(2*psi)\n",
    "\n",
    "def Across(iota,psi):\n",
    "    return (1+cos(iota)**2)*sin(2*psi)-2*cos(iota)*cos(2*psi)\n",
    "\n",
    "def Fplus(theta,phi):\n",
    "    return 1/2*(1+cos(theta)**2)*cos(2*phi)\n",
    "\n",
    "def Fcross(theta,phi):\n",
    "    return cos(theta)*sin(2*phi)\n",
    "\n",
    "def factorsky(iota,psi,theta,phi):\n",
    "    return Fplus(theta,phi)*Aplus(iota,psi)+1j*Fcross(theta,phi)*Across(iota,psi)\n",
    "\n",
    "def factorskySNR(iota,psi,theta,phi):\n",
    "    return abs(sqrt(2)*sin(pi/3)*(Fplus(theta,phi)*Aplus(iota,psi)+1j*Fcross(theta,phi)*Across(iota,psi)))\n"
   ]
  },
  {
   "cell_type": "code",
   "execution_count": 9,
   "metadata": {},
   "outputs": [
    {
     "name": "stdout",
     "output_type": "stream",
     "text": [
      "1.1371737338193066e-14\n"
     ]
    }
   ],
   "source": [
    "# waveform\n",
    "\n",
    "def ampl(m1,m2,d): \n",
    "    return (Mc(m1,m2)*G)**(5/6)*sqrt(5/24)/(pi**(2/3)*d*c**(3/2))\n",
    "def habs(m1,m2,d,f): # gravitational wave frequency\n",
    "    return ampl(m1,m2,d)*f**(-7/6)\n",
    "\n",
    "print(habs(12.4913,12.3884,10.8287*10**6*pc,1./cc))"
   ]
  },
  {
   "cell_type": "code",
   "execution_count": 10,
   "metadata": {},
   "outputs": [],
   "source": [
    "def fMIN2(fmax0,m1,m2,Tobs): # gravitational wave frequency\n",
    "    return 1/(1/fmax0**(8/3)+256/5*(Mc(m1,m2)/cc)**(5/3)*pi**(8/3)*(Tobs))**(3/8)\n",
    "\n",
    "def tofmax(m1,m2,fmin,Tobs): # gravitational wave frequency\n",
    "    return fmin*((5.*cc)/(5*cc-256*fmin**(8/3)*pi**(8/3)*Tobs*Mc(m1,m2)*(Mc(m1,m2)/cc)**(2/3)))**(3/8)\n",
    "\n",
    "\n",
    "# gives fmax, given fmin and Tobs. If fmax is above 10 Hz, gives 10 Hz instead. frequency is always in Hz\n",
    "\n",
    "def getfmax(m1,m2,fmin,Tobs): # gravitational wave frequency\n",
    "    if fMIN2(1,m1,m2,Tobs)>fmin:\n",
    "        return tofmax(m1,m2,fmin,Tobs)\n",
    "    else: \n",
    "        return 1\n",
    "    \n",
    "def Tmerger(m1,m2,fmin): # gravitational wave frequency\n",
    "    return 5. * (m1 + m2)**(1./3.) * cc**(5./3.)/ (256. * fmin**(8./3.) * m1 * m2 * pi**(8./3.))"
   ]
  },
  {
   "cell_type": "code",
   "execution_count": 11,
   "metadata": {},
   "outputs": [],
   "source": [
    "# here we define the SNR; \n",
    "# be careful that I have already put the factor for the sky average\n",
    "# we use the GW only template.\n",
    "\n",
    "def SNR(iota,psi,theta,phi,fmin,fmax,m1,m2,d): # gravitational wave frequency\n",
    "    return sqrt(4*integrate.quad(lambda x: (factorskySNR(iota,psi,theta,phi)*habs(m1,m2,d, x/cc))**2/(Pn(x)*(cc**2)), fmin, fmax)[0])\n",
    "#different noise here!\n",
    "\n",
    "def SNRAverage(fmin,fmax,m1,m2,d): # gravitational wave frequency\n",
    "    return sqrt(4*integrate.quad(lambda x: (skyav*habs(m1,m2,d, x/cc))**2/(Pn(x)*(cc**2)), fmin, fmax)[0])\n",
    "\n",
    "\n",
    "#print(SNR(pi/4,pi/4,pi/4,pi/4,0.01,fmax(30*Msol,10*Msol,0.01,10*year),60*Msol,10*Msol,400*10**6*pc),400*10**6*pc)\n",
    "#print(SNR(pi/4,pi/4,pi/4,pi/4,0.01,1,10*Msol,20*Msol,10**23))\n",
    "from scipy.optimize import root_scalar\n",
    "def findFmin(timemerger,m1,m2):\n",
    "    def condition(fmin):\n",
    "        return timemerger-Tmerger(m1,m2,fmin)\n",
    "    return root_scalar(condition,bracket=(10**-4,0.1)).root\n",
    "\n",
    "def randrate(lamb):\n",
    "    u = random.random()\n",
    "    return lamb / np.log(1/u)"
   ]
  },
  {
   "cell_type": "code",
   "execution_count": 90,
   "metadata": {},
   "outputs": [
    {
     "name": "stdout",
     "output_type": "stream",
     "text": [
      "9.07125245940824\n"
     ]
    }
   ],
   "source": [
    "z = 0.24716227944027847\n",
    "tmerger = 5.073762956477287*year\n",
    "m1 = 88.7\n",
    "m2 = 64.93\n",
    "(iota, psi, theta, phi)=2.23353428920549, 5.484427462941964, 2.014813251983311, 2.374251372635906\n",
    "fmin = findFmin(tmerger,m1,m2)\n",
    "#print(fmin)\n",
    "tobs = 6.*year\n",
    "fmax= getfmax(m1*(1.+z),m2*(1.+z),fmin/(1+z),tobs)\n",
    "#print(fmax)\n",
    "loSNR=SNR(iota,psi,theta,phi,fmin/(1+z),fmax,m1*(1+z),m2*(1+z),distL(z))\n",
    "print(loSNR) # 6.155,9.07"
   ]
  },
  {
   "cell_type": "code",
   "execution_count": 13,
   "metadata": {},
   "outputs": [
    {
     "name": "stdout",
     "output_type": "stream",
     "text": [
      "true: 0.13 0.43 0.020000000000000004\n",
      "result: 0.13013304038107198 0.43117821341538387 0.020336377814847435\n"
     ]
    }
   ],
   "source": [
    "# TEST to find the right Gamma distribution for the GW190521-based rate\n",
    "\n",
    "rateGW190521_median = 0.13\n",
    "rateGW190521_90 = 0.13+0.30\n",
    "rateGW190521_10 = 0.13-0.11\n",
    "k=1\n",
    "\n",
    "samples=np.random.gamma(k, scale=rateGW190521_median*1.46, size=10000);\n",
    "print('true:',rateGW190521_median,rateGW190521_90,rateGW190521_10)\n",
    "print('result:',stat.median(samples),np.percentile(samples, 90),np.percentile(samples, 10))\n",
    "\n",
    "#k=3 works better with smaller k!\n",
    "\n",
    "#samples=np.random.gamma(k, scale=rateGW190521_median*0.375, size=10000);\n",
    "#print('true:',rateGW190521_median,rateGW190521_90,rateGW190521_10)\n",
    "#print('result:',stat.median(samples),np.percentile(samples, 90),np.percentile(samples, 10))"
   ]
  },
  {
   "cell_type": "code",
   "execution_count": 91,
   "metadata": {},
   "outputs": [],
   "source": [
    "def gendistr(N,iteration,massoption,SNRth):\n",
    "    \n",
    "\n",
    "    N=int(N)\n",
    "    # Define functions to store intermediate products; I haven't decided on the most convenient format for the final catalogs yet...\n",
    "\n",
    "    #massmin=50*Msol\n",
    "    #massmax=100*Msol\n",
    "\n",
    "    # Largest horizon redshift; don't waste computing time above this\n",
    "    zmax = 0.512\n",
    "    zmin = 0.1\n",
    "    # Largest comoving distance for sampling\n",
    "    #??? dove la usa? -->  cdmax=astropy.cosmology.Planck15.comoving_distance(zmax).value # Mpc\n",
    "    # z pdf normalization. Comoving volume at largest redshift (because comoving volume at z=0 is 0)\n",
    "    # Vczhor = (astropy.cosmology.Planck15.comoving_volume(zmax)/astropy.units.Gpc**3).decompose().value #Gpc^3\n",
    "    # largest merger time (yrs)\n",
    "    tobs = 10\n",
    "    # ground-based duty cycle\n",
    "    dutycycle=1\n",
    "\n",
    "    data=[]\n",
    "    for i in range(N):\n",
    "\n",
    "        #Comoving distance uniform on sphere\n",
    "        #while True:\n",
    "        #    cd = np.sum(np.random.uniform(0, cdmax,3)**2)**0.5\n",
    "        #    if cd<cdmax: break\n",
    "        # Convert to redshift\n",
    "        #z = astropy.cosmology.z_at_value(astropy.cosmology.Planck15.comoving_distance,cd*astropy.units.Mpc )\n",
    "        # Convert to luminosity distance\n",
    "\n",
    "\n",
    "        z = np.random.uniform(zmin,zmax)\n",
    "        dl = distL(z)\n",
    "        \n",
    "        totalrate={}\n",
    "\n",
    "        # Mass spectrum (rates in Mpc)\n",
    "        if massoption=='log': # Log flat distribution in both masses\n",
    "            bothm=10**np.random.uniform(np.log10(massmin),np.log10(massmax),2)\n",
    "            m1= max(bothm)\n",
    "            m2= min(bothm)\n",
    "            totalrate['median'] = 0.13*10**(-9)\n",
    "        \n",
    "        if massoption == 'EOB':\n",
    "            index = np.random.choice(len(eobdata))\n",
    "            m1 = Msol*eobdata[index][0]\n",
    "            m2 = Msol*eobdata[index][1]\n",
    "            totalrate['median'] = 0.13*10**(-9) \n",
    "        if massoption == 'NRconstRate':\n",
    "            index = np.random.choice(len(NRdata))\n",
    "            m1 = Msol*NRdata[index][0]\n",
    "            m2 = Msol*NRdata[index][1]\n",
    "            totalrate['median'] = 0.13*10**(-9) \n",
    "        if massoption == 'NR':\n",
    "            index = np.random.choice(len(NRdata))\n",
    "            m1 = Msol*NRdata[index][0]\n",
    "            m2 = Msol*NRdata[index][1]\n",
    "            totalrate['median'] = 0.13*10**(-9) \n",
    "            totalrate['median'] = np.random.gamma(1, scale=totalrate['median']*1.46); #NEW, only here\n",
    "        if massoption == 'PHEN':\n",
    "            index = np.random.choice(len(PHENdata))\n",
    "            m1 = Msol*PHENdata[index][0]\n",
    "            m2 = Msol*PHENdata[index][1]\n",
    "            totalrate['median'] = 0.13*10**(-9) \n",
    "            \n",
    "        if massoption == 'powerlawpeak':\n",
    "            flat = mass_ppd_norm.flatten()/mass_ppd_norm.flatten().sum()\n",
    "            sample_index = np.random.choice(a=flat.size, p=flat)\n",
    "            adjusted_index = np.unravel_index(sample_index, mass_ppd.shape)\n",
    "            m1 = Msol*mass_1[adjusted_index[1]]\n",
    "            q = mass_ratio[adjusted_index[0]]\n",
    "            m2 = Msol*m1 * q\n",
    "            totalrate['median'] = rate_powerlawpeak * 10**(-9) \n",
    "            \n",
    "        if massoption == 'powerlawpeak_cutoff':\n",
    "            flat = mass_ppd_norm.flatten()/mass_ppd_norm.flatten().sum()\n",
    "            sample_index = np.random.choice(a=flat.size, p=flat)\n",
    "            adjusted_index = np.unravel_index(sample_index, mass_ppd.shape)\n",
    "            m1 = Msol*mass_1[adjusted_index[1]]\n",
    "            q = mass_ratio[adjusted_index[0]]\n",
    "            m2 = Msol*m1 * q\n",
    "            if m1>=45*Msol:\n",
    "                totalrate['median'] = rate_powerlawpeak * 10**(-9) \n",
    "            else:\n",
    "                totalrate['median'] = 0\n",
    "            \n",
    "        \n",
    "        #if massoption=='powerlaw': # Power law with spectral index alpha in primary; uniform in secondary\n",
    "        #    alpha=-2.3\n",
    "        #    m1 = (massmin**(alpha+1.)+np.random.uniform(0.,1.)*(massmax**(alpha+1.)-massmin**(alpha+1.)))**(1./(alpha+1.))\n",
    "        #    m2 = np.random.uniform(massmin,m1)\n",
    "        #    totalrate['median'] =  0.13*10**(-9)\n",
    "            \n",
    "        # Sky-location, inclination, polarization, initial phase\n",
    "        cosiota = random.uniform(-1.,1.)\n",
    "        psi = random.uniform(0,2*pi)\n",
    "        costheta=random.uniform(-1.,1.)\n",
    "        phi=random.uniform(0,2*pi)\n",
    "        iota=np.arccos(cosiota)\n",
    "        theta=np.arccos(costheta)\n",
    "        #phic = np.random.uniform(0,2.*np.pi)\n",
    "        \n",
    "        # Merger time\n",
    "        tmaxmerger = 41*year\n",
    "        tminmerger = 1*year\n",
    "        tmerger=np.random.uniform(tminmerger,tmaxmerger)\n",
    "        \n",
    "        #fmin=np.random.uniform(1e-5,0.01)\n",
    "        fmin=findFmin(tmerger,m1,m2)\n",
    "        Fmax= getfmax(m1*(1.+z),m2*(1.+z),fmin/(1.+z),tobs*year)\n",
    "        #Fmax = 1 #Fmax=1\n",
    "        snr=SNR(iota,psi,theta,phi,fmin/(1+z),Fmax,m1*(1+z),m2*(1+z),dl)* np.sqrt(dutycycle)\n",
    "\n",
    "\n",
    "        # Order from Antoine's code:\n",
    "        # double m1 = atof(argv[1]);\n",
    "        # double m2 = atof(argv[2]);\n",
    "        # double costhN = atof(argv[3]);\n",
    "        # double phiN = atof(argv[4]);\n",
    "        # double dist = atof(argv[5]);\n",
    "        # double costhL = atof(argv[6]);\n",
    "        # double phiL = atof(argv[7]);\n",
    "        # double tmerger = atof(argv[8]);\n",
    "        # double phic = atof(argv[9]);\n",
    "\n",
    "        # Here I pile up together some factors in the rate integral\n",
    "        #dVcdz = dVdz(z)\n",
    "        dVcdz = cosmo.comoving_volume(z).value \n",
    "        \n",
    "        # Extract rate from a Gamma distribution\n",
    "        rate = totalrate['median'] #randrate(totalrate['median']) #1/np.random.gamma(1,1/totalrate['median'])\n",
    "        \n",
    "        integralbulk = rate * (tmaxmerger - tminmerger)/year/(1.+z) * (zmax-zmin) * dVcdz *np.heaviside(snr-SNRth,0) * dutycycle\n",
    "\n",
    "        data.append(np.array([m1,m2,z,fmin,integralbulk,snr]))\n",
    "\n",
    "    return np.array(data).T\n",
    "\n"
   ]
  },
  {
   "cell_type": "code",
   "execution_count": 92,
   "metadata": {},
   "outputs": [],
   "source": [
    "def consolidatedistr(Nsingle,iterations,massoption,SNRth):\n",
    "\n",
    "    Nsingle = int(Nsingle)\n",
    "    iterations = int(iterations)\n",
    "\n",
    "    Ntot = Nsingle*iterations\n",
    "    data=[]\n",
    "    for it in range(0,iterations):\n",
    "        data.append(gendistr(Nsingle,it,massoption,SNRth))\n",
    "\n",
    "    data=np.array(data)\n",
    "\n",
    "    #[m1,m2,z,pdetLIGO,pdetCE,tmerger,SNR4,SNR10,integralbulk]\n",
    "\n",
    "    m1 = np.concatenate(data[:,0])\n",
    "    m2 = np.concatenate(data[:,1])\n",
    "    z = np.concatenate(data[:,2])\n",
    "    #pdetLIGO = np.concatenate(data[:,3])\n",
    "    #pdetCE = np.concatenate(data[:,4])\n",
    "    #tmerger = np.concatenate(data[:,3])\n",
    "    fmin = np.concatenate(data[:,3])\n",
    "    #SNR4 = np.concatenate(data[:,6])\n",
    "    #SNR10 = np.concatenate(data[:,7])\n",
    "    integralbulk = np.concatenate(data[:,4])\n",
    "    SNR10 = np.concatenate(data[:,5])\n",
    "\n",
    "    return m1,m2,z,fmin,integralbulk,SNR10"
   ]
  },
  {
   "cell_type": "code",
   "execution_count": 93,
   "metadata": {},
   "outputs": [],
   "source": [
    "def Nevents(bigdata):\n",
    "\n",
    "    # bigdata is the output of consolidatedistr\n",
    "    m1,m2,z,fmin,integralbulk,SNR10 = bigdata #consolidatedistr(Nsingle,iterations)\n",
    "\n",
    "    Ntot = len(m1)\n",
    "\n",
    "    # The rate is already sampled in gendistr!\n",
    "    '''\n",
    "    # Intrisinc merger rate from LIGO O2 catalog. Use the numbers reported in Sec 4 of 1811.12940, which averages over the two pipelines.\n",
    "    totalrate={}\n",
    "    if massoption=='powerlaw':\n",
    "        totalrate['median'] =  0.13*10**(-9)\n",
    "        totalrate['upper'] = (0.13 + .30)*10**(-9)\n",
    "        totalrate['lower'] = (57. - 25.)*10**(-9)\n",
    "    if massoption=='log':\n",
    "        totalrate['median'] = 0.13*10**(-9)\n",
    "        totalrate['upper'] = (0.13 + .30)*10**(-9)\n",
    "        totalrate['lower'] = (0.13 - 0.11)*10**(-9)\n",
    "        \n",
    "    if massoption=='EOB':\n",
    "        totalrate['median'] = 0.13*10**(-9) \n",
    "        totalrate['upper'] = (0.13 + .30)*10**(-9)\n",
    "        totalrate['lower'] = (0.13 - 0.11)*10**(-9)\n",
    "    if massoption=='NR':\n",
    "        totalrate['median'] = 0.13*10**(-9) \n",
    "        totalrate['upper'] = (0.13 + .30)*10**(-9)\n",
    "        totalrate['lower'] = (0.13 - 0.11)*10**(-9)\n",
    "    if massoption=='PHEN':\n",
    "        totalrate['median'] = 0.13*10**(-9) \n",
    "        totalrate['upper'] = (0.13 + .30)*10**(-9)\n",
    "        totalrate['lower'] = (0.13 - 0.11)*10**(-9)\n",
    "    '''\n",
    "\n",
    "    \n",
    "    montecarlo_contributions = 1./ Ntot * integralbulk  #* totalrate[rateinterval] \n",
    "    \n",
    "\n",
    "    return np.sum(montecarlo_contributions)\n",
    "\n"
   ]
  },
  {
   "cell_type": "markdown",
   "metadata": {},
   "source": [
    "# RESULTS"
   ]
  },
  {
   "cell_type": "code",
   "execution_count": 279,
   "metadata": {},
   "outputs": [
    {
     "name": "stdout",
     "output_type": "stream",
     "text": [
      "49.24754743502235\n"
     ]
    }
   ],
   "source": [
    "# We downloaded the rate per unit mass and mass ratio for the POWER LAW+PEAK model in the O3 population paper\n",
    "# we then sampled masses and mass ratios from this distribution, and computed m2\n",
    "# we also computed the rate from the LVC data\n",
    "\n",
    "# here thr: SNR>8, noise= 10pm, DC =100%, Tobs = 10yrs \n",
    "\n",
    "med = Nevents(consolidatedistr(10**5,1,'powerlawpeak',8)) \n",
    "print(med)"
   ]
  },
  {
   "cell_type": "code",
   "execution_count": 280,
   "metadata": {},
   "outputs": [
    {
     "name": "stdout",
     "output_type": "stream",
     "text": [
      "18.641687525647825\n"
     ]
    }
   ],
   "source": [
    "# out of the events above, we select the once for which m1> 45, to pick out the \"AGN binaries\"\n",
    "# ?other ideas on how to make this selection?\n",
    "\n",
    "med = Nevents(consolidatedistr(10**5,1,'powerlawpeak_cutoff',8)) \n",
    "print(med)"
   ]
  },
  {
   "cell_type": "code",
   "execution_count": 95,
   "metadata": {
    "jupyter": {
     "outputs_hidden": true
    }
   },
   "outputs": [
    {
     "name": "stdout",
     "output_type": "stream",
     "text": [
      "6.3069197700395225\n"
     ]
    }
   ],
   "source": [
    "# for reference, this is the rate predicted by GW190521 under the same conditions. \n",
    "# note that NR is the waveform model used to compute the GW190521 rate, so it's the most sensible to use here\n",
    "# !we are yet to include the uncertainity in the rate. a Poisson error in N should be ok..!\n",
    "\n",
    "med = Nevents(consolidatedistr(10**5,1,'NRconstRate',8)) \n",
    "print(med)"
   ]
  },
  {
   "cell_type": "code",
   "execution_count": 96,
   "metadata": {},
   "outputs": [
    {
     "name": "stdout",
     "output_type": "stream",
     "text": [
      "9.101961722515517\n"
     ]
    }
   ],
   "source": [
    "# new NR with rate distribution (within Nsingle)\n",
    "\n",
    "med = Nevents(consolidatedistr(10**5,1,'NR',8)) \n",
    "print(med)"
   ]
  },
  {
   "cell_type": "markdown",
   "metadata": {},
   "source": [
    "### Comparison samples"
   ]
  },
  {
   "cell_type": "code",
   "execution_count": 44,
   "metadata": {},
   "outputs": [],
   "source": [
    "m1samples= [] \n",
    "qsamples = []\n",
    "for i in range(6300):\n",
    "    flat = mass_ppd_norm.flatten()/mass_ppd_norm.flatten().sum()\n",
    "    sample_index = np.random.choice(a=flat.size, p=flat)\n",
    "    adjusted_index = np.unravel_index(sample_index, mass_ppd.shape)\n",
    "    m1 = mass_1[adjusted_index[1]]\n",
    "    q = mass_ratio[adjusted_index[0]]\n",
    "    m1samples.append(m1)\n",
    "    qsamples.append(q) \n",
    "    "
   ]
  },
  {
   "cell_type": "code",
   "execution_count": 43,
   "metadata": {},
   "outputs": [
    {
     "data": {
      "text/plain": [
       "6300"
      ]
     },
     "execution_count": 43,
     "metadata": {},
     "output_type": "execute_result"
    }
   ],
   "source": [
    "samplesAndrea = np.loadtxt('samples_ary.txt')\n",
    "len(samplesAndrea)"
   ]
  },
  {
   "cell_type": "code",
   "execution_count": 84,
   "metadata": {},
   "outputs": [],
   "source": [
    "m1_ppd=np.sum(mass_ppd,axis=0)*(mass_ratio[1]-mass_ratio[0])/np.sum(mass_ppd_norm)"
   ]
  },
  {
   "cell_type": "code",
   "execution_count": 89,
   "metadata": {},
   "outputs": [
    {
     "data": {
      "text/plain": [
       "Text(0, 0.5, '$p(m1)$')"
      ]
     },
     "execution_count": 89,
     "metadata": {},
     "output_type": "execute_result"
    },
    {
     "data": {
      "image/png": "[encoded data removed]",
      "text/plain": [
       "<Figure size 432x288 with 1 Axes>"
      ]
     },
     "metadata": {
      "needs_background": "light"
     },
     "output_type": "display_data"
    }
   ],
   "source": [
    "plt.hist(m1samples,100,alpha=0.5,density=True,label='Laura')\n",
    "plt.hist(samplesAndrea[:,1],100,alpha=0.5,density=True,label='Andrea')\n",
    "plt.plot(mass_1,m1_ppd,label='True')\n",
    "plt.xlabel(r\"$m1$\")\n",
    "plt.legend()\n",
    "plt.ylabel(r\"$p(m1)$\")\n",
    "#plt.gca().set_yticks([]);"
   ]
  },
  {
   "cell_type": "code",
   "execution_count": 45,
   "metadata": {},
   "outputs": [
    {
     "data": {
      "text/plain": [
       "Text(0, 0.5, 'm1')"
      ]
     },
     "execution_count": 45,
     "metadata": {},
     "output_type": "execute_result"
    },
    {
     "data": {
      "image/png": "[encoded data removed]",
      "text/plain": [
       "<Figure size 432x288 with 1 Axes>"
      ]
     },
     "metadata": {
      "needs_background": "light"
     },
     "output_type": "display_data"
    }
   ],
   "source": [
    "plt.scatter(qsamples, m1samples, s=1)\n",
    "plt.xlabel('q')\n",
    "plt.ylabel('m1')"
   ]
  },
  {
   "cell_type": "code",
   "execution_count": 46,
   "metadata": {},
   "outputs": [
    {
     "data": {
      "text/plain": [
       "Text(0, 0.5, 'm1')"
      ]
     },
     "execution_count": 46,
     "metadata": {},
     "output_type": "execute_result"
    },
    {
     "data": {
      "image/png": "[encoded data removed]",
      "text/plain": [
       "<Figure size 432x288 with 1 Axes>"
      ]
     },
     "metadata": {
      "needs_background": "light"
     },
     "output_type": "display_data"
    }
   ],
   "source": [
    "plt.scatter(samplesAndrea[:,0], samplesAndrea[:,1], s=1)\n",
    "plt.xlabel('q')\n",
    "plt.ylabel('m1')"
   ]
  },
  {
   "cell_type": "code",
   "execution_count": 4,
   "metadata": {},
   "outputs": [],
   "source": [
    "#mass_ppd.shape\n",
    "#mass_and_ratio = np.zeros(mass_ppd.shape)#,dtype=tuple)\n",
    "#for i in range(mass_ppd.shape[0]):\n",
    "#    for j in range(mass_ppd.shape[1]):\n",
    "#        mass_and_ratio[i,j] = mass_ratio[i]*mass_1[j]"
   ]
  },
  {
   "cell_type": "code",
   "execution_count": 97,
   "metadata": {},
   "outputs": [
    {
     "name": "stdout",
     "output_type": "stream",
     "text": [
      "24.87981296458682\n"
     ]
    }
   ],
   "source": [
    "#flat = mass_ppd.flatten()/np.trapz(np.trapz(mass_ppd, mass_ratio, axis=0), mass_1, axis=0)\n",
    "#mass_ppd_norm = np.zeros(mass_ppd.shape)#,dtype=tuple)\n",
    "\n",
    "#for i in range(mass_ppd.shape[0]-1): #ratio\n",
    "#    for j in range(mass_ppd.shape[1]-1): #m1\n",
    "#        if i<mass_ppd.shape[0]:\n",
    "#            mass_ppd_norm[i,j] = mass_ppd[i,j] * (mass_ratio[i+1]-mass_ratio[i])\n",
    "#        else:\n",
    "#            mass_ppd_norm[i,j] = mass_ppd[i,j] * 0\n",
    "#        if j<mass_ppd.shape[1]:\n",
    "#            mass_ppd_norm[i,j] = mass_ppd_norm[i,j] * (mass_1[j+1]-mass_1[j])\n",
    "#        else:\n",
    "#            mass_ppd_norm[i,j] = mass_ppd_norm[i,j] * 0 \n",
    "\n"
   ]
  }
 ],
 "metadata": {
  "kernelspec": {
   "display_name": "Python 3",
   "language": "python",
   "name": "python3"
  },
  "language_info": {
   "codemirror_mode": {
    "name": "ipython",
    "version": 3
   },
   "file_extension": ".py",
   "mimetype": "text/x-python",
   "name": "python",
   "nbconvert_exporter": "python",
   "pygments_lexer": "ipython3",
   "version": "3.7.3"
  }
 },
 "nbformat": 4,
 "nbformat_minor": 4
}
