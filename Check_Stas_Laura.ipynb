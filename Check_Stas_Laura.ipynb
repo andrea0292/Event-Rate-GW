{
 "cells": [
  {
   "cell_type": "code",
   "execution_count": 1,
   "metadata": {},
   "outputs": [],
   "source": [
    "import numpy as np\n",
    "from numpy import sqrt\n",
    "from numpy import sin\n",
    "from numpy import pi\n",
    "from numpy import cos\n",
    "from numpy import exp\n",
    "from numpy import tanh\n",
    "from numpy import zeros\n",
    "from numpy import arccos\n",
    "from numpy import log10\n",
    "from matplotlib import pyplot as plt\n",
    "import scipy.optimize as opt\n",
    "import emcee\n",
    "from pylab import plot\n",
    "from scipy import integrate\n",
    "import corner\n",
    "import random\n",
    "from collections import Counter\n",
    "import time\n",
    "import scipy\n",
    "from scipy.stats import poisson # use as poisson.pmf(number of events , mean value)\n",
    "from scipy import optimize\n",
    "import multiprocessing as mp\n",
    "from multiprocessing import Pool\n",
    "import time\n",
    "import pickle\n",
    "\n",
    "import h5py\n",
    "import matplotlib as mpl\n",
    "from matplotlib import rcParams\n",
    "from matplotlib.lines import Line2D\n",
    "import matplotlib.patches\n",
    "from matplotlib.patches import Rectangle\n",
    "import matplotlib.colors\n",
    "from matplotlib import cm\n",
    "import glob\n",
    "import json\n",
    "from scipy.stats import gaussian_kde\n",
    "import sys\n",
    "import pandas as pd\n",
    "import statistics as stat\n",
    "#import deepdish as dd\n",
    "\n",
    "import astropy.units as u\n",
    "import astropy.constants as c\n",
    "from astropy.cosmology import FlatLambdaCDM, z_at_value\n",
    "from tqdm import *\n",
    "from astropy.cosmology import Planck15 as cosmo\n",
    "from astropy import constants as const\n",
    "\n",
    "rcParams[\"text.usetex\"] = True\n",
    "rcParams[\"font.serif\"] = \"Computer Modern\"\n",
    "rcParams[\"font.family\"] = \"Serif\"\n",
    "rcParams[\"xtick.labelsize\"]=14\n",
    "rcParams[\"ytick.labelsize\"]=14\n",
    "rcParams[\"xtick.direction\"]=\"in\"\n",
    "rcParams[\"ytick.direction\"]=\"in\"\n",
    "rcParams[\"legend.fontsize\"]=15\n",
    "rcParams[\"axes.labelsize\"]=16\n",
    "rcParams[\"axes.grid\"] = True\n",
    "rcParams[\"grid.color\"] = 'black'\n",
    "rcParams[\"grid.linewidth\"] = .1\n",
    "rcParams[\"grid.alpha\"] = 0.5"
   ]
  },
  {
   "cell_type": "code",
   "execution_count": 26,
   "metadata": {},
   "outputs": [],
   "source": [
    "#upload posterior samples for GW190521, LVC analysis\n",
    "eobdata = np.loadtxt('EOBmasses.dat')\n",
    "NRdata = np.loadtxt('NRmasses.dat')\n",
    "PHENdata = np.loadtxt('PHENmasses.dat')"
   ]
  },
  {
   "cell_type": "code",
   "execution_count": 27,
   "metadata": {
    "scrolled": true
   },
   "outputs": [
    {
     "name": "stdout",
     "output_type": "stream",
     "text": [
      "true: 0.13 0.43 0.020000000000000004\n",
      "result: 0.12997440334734967 0.36748744019811785 0.027590588323534657\n",
      "relative diff: 0.0001968973280795329 0.1453780460508887 -0.3795294161767326\n"
     ]
    }
   ],
   "source": [
    "# test to find the right Gamma distribution for the GW190521-based rate\n",
    "\n",
    "rateGW190521_median = 0.13\n",
    "rateGW190521_90 = 0.13+0.30\n",
    "rateGW190521_10 = 0.13-0.11\n",
    "k=2 \n",
    "\n",
    "samples=np.random.gamma(k, scale=rateGW190521_median*0.596, size=1000000);\n",
    "print('true:',rateGW190521_median,rateGW190521_90,rateGW190521_10)\n",
    "print('result:',stat.median(samples),np.percentile(samples, 95),np.percentile(samples, 5))\n",
    "print('relative diff:', (rateGW190521_median-stat.median(samples))/rateGW190521_median, \n",
    "      (rateGW190521_90-np.percentile(samples, 95))/rateGW190521_90, \n",
    "      (rateGW190521_10-np.percentile(samples, 5))/rateGW190521_10)\n"
   ]
  },
  {
   "cell_type": "code",
   "execution_count": 2,
   "metadata": {},
   "outputs": [],
   "source": [
    "# Power law + peak mass model (c) from https://dcc.ligo.org/public/0166/P2000077/011/main.pdf\n",
    "\n",
    "def powerlawq(q,beta,mmin,m1,delta_m):\n",
    "    m2 = m1*q\n",
    "    if mmin < m2 < m1:\n",
    "        return q**beta * smoothing(m1*q, mmin, delta_m)\n",
    "    else:\n",
    "        return 0\n",
    "    \n",
    "def shiftfunc(mp, delta):\n",
    "    return exp(delta/mp + delta / (mp-delta))\n",
    "\n",
    "def smoothing(m1, mmin, delta_m):\n",
    "    if m1 < mmin:\n",
    "        S = 0 \n",
    "    elif mmin <= m1 <= mmin + delta_m:\n",
    "        S = 1./(shiftfunc(m1-mmin,delta_m) + 1)\n",
    "    elif m1 >= mmin + delta_m:\n",
    "        S = 1\n",
    "    return S\n",
    "\n",
    "def powerlawm1(m1,lam,alpha,mmin,delta_m,mmax,mpp,sigmapp):\n",
    "    powerlawnorm = mmax**alpha * mmin**alpha * (alpha-1)/(mmax**alpha * mmin - mmax * mmin**alpha)\n",
    "    prefpower = (1-lam) * powerlawnorm * m1**(-alpha)#scipy.stats.powerlaw.pdf(1/m1, alpha+1, loc, scale) \n",
    "    prefpeak = lam * scipy.stats.norm.pdf(m1, mpp, sigmapp)\n",
    "    S = smoothing(m1, mmin, delta_m)\n",
    "        \n",
    "    return S * (prefpower + prefpeak)\n",
    "\n",
    "def powerlawpeak_dist(q,m1,lam,alpha,beta,mmin,delta_m,mmax,mpp,sigmapp):\n",
    "    return powerlawq(q,beta,mmin,m1,delta_m) * powerlawm1(m1,lam,alpha,mmin,delta_m,mmax,mpp,sigmapp)\n"
   ]
  },
  {
   "cell_type": "code",
   "execution_count": 12,
   "metadata": {
    "scrolled": true
   },
   "outputs": [
    {
     "name": "stderr",
     "output_type": "stream",
     "text": [
      "/usr/local/lib/python3.7/site-packages/matplotlib/font_manager.py:1241: UserWarning: findfont: Font family ['Serif'] not found. Falling back to DejaVu Sans.\n",
      "  (prop.get_family(), self.defaultFamily[fontext]))\n"
     ]
    },
    {
     "data": {
      "image/png": "[encoded data removed]",
      "text/plain": [
       "<Figure size 432x288 with 1 Axes>"
      ]
     },
     "metadata": {
      "needs_background": "light"
     },
     "output_type": "display_data"
    }
   ],
   "source": [
    "#mass data from O3a LVC population analysis https://dcc.ligo.org/public/0166/P2000077/011/main.pdf\n",
    "\n",
    "labels = [r\"\\textsc{Power Law + Peak}\"]\n",
    "filenames = [\"Multiple-Fig-Data/mass_ppd/default/o1o2o3_mass_c_iid_mag_two_comp_iid_tilt_powerlaw_redshift_mass_data.h5\"]\n",
    "plpeak_file = \"Population_Samples/default/o1o2o3_mass_c_iid_mag_two_comp_iid_tilt_powerlaw_redshift_result.json\"\n",
    "\n",
    "# range of masses\n",
    "mass_1 = np.linspace(3, 100, 1000)\n",
    "mass_ratio = np.linspace(0.1, 1, 500)\n",
    "\n",
    "# Get the posterior on the location of the Gaussian peak of Power Law + Peak\n",
    "with open(plpeak_file,\"r\") as jfile:\n",
    "    plpeak_jf = json.load(jfile)\n",
    "    \n",
    "posterior_samples_plpeak = plpeak_jf['posterior']['content']\n",
    "#peak_plp = posterior_samples_plpeak['mpp']\n",
    "#peak_plp_05 = np.quantile(peak_plp,0.05)\n",
    "#peak_plp_95 = np.quantile(peak_plp,0.95)\n",
    "\n",
    "for i,ff in enumerate(filenames):\n",
    "       \n",
    "    f = h5py.File(\"{0}\".format(ff),\"r\")\n",
    "        \n",
    "    # Load mass distribution data\n",
    "    # \"ppd\" : A 2D PPD in m1 vs. q space, the average!\n",
    "    # \"lines\" : A collection of individual m1 and q population distributions\n",
    "    mass_ppd = f[\"ppd\"][:,:] \n",
    "    #mass_lines = f[\"lines\"]\n",
    "    index_lines_max=mass_lines[\"mass_ratio\"].shape[0]\n",
    "    rate_powerlawpeak = np.trapz(np.trapz(mass_ppd, mass_ratio, axis=0),mass_1,axis=0) # rate used\n",
    "        \n",
    "        # Integrate the 2D PPD over mass ratio to get marginal m1 PPD\n",
    "    #mass_1_ppd = np.trapz(mass_ppd, mass_ratio, axis=0)   \n",
    "        # Get 0.05 and 0.95 percentiles at each m1\n",
    "    #mass_1_lower = np.percentile(mass_lines[\"mass_1\"], 5, axis=0)\n",
    "    #mass_1_upper = np.percentile(mass_lines[\"mass_1\"], 95, axis=0)\n",
    "        \n",
    "    X, Y = np.mgrid[0.1:1:0.9/500, 3:100:97./1000]\n",
    "    plt.pcolor(X, Y, mass_ppd)\n",
    "    plt.show()   \n"
   ]
  },
  {
   "cell_type": "code",
   "execution_count": 56,
   "metadata": {},
   "outputs": [
    {
     "name": "stderr",
     "output_type": "stream",
     "text": [
      "/usr/local/lib/python3.7/site-packages/ipykernel_launcher.py:11: RuntimeWarning: overflow encountered in exp\n",
      "  # This is added back by InteractiveShellApp.init_path()\n"
     ]
    },
    {
     "name": "stdout",
     "output_type": "stream",
     "text": [
      "1357.621896\n"
     ]
    }
   ],
   "source": [
    "# generate population ppd from the pop parameter samples. takes a long time!\n",
    "\n",
    "samples_pop=plpeak_jf['posterior']['content']\n",
    "size_samples_pop=len(samples_pop['rate'])\n",
    "N_pop_samples =1000\n",
    "sample_inds=np.random.randint(size_samples_pop,size=N_pop_samples)\n",
    "\n",
    "t = time.process_time()\n",
    "new_pops = zeros((N_pop_samples,len(mass_ratio),len(mass_1)))\n",
    "\n",
    "for k in range(N_pop_samples):\n",
    "    index_p= sample_inds[k]\n",
    "    firstterms=list(map(lambda x: powerlawm1(x,samples_pop['lam'][index_p],samples_pop['alpha'][index_p],\n",
    "                                             samples_pop['mmin'][index_p],samples_pop['delta_m'][index_p],\n",
    "                                             samples_pop['mmax'][index_p],samples_pop['mpp'][index_p],\n",
    "                                             samples_pop['sigpp'][index_p]), mass_1))\n",
    "    for i in range(len(mass_1)):\n",
    "        for j in range(len(mass_ratio)):\n",
    "            secondterm=powerlawq(mass_ratio[j],samples_pop['beta'][index_p],samples_pop['mmin'][index_p],\n",
    "                             mass_1[i],samples_pop['delta_m'][index_p])\n",
    "            new_pops[k,j,i]=firstterms[i]*secondterm\n",
    "\n",
    "elapsed_time = time.process_time() - t\n",
    "print(elapsed_time)\n"
   ]
  },
  {
   "cell_type": "code",
   "execution_count": 57,
   "metadata": {},
   "outputs": [],
   "source": [
    "#put rates in an array\n",
    "\n",
    "#rates_pops = []\n",
    "#for i in range(N_pop_samples):\n",
    "#    rates_pops.append(samples_pop['rate'][sample_inds[i]])"
   ]
  },
  {
   "cell_type": "code",
   "execution_count": 58,
   "metadata": {},
   "outputs": [],
   "source": [
    "# write to pickle\n",
    "\n",
    "#pickle.dump( new_pops, open( \"samples_massmodel_c.pkl\", \"wb\" ) )\n",
    "#pickle.dump( rates_pops, open( \"samples_rates_massmodel_c.pkl\", \"wb\" ) )\n",
    "\n"
   ]
  },
  {
   "cell_type": "code",
   "execution_count": 3,
   "metadata": {},
   "outputs": [],
   "source": [
    "#read from pickle\n",
    "\n",
    "new_pops = pickle.load( open( \"samples_massmodel_c.pkl\", \"rb\" ) )\n",
    "rates_pops = pickle.load( open( \"samples_rates_massmodel_c.pkl\", \"rb\" ) )\n"
   ]
  },
  {
   "cell_type": "markdown",
   "metadata": {},
   "source": [
    "## SNR frequency and noise functions"
   ]
  },
  {
   "cell_type": "code",
   "execution_count": 4,
   "metadata": {},
   "outputs": [],
   "source": [
    "import cmath\n",
    "# we work in geometrized units\n",
    "Msol = 1.47680000000000000000000000000000000 # in km\n",
    "c = 1 # we have actually put them to one everywhere in the code already\n",
    "G = 1\n",
    "year = 60*60*24*(365.250000000000000000000000000); # s\n",
    "cc = 2.9980000000000000000000000000000*10**5 # velocity of light in Km/s\n",
    "pc = 3.0856770000000000000000000000*10**13 # km\n",
    "\n",
    "H0 = 67.9 # km /s / Mpc # changed to PLANCK 2015\n",
    "Omegam = 0.306\n",
    "OmegaL = 0.694\n",
    "Omegar = 0.\n",
    "\n",
    "# some useful functions \n",
    "def distL(z):\n",
    "    return (1+z) * integrate.quad(invE,0,z)[0] *cc / H0 *10**6*pc # km\n",
    "\n",
    "def Ez(z):\n",
    "    return sqrt(Omegar*(1+z)**4+Omegam*(1+z)**3+OmegaL)\n",
    "\n",
    "def invE(z):\n",
    "    return 1. / Ez(z)\n",
    "\n",
    "def primopezzo(zp):\n",
    "    return 1/Ez(zp)*(integrate.quad(invE,0,zp)[0])**2\n",
    "\n",
    "def dVdz(z):\n",
    "    return 4*pi*(cc/H0)**3*primopezzo(z) # Mpc**3\n",
    "\n",
    "def dtdf(f,m1,m2):  # Hz, km, km, gravitational wave frequency\n",
    "    return 5/(96*pi**(8/3))*(1./cc*(m1 + m2)*(m1*m2/(m1 + m2)**2)**(3/5))**(-5/\n",
    "  3)*f**(-11/3)  # s^2, assuming f in Hz and m in km\n",
    "\n",
    "def solof(f):\n",
    "    return f**(-11/3)\n",
    "\n",
    "def nu(m1,m2):\n",
    "    return m1*m2/((m1+m2)**2)\n",
    "\n",
    "def Mc(m1,m2):\n",
    "    return (m1 + m2) * (m1*m2/((m1+m2)**2))**(3/5)"
   ]
  },
  {
   "cell_type": "code",
   "execution_count": 5,
   "metadata": {},
   "outputs": [],
   "source": [
    "# LISA noise parameters\n",
    "Amp = 5/10*18/10*10**-44\n",
    "alpha = 138/1000\n",
    "beta = -221\n",
    "kappa = 521\n",
    "gamma = 1680\n",
    "fk = 113/10**5\n",
    "L0 = 25/10*10**9\n",
    "fstar = 1909/100*10**-3\n",
    "pm = 10**-12\n",
    "\n",
    "skyav=(4/5*sqrt(2)*sin(pi/3))\n",
    "\n",
    "# noise function, checked with Mathematica\n",
    "\n",
    "def Sacc(f):\n",
    "    return (3*10**-15)**2*(1+(4/10*10**-3/f)**2)*(1+(f/(8*10**-3))**4)\n",
    "\n",
    "def Sgal(f):\n",
    "    return Amp*f**(-7/3)*exp(-f**alpha+beta*f*sin(kappa*f))*(1+tanh(gamma*(fk-f)))\n",
    "\n",
    "def Soms(f,PM):\n",
    "    return (PM *pm)**2*(1+(2*10**-3/f)**4)  # noi: 10\n",
    "\n",
    "def Sacc(f):\n",
    "    return (3*10**-15)**2*(1+(4/10*10**-3/f)**2)*(1+(f/(8*10**-3))**4)\n",
    "    \n",
    "def SnSA(f,PM):\n",
    "    return 10/3*(4*Sacc(f)/(2*pi*f)**4+Soms(f,PM))/(L0**2)*(1+6/10*(f/fstar)**2)\n",
    "\n",
    "def R(f):\n",
    "    return 3/20*2\n",
    "\n",
    "def Sn(f,PM):\n",
    "    return abs(SnSA(f,PM)+Sgal(f))\n",
    "\n",
    "def Pn(f,PM): # gravitational wave frequency\n",
    "    return abs(Sn(f,PM)*R(f))\n",
    "\n",
    "def Aplus(iota,psi):\n",
    "    return -(1+cos(iota)**2)*cos(2*psi)-2*cos(iota)*sin(2*psi)\n",
    "\n",
    "def Across(iota,psi):\n",
    "    return (1+cos(iota)**2)*sin(2*psi)-2*cos(iota)*cos(2*psi)\n",
    "\n",
    "def Fplus(theta,phi):\n",
    "    return 1/2*(1+cos(theta)**2)*cos(2*phi)\n",
    "\n",
    "def Fcross(theta,phi):\n",
    "    return cos(theta)*sin(2*phi)\n",
    "\n",
    "def factorsky(iota,psi,theta,phi):\n",
    "    return Fplus(theta,phi)*Aplus(iota,psi)+1j*Fcross(theta,phi)*Across(iota,psi)\n",
    "\n",
    "def factorskySNR(iota,psi,theta,phi):\n",
    "    return abs(sqrt(2)*sin(pi/3)*(Fplus(theta,phi)*Aplus(iota,psi)+1j*Fcross(theta,phi)*Across(iota,psi)))\n"
   ]
  },
  {
   "cell_type": "code",
   "execution_count": 6,
   "metadata": {},
   "outputs": [],
   "source": [
    "def fMIN2(fmax0,m1,m2,Tobs): # gravitational wave frequency\n",
    "    return 1/(1/fmax0**(8/3)+256/5*(Mc(m1,m2)/cc)**(5/3)*pi**(8/3)*(Tobs))**(3/8)\n",
    "\n",
    "def tofmax(m1,m2,fmin,Tobs): # gravitational wave frequency\n",
    "    return fmin*((5.*cc)/(5*cc-256*fmin**(8/3)*pi**(8/3)*Tobs*Mc(m1,m2)*(Mc(m1,m2)/cc)**(2/3)))**(3/8)\n",
    "\n",
    "\n",
    "# gives fmax, given fmin and Tobs. If fmax is above 10 Hz, gives 10 Hz instead. frequency is always in Hz\n",
    "\n",
    "def getfmax(m1,m2,fmin,Tobs): # gravitational wave frequency\n",
    "    if fMIN2(1,m1,m2,Tobs)>fmin:\n",
    "        return tofmax(m1,m2,fmin,Tobs)\n",
    "    else: \n",
    "        return 1\n",
    "    \n",
    "def Tmerger(m1,m2,fmin): # gravitational wave frequency\n",
    "    return 5. * (m1 + m2)**(1./3.) * cc**(5./3.)/ (256. * fmin**(8./3.) * m1 * m2 * pi**(8./3.))\n",
    "\n",
    "# waveform\n",
    "\n",
    "def ampl(m1,m2,d): \n",
    "    return 1./2. * (Mc(m1,m2)*G)**(5/6)*sqrt(5/24)/(pi**(2/3)*d*c**(3/2))\n",
    "def habs(m1,m2,d,f): # gravitational wave frequency\n",
    "    return ampl(m1,m2,d)*f**(-7/6)\n",
    "\n",
    "print(habs(12.4913,12.3884,10.8287*10**6*pc,1./cc))"
   ]
  },
  {
   "cell_type": "code",
   "execution_count": 8,
   "metadata": {},
   "outputs": [],
   "source": [
    "# here we define the SNR; \n",
    "# sky average factor included\n",
    "# we use the GW only template.\n",
    "\n",
    "def SNR(iota,psi,theta,phi,fmin,fmax,m1,m2,d,PM): # gravitational wave frequency\n",
    "    return sqrt(4*integrate.quad(lambda x: (factorskySNR(iota,psi,theta,phi)*habs(m1,m2,d, x/cc))**2/(Pn(x,PM)*(cc**2)), fmin, fmax)[0])\n",
    "#different noise here!\n",
    "\n",
    "def SNRAverage(fmin,fmax,m1,m2,d,PM): # gravitational wave frequency\n",
    "    return sqrt(4*integrate.quad(lambda x: (skyav*habs(m1,m2,d, x/cc))**2/(Pn(x,PM)*(cc**2)), fmin, fmax)[0])\n",
    "\n",
    "from scipy.optimize import root_scalar\n",
    "def findFmin(timemerger,m1,m2):\n",
    "    def condition(fmin):\n",
    "        return timemerger-Tmerger(m1,m2,fmin)\n",
    "    return root_scalar(condition,bracket=(10**-6,10.)).root\n",
    "\n",
    "def randrate(lamb):\n",
    "    u = random.random()\n",
    "    return lamb / np.log(1/u)"
   ]
  },
  {
   "cell_type": "code",
   "execution_count": 9,
   "metadata": {
    "collapsed": true
   },
   "outputs": [
    {
     "data": {
      "text/plain": [
       "'\\nz = 0.24716227944027847\\ntmerger = 5.073762956477287*year\\nm1 = 88.7\\nm2 = 64.93\\n(iota, psi, theta, phi)=2.23353428920549, 5.484427462941964, 2.014813251983311, 2.374251372635906\\nfmin = findFmin(tmerger,m1,m2)\\n#print(fmin)\\ntobs = 6.*year\\nfmax= getfmax(m1*(1.+z),m2*(1.+z),fmin/(1+z),tobs)\\nprint(iota,psi,theta,phi,fmin/(1+z),fmax,m1*(1+z)/Msol,m2*(1+z)/Msol,distL(z)/pc/1e6,15)\\nloSNR=SNR(iota,psi,theta,phi,fmin/(1+z),fmax,m1*(1+z),m2*(1+z),distL(z),15)\\nprint(loSNR) # 6.155,9.07\\n'"
      ]
     },
     "execution_count": 9,
     "metadata": {},
     "output_type": "execute_result"
    }
   ],
   "source": [
    "# test\n",
    "'''\n",
    "z = 0.24716227944027847\n",
    "tmerger = 5.073762956477287*year\n",
    "m1 = 88.7\n",
    "m2 = 64.93\n",
    "(iota, psi, theta, phi)=2.23353428920549, 5.484427462941964, 2.014813251983311, 2.374251372635906\n",
    "fmin = findFmin(tmerger,m1,m2)\n",
    "#print(fmin)\n",
    "tobs = 6.*year\n",
    "fmax= getfmax(m1*(1.+z),m2*(1.+z),fmin/(1+z),tobs)\n",
    "print(iota,psi,theta,phi,fmin/(1+z),fmax,m1*(1+z)/Msol,m2*(1+z)/Msol,distL(z)/pc/1e6,15)\n",
    "loSNR=SNR(iota,psi,theta,phi,fmin/(1+z),fmax,m1*(1+z),m2*(1+z),distL(z),15)\n",
    "print(loSNR) # 6.155,9.07\n",
    "'''"
   ]
  },
  {
   "cell_type": "markdown",
   "metadata": {},
   "source": [
    "## Monte Carlo functions"
   ]
  },
  {
   "cell_type": "code",
   "execution_count": 9,
   "metadata": {},
   "outputs": [],
   "source": [
    "# Faster function used for the population-based rates\n",
    "def new_N(N,massoption,SNRth,tobs,dutycycle,index_lines,PM):\n",
    "\n",
    "    \n",
    "    N=int(N)\n",
    "    # Define functions to store intermediate products; I haven't decided on the most convenient format for the final catalogs yet...\n",
    "\n",
    "    #massmin=50*Msol\n",
    "    #massmax=100*Msol\n",
    "\n",
    "    # Largest horizon redshift; don't waste computing time above this\n",
    "    zmax = 0.512\n",
    "    zmin = 0.\n",
    "    tmaxmerger = 100*year\n",
    "    tminmerger = 0.*year\n",
    "    # Largest comoving distance for sampling\n",
    "    #??? dove la usa? -->  cdmax=astropy.cosmology.Planck15.comoving_distance(zmax).value # Mpc\n",
    "    # z pdf normalization. Comoving volume at largest redshift (because comoving volume at z=0 is 0)\n",
    "    # Vczhor = (astropy.cosmology.Planck15.comoving_volume(zmax)/astropy.units.Gpc**3).decompose().value #Gpc^3\n",
    "    # largest merger time (yrs)\n",
    "    #tobs = 10\n",
    "    # ground-based duty cycle\n",
    "    #dutycycle=1.\n",
    "\n",
    "    z = np.random.uniform(zmin,zmax,size=N)\n",
    "    dl = cosmo.luminosity_distance(z).value*1e6*pc #in cm\n",
    "\n",
    "        # Mass spectrum (rates in Mpc)\n",
    "    #if massoption=='log': # Log flat distribution in both masses\n",
    "    #    bothm=10**np.random.uniform(np.log10(massmin),np.log10(massmax),size=(2,N))\n",
    "    #    m1= max(bothm,axis=0)\n",
    "    #    m2= min(bothm,axis=0)\n",
    "    #    totalrate['median'] = 0.13*10**(-9)\n",
    "            \n",
    "    if massoption == 'EOB_constR':\n",
    "        index = np.random.choice(len(eobdata),size=N)\n",
    "        m1 = Msol*np.array([eobdata[index[i]][0] for i in range(N)])\n",
    "        m2 = Msol*np.array([eobdata[index[i]][1] for i in range(N)])\n",
    "        totalrate = 0.13*10**(-9)         \n",
    "    if massoption == 'EOB':\n",
    "        index = np.random.choice(len(eobdata),size=N)\n",
    "        m1 = Msol*np.array([eobdata[index[i]][0] for i in range(N)])\n",
    "        m2 = Msol*np.array([eobdata[index[i]][1] for i in range(N)])\n",
    "        totalrate= 0.13*10**(-9) \n",
    "        totalrate = np.random.gamma(1, scale=totalrate*1.46,size=N); #NEW, only here\n",
    "    if massoption == 'NR_constR':\n",
    "        index = np.random.choice(len(NRdata),size=N)\n",
    "        m1 = Msol*np.array([NRdata[index[i]][0] for i in range(N)])\n",
    "        m2 = Msol*np.array([NRdata[index[i]][1] for i in range(N)])\n",
    "        totalrate = 0.13*10**(-9) \n",
    "    if massoption == 'NR':\n",
    "        index = np.random.choice(len(NRdata),size=N)\n",
    "        m1 = Msol*np.array([NRdata[index[i]][0] for i in range(N)])\n",
    "        m2 = Msol*np.array([NRdata[index[i]][1] for i in range(N)])\n",
    "        totalrate = 0.13*10**(-9) \n",
    "        totalrate = np.random.gamma(1, scale=totalrate*1.46,size=N); #NEW, only here\n",
    "    if massoption == 'NR_intrinsic':\n",
    "        index = np.random.choice(len(NRdata),size=N)\n",
    "        m1 = Msol*np.array([NRdata[index[i]][0] for i in range(N)])\n",
    "        m2 = Msol*np.array([NRdata[index[i]][1] for i in range(N)])\n",
    "        totalrate = 1\n",
    "    if massoption == 'PHEN_constR':\n",
    "        index = np.random.choice(len(PHENdata),size=N)\n",
    "        m1 = Msol*np.array([PHENdata[index[i]][0] for i in range(N)])\n",
    "        m2 = Msol*np.array([PHENdata[index[i]][1] for i in range(N)])\n",
    "        totalrate = 0.13*10**(-9) \n",
    "    if massoption == 'PHEN':\n",
    "        index = np.random.choice(len(PHENdata),size=N)\n",
    "        m1 = Msol*np.array([PHENdata[index[i]][0] for i in range(N)])\n",
    "        m2 = Msol*np.array([PHENdata[index[i]][1] for i in range(N)])\n",
    "        totalrate = 0.13*10**(-9) \n",
    "        totalrate = np.random.gamma(1, scale=totalrate*1.46); #NEW, only here\n",
    "           \n",
    "    if massoption == 'powerlawpeak_lines_giveni':\n",
    "        #index_lines = np.random.choice(len(new_pops[:,0,0]))\n",
    "        mass_ppd_i=new_pops[index_lines,:,:]\n",
    "        flat = mass_ppd_i.flatten()/mass_ppd_i.flatten().sum()\n",
    "        sample_index = np.random.choice(a=flat.size, p=flat,size=N)\n",
    "        adjusted_index = np.unravel_index(sample_index, mass_ppd_i.shape)\n",
    "        m1 = Msol*mass_1[adjusted_index[1][:]]\n",
    "        q = mass_ratio[adjusted_index[0][:]]\n",
    "        m2 = m1 * q\n",
    "        rate_powerlawpeak_i = rates_pops[index_lines] \n",
    "        totalrate = rate_powerlawpeak_i * 10**(-9)\n",
    "    if massoption == 'powerlawpeak_lines_cutoff_giveni':\n",
    "        #index_lines = np.random.choice(len(new_pops[:,0,0]))\n",
    "        mass_ppd_i=new_pops[index_lines,:,:]\n",
    "        flat = mass_ppd_i.flatten()/mass_ppd_i.flatten().sum()\n",
    "        sample_index = np.random.choice(a=flat.size, p=flat,size=N)\n",
    "        adjusted_index = np.unravel_index(sample_index, mass_ppd_i.shape)\n",
    "        m1 = Msol*mass_1[adjusted_index[1][:]]\n",
    "        q = mass_ratio[adjusted_index[0][:]]\n",
    "        m2 = m1 * q\n",
    "        rate_powerlawpeak_i = rates_pops[index_lines] \n",
    "        totalrate = []\n",
    "        for i in m1:\n",
    "            if i>=45*Msol: \n",
    "                totalrate.append(rate_powerlawpeak_i * 10**(-9))\n",
    "            else: \n",
    "                totalrate.append(0) \n",
    "        totalrate = np.array(totalrate)\n",
    "        #if m1>=45*Msol:\n",
    "        #    totalrate = rate_powerlawpeak_i * 10**(-9) \n",
    "        #else:\n",
    "        #    totalrate = 0\n",
    "        \n",
    "                 \n",
    "        \n",
    "        #if massoption=='powerlaw': # Power law with spectral index alpha in primary; uniform in secondary\n",
    "        #    alpha=-2.3\n",
    "        #    m1 = (massmin**(alpha+1.)+np.random.uniform(0.,1.)*(massmax**(alpha+1.)-massmin**(alpha+1.)))**(1./(alpha+1.))\n",
    "        #    m2 = np.random.uniform(massmin,m1)\n",
    "        #    totalrate['median'] =  0.13*10**(-9)\n",
    "            \n",
    "        # Sky-location, inclination, polarization, initial phase\n",
    "    cosiota = np.random.uniform(-1.,1.,size=N)\n",
    "    psi = np.random.uniform(0,2*pi,size=N)\n",
    "    costheta=np.random.uniform(-1.,1.,size=N)\n",
    "    phi=np.random.uniform(0,2*pi,size=N)\n",
    "    iota=np.arccos(cosiota)\n",
    "    theta=np.arccos(costheta)\n",
    "        #phic = np.random.uniform(0,2.*np.pi)\n",
    "        \n",
    "    # Merger time\n",
    "\n",
    "    tmerger=np.random.uniform(tminmerger,tmaxmerger,size=N)\n",
    "        \n",
    "        #fmin=np.random.uniform(1e-5,0.01)\n",
    "    fmin=np.array([findFmin(tmerger[i],m1[i],m2[i]) for i in range(N)])\n",
    "    Fmax= np.array([getfmax(m1[i]*(1.+z[i]),m2[i]*(1.+z[i]),fmin[i]/(1.+z[i]),tobs*year) for i in range(N)])\n",
    "        #Fmax = 1 #Fmax=1\n",
    "    snr=np.array([SNR(iota[i],psi[i],theta[i],phi[i],fmin[i]/(1+z[i]),\n",
    "                      Fmax[i],m1[i]*(1+z[i]),m2[i]*(1+z[i]),dl[i],PM)* np.sqrt(dutycycle) for i in range(N)])\n",
    "\n",
    "\n",
    "    # Here I pile up together some factors in the rate integral\n",
    "    #dVcdz = dVdz(z)\n",
    "    dVcdz = 4.*np.pi*cosmo.differential_comoving_volume(z).value\n",
    "        \n",
    "    rate = totalrate\n",
    "        \n",
    "    #here\n",
    "    integralbulk = rate * (tmaxmerger - tminmerger)/year/(1.+z) * (zmax-zmin) * dVcdz * np.heaviside(snr-SNRth,0) \n",
    "\n",
    "    montecarlo_contributions = 1./ N* integralbulk.sum()\n",
    "    \n",
    "    return montecarlo_contributions\n"
   ]
  },
  {
   "cell_type": "code",
   "execution_count": 29,
   "metadata": {},
   "outputs": [],
   "source": [
    "#slower function used for the faster GW190521-based rates\n",
    "\n",
    "def gendistr(N,iteration,massoption,SNRth,tobs,dutycycle,index_lines,PM):\n",
    "    \n",
    "\n",
    "    N=int(N)\n",
    "    # Define functions to store intermediate products; I haven't decided on the most convenient format for the final catalogs yet...\n",
    "\n",
    "    #massmin=5*Msol\n",
    "    #massmax=100*Msol\n",
    "\n",
    "    # Largest horizon redshift; don't waste computing time above this\n",
    "    zmax = 0.512\n",
    "    zmin = 0.\n",
    "\n",
    "    tmaxmerger = 100*year\n",
    "    tminmerger = 0.*year\n",
    "\n",
    "    data=[]\n",
    "    for i in range(N):\n",
    "\n",
    "        #Comoving distance uniform on sphere\n",
    "        #while True:\n",
    "        #    cd = np.sum(np.random.uniform(0, cdmax,3)**2)**0.5\n",
    "        #    if cd<cdmax: break\n",
    "        # Convert to redshift\n",
    "        #z = astropy.cosmology.z_at_value(astropy.cosmology.Planck15.comoving_distance,cd*astropy.units.Mpc )\n",
    "        # Convert to luminosity distance\n",
    "\n",
    "\n",
    "        z = np.random.uniform(zmin,zmax)\n",
    "        dl = cosmo.luminosity_distance(z).to(u.km).value\n",
    "        \n",
    "        #totalrate={}\n",
    "\n",
    "        # Mass spectrum (rates in Mpc)\n",
    "        \n",
    "        if massoption=='log': # Log flat distribution in both masses\n",
    "            bothm=10**np.random.uniform(np.log10(massmin),np.log10(massmax),2)\n",
    "            m1= max(bothm)\n",
    "            m2= min(bothm)\n",
    "            rate = 32.*10**(-9) \n",
    "        \n",
    "        if massoption=='powerlaw': # Power law with spectral index alpha in primary; uniform in secondary\n",
    "            alpha=-2.35\n",
    "            m1 = (massmin**(alpha+1.)+np.random.uniform(0.,1.)*(massmax**(alpha+1.)-massmin**(alpha+1.)))**(1./(alpha+1.))\n",
    "            m2 = np.random.uniform(massmin,m1)\n",
    "            rate =  103.*10**(-9)\n",
    "           \n",
    "        if massoption == 'EOB_constR':\n",
    "            index = np.random.choice(len(eobdata))\n",
    "            m1 = Msol*eobdata[index][0]\n",
    "            m2 = Msol*eobdata[index][1]\n",
    "            rate = 0.13*10**(-9)         \n",
    "        if massoption == 'EOB':\n",
    "            index = np.random.choice(len(eobdata))\n",
    "            m1 = Msol*eobdata[index][0]\n",
    "            m2 = Msol*eobdata[index][1]\n",
    "            totalrate['median'] = 0.13*10**(-9) \n",
    "            rate = np.random.gamma(1, scale=rate*1.46); #NEW, only here\n",
    "        \n",
    "        if massoption == 'NR_constR':\n",
    "            index = np.random.choice(len(NRdata))\n",
    "            m1 = Msol*NRdata[index][0]\n",
    "            m2 = Msol*NRdata[index][1]\n",
    "            rate = 0.13*10**(-9) \n",
    "        \n",
    "        if massoption == 'NR':\n",
    "            index = np.random.choice(len(NRdata))\n",
    "            m1 = Msol*NRdata[index][0]\n",
    "            m2 = Msol*NRdata[index][1]\n",
    "            rate = 0.13*10**(-9) \n",
    "            rate = np.random.gamma(1, scale=rate*1.46); #NEW, only here\n",
    "        if massoption == 'NR_intrinsic':\n",
    "            index = np.random.choice(len(NRdata))\n",
    "            m1 = Msol*NRdata[index][0]\n",
    "            m2 = Msol*NRdata[index][1]\n",
    "            rate = 1\n",
    "        if massoption == 'PHEN_constR':\n",
    "            index = np.random.choice(len(PHENdata))\n",
    "            m1 = Msol*PHENdata[index][0]\n",
    "            m2 = Msol*PHENdata[index][1]\n",
    "            rate = 0.13*10**(-9) \n",
    "        if massoption == 'PHEN':\n",
    "            index = np.random.choice(len(PHENdata))\n",
    "            m1 = Msol*PHENdata[index][0]\n",
    "            m2 = Msol*PHENdata[index][1]\n",
    "            rate = 0.13*10**(-9) \n",
    "            rate = np.random.gamma(1, scale=rate*1.46); #NEW, only here\n",
    "         \n",
    "        if massoption == 'powerlawpeak':\n",
    "            rate_powerlawpeak = np.trapz(np.trapz(mass_ppd, mass_ratio, axis=0),mass_1,axis=0)\n",
    "            flat = mass_ppd.flatten()/mass_ppd.flatten().sum()\n",
    "            sample_index = np.random.choice(a=flat.size, p=flat)\n",
    "            adjusted_index = np.unravel_index(sample_index, mass_ppd.shape)\n",
    "            m1 = Msol*mass_1[adjusted_index[1]]\n",
    "            q = mass_ratio[adjusted_index[0]]\n",
    "            m2 = m1 * q\n",
    "            rate = rate_powerlawpeak * 10**(-9) \n",
    "           \n",
    "        if massoption == 'powerlawpeak_cutoff':\n",
    "            rate_powerlawpeak = np.trapz(np.trapz(mass_ppd, mass_ratio, axis=0),mass_1,axis=0)\n",
    "            flat = mass_ppd.flatten()/mass_ppd.flatten().sum()\n",
    "            sample_index = np.random.choice(a=flat.size, p=flat)\n",
    "            adjusted_index = np.unravel_index(sample_index, mass_ppd.shape)\n",
    "            m1 = Msol*mass_1[adjusted_index[1]]\n",
    "            q = mass_ratio[adjusted_index[0]]\n",
    "            m2 = m1 * q\n",
    "            if m1>=45*Msol:\n",
    "                rate = rate_powerlawpeak * 10**(-9) \n",
    "            else:\n",
    "                rate = 0\n",
    "                \n",
    "        if massoption == 'powerlawpeak_lines':\n",
    "            index_lines = np.random.choice(len(new_pops[:,0,0]))\n",
    "            mass_ppd_i=new_pops[index_lines,:,:]\n",
    "            flat = mass_ppd_i.flatten()/mass_ppd_i.flatten().sum()\n",
    "            sample_index = np.random.choice(a=flat.size, p=flat)\n",
    "            adjusted_index = np.unravel_index(sample_index, mass_ppd_i.shape)\n",
    "            m1 = Msol*mass_1[adjusted_index[1]]\n",
    "            q = mass_ratio[adjusted_index[0]]\n",
    "            m2 = m1 * q\n",
    "            rate_powerlawpeak_i = rates_pops[index_lines]\n",
    "            rate = rate_powerlawpeak_i * 10**(-9)\n",
    "           \n",
    "        if massoption == 'powerlawpeak_lines_cutoff':\n",
    "            index_lines = np.random.choice(len(new_pops[:,0,0]))\n",
    "            mass_ppd_i=new_pops[index_lines,:,:]\n",
    "            flat = mass_ppd_i.flatten()/mass_ppd_i.flatten().sum()\n",
    "            sample_index = np.random.choice(a=flat.size, p=flat)\n",
    "            adjusted_index = np.unravel_index(sample_index, mass_ppd_i.shape)\n",
    "            m1 = Msol*mass_1[adjusted_index[1]]\n",
    "            q = mass_ratio[adjusted_index[0]]\n",
    "            m2 = m1 * q\n",
    "            rate_powerlawpeak_i = rates_pops[index_lines]\n",
    "            if m1>=45*Msol:\n",
    "                rate = rate_powerlawpeak_i * 10**(-9) \n",
    "            else:\n",
    "                rate = 0\n",
    "                \n",
    "        if massoption == 'powerlawpeak_lines_cutoff_giveni':\n",
    "            #index_lines = np.random.choice(len(new_pops[:,0,0]))\n",
    "            mass_ppd_i=new_pops[index_lines,:,:]\n",
    "            flat = mass_ppd_i.flatten()/mass_ppd_i.flatten().sum()\n",
    "            sample_index = np.random.choice(a=flat.size, p=flat)\n",
    "            adjusted_index = np.unravel_index(sample_index, mass_ppd_i.shape)\n",
    "            m1 = Msol*mass_1[adjusted_index[1]]\n",
    "            q = mass_ratio[adjusted_index[0]]\n",
    "            m2 = m1 * q\n",
    "            rate_powerlawpeak_i = rates_pops[index_lines]\n",
    "            if m1>=45*Msol:\n",
    "                rate = rate_powerlawpeak_i * 10**(-9) \n",
    "            else:\n",
    "                rate = 0\n",
    "        #    \n",
    "        # Sky-location, inclination, polarization, initial phase\n",
    "        cosiota = random.uniform(-1.,1.)\n",
    "        psi = random.uniform(0,2*pi)\n",
    "        costheta=random.uniform(-1.,1.)\n",
    "        phi=random.uniform(0,2*pi)\n",
    "        iota=np.arccos(cosiota)\n",
    "        theta=np.arccos(costheta)\n",
    "        \n",
    "        # Merger time\n",
    "\n",
    "        tmerger=np.random.uniform(tminmerger,tmaxmerger) #source frame\n",
    "        \n",
    "        #fmin=np.random.uniform(1e-5,0.01)\n",
    "        fmin=findFmin(tmerger,m1,m2) #source frame\n",
    "        Fmax= getfmax(m1*(1.+z),m2*(1.+z),fmin/(1.+z),tobs*year) # observer frame\n",
    "        #Fmax = 1 #Fmax=1\n",
    "        snr=SNR(iota,psi,theta,phi,fmin/(1+z),Fmax,m1*(1+z),m2*(1+z),dl,PM)* np.sqrt(dutycycle)\n",
    "        #snr = SNRAverage(fmin/(1+z),Fmax,m1*(1+z),m2*(1+z),dl,PM)\n",
    "\n",
    "        # Here I pile up together some factors in the rate integral\n",
    "        #dVcdz = dVdz(z) \n",
    "        dVcdz = 4*pi*cosmo.differential_comoving_volume(z).value # Mpc^3\n",
    "        \n",
    "        integralbulk = rate * (tmaxmerger - tminmerger)/year/(1.+z) * (zmax-zmin) * dVcdz *np.heaviside(snr-SNRth,0) \n",
    "        \n",
    "        #TEST\n",
    "        #if  tmerger <= 100*year:\n",
    "        #    integralbulk = rate * (tmaxmerger - tminmerger)/year/(1.+z) * (zmax-zmin) * dVcdz *np.heaviside(snr-15,0) \n",
    "        #else:\n",
    "        #    integralbulk = rate * (tmaxmerger - tminmerger)/year/(1.+z) * (zmax-zmin) * dVcdz *np.heaviside(snr-10,0) \n",
    "\n",
    "\n",
    "        data.append(np.array([m1,m2,z,fmin,integralbulk,snr]))\n",
    "\n",
    "    return np.array(data).T\n",
    "\n"
   ]
  },
  {
   "cell_type": "code",
   "execution_count": 30,
   "metadata": {},
   "outputs": [],
   "source": [
    "def consolidatedistr(Nsingle,iterations,massoption,SNRth,tobs,dutycycle,index_lines,PM):\n",
    "\n",
    "    Nsingle = int(Nsingle)\n",
    "    iterations = int(iterations)\n",
    "\n",
    "    Ntot = Nsingle*iterations\n",
    "    data=[]\n",
    "    for it in range(0,iterations):#(N,iteration,massoption,SNRth,tobs,dutycycle,index_lines,PM)\n",
    "        data.append(gendistr(Nsingle,it,massoption,SNRth,tobs,dutycycle,index_lines,PM))\n",
    "\n",
    "    data=np.array(data)\n",
    "\n",
    "    #m1,m2,z,fmin,integralbulk,snr\n",
    "\n",
    "    m1 = np.concatenate(data[:,0])\n",
    "    m2 = np.concatenate(data[:,1])\n",
    "    z = np.concatenate(data[:,2])\n",
    "    fmin = np.concatenate(data[:,3])\n",
    "    integralbulk = np.concatenate(data[:,4])\n",
    "    SNR10 = np.concatenate(data[:,5])\n",
    "\n",
    "    return m1,m2,z,fmin,integralbulk,SNR10"
   ]
  },
  {
   "cell_type": "code",
   "execution_count": 31,
   "metadata": {},
   "outputs": [],
   "source": [
    "def Nevents(bigdata):\n",
    "\n",
    "    # bigdata is the output of consolidatedistr\n",
    "    m1,m2,z,fmin,integralbulk,SNR10 = bigdata #consolidatedistr(Nsingle,iterations)\n",
    "    #integralbulk = bigdata\n",
    "\n",
    "    Ntot = len(m1)\n",
    "    \n",
    "    montecarlo_contributions = integralbulk  / Ntot\n",
    "    \n",
    "\n",
    "    return np.sum(montecarlo_contributions)\n",
    "\n"
   ]
  },
  {
   "cell_type": "code",
   "execution_count": 32,
   "metadata": {},
   "outputs": [],
   "source": [
    "def Poisson_Gamma_median_interval(Nintrinsic,samplesize):\n",
    "    k=2 #closer!\n",
    "    rates=np.random.gamma(k, scale=rateGW190521_median*0.596, size=int(samplesize))*1e-9\n",
    "    samples=np.array([np.random.poisson(lam=Nintrinsic*rates[i],size=int(samplesize))\n",
    "                      for i in range(int(samplesize))]).flatten()\n",
    "    #samples = np.multiply(rates, N_realization)\n",
    "    \n",
    "    return stat.median(samples),np.percentile(samples, 95)-stat.median(samples),np.percentile(samples, 5)-stat.median(samples)\n",
    "        "
   ]
  },
  {
   "cell_type": "code",
   "execution_count": 10,
   "metadata": {},
   "outputs": [],
   "source": [
    "def Poisson_model_median_interval(Nintrinsic,samplesize,SNRth,tobs,dutycycle,PM,mass_model):\n",
    "    samplesize = int(samplesize)\n",
    "    Nintrinsic = int(Nintrinsic)\n",
    "    index_lines = np.random.choice(len(new_pops[:,0,0]),size=samplesize)\n",
    "    Ns = np.array([new_N(Nintrinsic,mass_model,SNRth,tobs,dutycycle,index_lines[i],PM)\n",
    "                   for i in range(samplesize)])\n",
    "    samples=np.random.poisson(lam=Ns, size=(samplesize,samplesize))\n",
    "    samples= samples.flatten()\n",
    "    #samples = np.multiply(rates, N_realization)\n",
    "    \n",
    "    return stat.median(samples),np.percentile(samples, 95)-stat.median(samples),np.percentile(samples, 5)-stat.median(samples)\n",
    "  \n",
    "\n"
   ]
  },
  {
   "cell_type": "markdown",
   "metadata": {},
   "source": [
    "## tests"
   ]
  },
  {
   "cell_type": "markdown",
   "metadata": {},
   "source": [
    "## Test Bonvin et al."
   ]
  },
  {
   "cell_type": "code",
   "execution_count": 15,
   "metadata": {
    "scrolled": true
   },
   "outputs": [
    {
     "name": "stdout",
     "output_type": "stream",
     "text": [
      "144.4948054424869\n"
     ]
    }
   ],
   "source": [
    "#consolidatedistr(Nsingle,iterations,massoption,SNRth,tobs,dutycycle,index_lines,PM)\n",
    "med = Nevents(consolidatedistr(1e5,1,'log',0,10.,1.,0,10.)) \n",
    "print(med)\n",
    "# tmax =1e3, 100 1e5 200 oscilla"
   ]
  },
  {
   "cell_type": "markdown",
   "metadata": {},
   "source": [
    "### Test email Stas"
   ]
  },
  {
   "cell_type": "code",
   "execution_count": 11,
   "metadata": {},
   "outputs": [
    {
     "name": "stdout",
     "output_type": "stream",
     "text": [
      "14.451883155018507\n"
     ]
    }
   ],
   "source": [
    "#consolidatedistr(Nsingle,iterations,massoption,SNRth,tobs,dutycycle,index_lines,PM)\n",
    "med = Nevents(consolidatedistr(10**5,1,'NR_constR',8.,10.,.75,0,10.)) \n",
    "print(med)\n",
    "# tmax =1e3, \n",
    "\n"
   ]
  },
  {
   "cell_type": "code",
   "execution_count": 19,
   "metadata": {},
   "outputs": [
    {
     "name": "stdout",
     "output_type": "stream",
     "text": [
      "(14.0, 28.0, -12.0)\n"
     ]
    }
   ],
   "source": [
    "#med = Nevents(consolidatedistr(10**5,1,'NR_intrinsic',8.,10.,0.75,0,10.)) \n",
    "#print(med)\n",
    "\n",
    "print(Poisson_Gamma_median_interval(med,1e3))"
   ]
  },
  {
   "cell_type": "code",
   "execution_count": 52,
   "metadata": {},
   "outputs": [
    {
     "name": "stdout",
     "output_type": "stream",
     "text": [
      "20.524928715901098\n"
     ]
    }
   ],
   "source": [
    "#consolidatedistr(Nsingle,iterations,massoption,SNRth,tobs,dutycycle,index_lines,PM)\n",
    "med = Nevents(consolidatedistr(10**5,1,'EOB_constR',8.,10.,.75,0,10.)) \n",
    "print(med)"
   ]
  },
  {
   "cell_type": "code",
   "execution_count": 53,
   "metadata": {},
   "outputs": [
    {
     "name": "stdout",
     "output_type": "stream",
     "text": [
      "8.180365510662057\n"
     ]
    }
   ],
   "source": [
    "#consolidatedistr(Nsingle,iterations,massoption,SNRth,tobs,dutycycle,index_lines,PM)\n",
    "med = Nevents(consolidatedistr(10**5,1,'EOB_constR',8.,10.,.75,0,15.)) \n",
    "print(med)"
   ]
  },
  {
   "cell_type": "code",
   "execution_count": 54,
   "metadata": {},
   "outputs": [
    {
     "name": "stdout",
     "output_type": "stream",
     "text": [
      "12.444557235724435\n"
     ]
    }
   ],
   "source": [
    "#consolidatedistr(Nsingle,iterations,massoption,SNRth,tobs,dutycycle,index_lines,PM)\n",
    "med = Nevents(consolidatedistr(10**5,1,'EOB_constR',8.,10.,1.,0,15.)) \n",
    "print(med)"
   ]
  },
  {
   "cell_type": "code",
   "execution_count": 55,
   "metadata": {},
   "outputs": [
    {
     "name": "stdout",
     "output_type": "stream",
     "text": [
      "10.602057164275378\n"
     ]
    }
   ],
   "source": [
    "#consolidatedistr(Nsingle,iterations,massoption,SNRth,tobs,dutycycle,index_lines,PM)\n",
    "med = Nevents(consolidatedistr(10**5,1,'EOB_constR',8.,6.,.75,0,10.)) \n",
    "print(med)"
   ]
  },
  {
   "cell_type": "code",
   "execution_count": 56,
   "metadata": {},
   "outputs": [
    {
     "name": "stdout",
     "output_type": "stream",
     "text": [
      "3.7124931788070907\n"
     ]
    }
   ],
   "source": [
    "#consolidatedistr(Nsingle,iterations,massoption,SNRth,tobs,dutycycle,index_lines,PM)\n",
    "med = Nevents(consolidatedistr(10**5,1,'EOB_constR',8.,6.,.75,0,15.)) \n",
    "print(med)"
   ]
  },
  {
   "cell_type": "code",
   "execution_count": 57,
   "metadata": {},
   "outputs": [
    {
     "name": "stdout",
     "output_type": "stream",
     "text": [
      "5.857395666154797\n"
     ]
    }
   ],
   "source": [
    "#consolidatedistr(Nsingle,iterations,massoption,SNRth,tobs,dutycycle,index_lines,PM)\n",
    "med = Nevents(consolidatedistr(10**5,1,'EOB_constR',8.,6.,1.,0,15.)) \n",
    "print(med)"
   ]
  },
  {
   "cell_type": "markdown",
   "metadata": {},
   "source": [
    "### Test powerlaw+peak total, average N"
   ]
  },
  {
   "cell_type": "code",
   "execution_count": 29,
   "metadata": {},
   "outputs": [
    {
     "name": "stdout",
     "output_type": "stream",
     "text": [
      "total average N:  157.86570299836882\n",
      "127.094461\n"
     ]
    }
   ],
   "source": [
    "#powerlaw+peak across model uncertainty t= 10 yrs, 10 pm (MRD), DC =100 %\n",
    "t = time.process_time()\n",
    "\n",
    "#consolidatedistr(Nsingle,iterations,massoption,SNRth,tobs,dutycycle,index_lines,PM)\n",
    "med = Nevents(consolidatedistr(10**4,1,'powerlawpeak',8.,10.,1.,0,.75)) \n",
    "print('total average N: ', med) #\n",
    "\n",
    "elapsed_time = time.process_time() - t\n",
    "print(elapsed_time) "
   ]
  },
  {
   "cell_type": "markdown",
   "metadata": {},
   "source": [
    "# Results Powerlaw + Peak"
   ]
  },
  {
   "cell_type": "code",
   "execution_count": 13,
   "metadata": {},
   "outputs": [
    {
     "name": "stderr",
     "output_type": "stream",
     "text": [
      "/usr/local/lib/python3.7/site-packages/ipykernel_launcher.py:6: RuntimeWarning: invalid value encountered in sqrt\n",
      "  \n",
      "/usr/local/lib/python3.7/site-packages/ipykernel_launcher.py:7: RuntimeWarning: invalid value encountered in less\n",
      "  import sys\n",
      "/usr/local/lib/python3.7/site-packages/ipykernel_launcher.py:7: RuntimeWarning: invalid value encountered in greater\n",
      "  import sys\n"
     ]
    },
    {
     "name": "stdout",
     "output_type": "stream",
     "text": [
      "(33.0, 68.0, -28.0)\n",
      "2802.534712\n"
     ]
    }
   ],
   "source": [
    "### \n",
    "# powerlaw+peak across model uncertainty t= 10 yrs, 15 pm (SciRD), DC =100 %\n",
    "\n",
    "t = time.process_time()\n",
    "\n",
    "print(Poisson_model_median_interval(2e3,1e3,8,10,1.,15,'powerlawpeak_lines_cutoff_giveni'))\n",
    "\n",
    "elapsed_time = time.process_time() - t\n",
    "print(elapsed_time) # these numbers are enough! 35m. now understand why so low."
   ]
  },
  {
   "cell_type": "code",
   "execution_count": 14,
   "metadata": {},
   "outputs": [
    {
     "name": "stderr",
     "output_type": "stream",
     "text": [
      "/usr/local/lib/python3.7/site-packages/ipykernel_launcher.py:6: RuntimeWarning: invalid value encountered in sqrt\n",
      "  \n",
      "/usr/local/lib/python3.7/site-packages/ipykernel_launcher.py:22: RuntimeWarning: overflow encountered in exp\n",
      "/usr/local/lib/python3.7/site-packages/ipykernel_launcher.py:22: RuntimeWarning: invalid value encountered in double_scalars\n",
      "/usr/local/lib/python3.7/site-packages/ipykernel_launcher.py:6: IntegrationWarning: The occurrence of roundoff error is detected, which prevents \n",
      "  the requested tolerance from being achieved.  The error may be \n",
      "  underestimated.\n",
      "  \n",
      "/usr/local/lib/python3.7/site-packages/ipykernel_launcher.py:7: RuntimeWarning: invalid value encountered in less\n",
      "  import sys\n",
      "/usr/local/lib/python3.7/site-packages/ipykernel_launcher.py:7: RuntimeWarning: invalid value encountered in greater\n",
      "  import sys\n"
     ]
    },
    {
     "name": "stdout",
     "output_type": "stream",
     "text": [
      "total:  (65.0, 78.0, -35.0)\n"
     ]
    }
   ],
   "source": [
    "print('total: ',Poisson_model_median_interval(2e3,1e3,8,10,1.,15, 'powerlawpeak_lines_giveni'))\n",
    "\n"
   ]
  },
  {
   "cell_type": "code",
   "execution_count": 15,
   "metadata": {
    "scrolled": false
   },
   "outputs": [
    {
     "name": "stderr",
     "output_type": "stream",
     "text": [
      "/usr/local/lib/python3.7/site-packages/ipykernel_launcher.py:6: RuntimeWarning: invalid value encountered in sqrt\n",
      "  \n",
      "/usr/local/lib/python3.7/site-packages/ipykernel_launcher.py:7: RuntimeWarning: invalid value encountered in less\n",
      "  import sys\n",
      "/usr/local/lib/python3.7/site-packages/ipykernel_launcher.py:7: RuntimeWarning: invalid value encountered in greater\n",
      "  import sys\n"
     ]
    },
    {
     "name": "stdout",
     "output_type": "stream",
     "text": [
      "(16.0, 46.0, -15.0)\n"
     ]
    }
   ],
   "source": [
    "###\n",
    "# powerlaw+peak across model uncertainty t= 6 yrs, 15 pm (SciRD), DC =100 %\n",
    "\n",
    "print(Poisson_model_median_interval(2e3,1e3,8,6,1.,15,'powerlawpeak_lines_cutoff_giveni'))"
   ]
  },
  {
   "cell_type": "code",
   "execution_count": 16,
   "metadata": {},
   "outputs": [
    {
     "name": "stderr",
     "output_type": "stream",
     "text": [
      "/usr/local/lib/python3.7/site-packages/ipykernel_launcher.py:6: RuntimeWarning: invalid value encountered in sqrt\n",
      "  \n",
      "/usr/local/lib/python3.7/site-packages/ipykernel_launcher.py:7: RuntimeWarning: invalid value encountered in less\n",
      "  import sys\n",
      "/usr/local/lib/python3.7/site-packages/ipykernel_launcher.py:7: RuntimeWarning: invalid value encountered in greater\n",
      "  import sys\n"
     ]
    },
    {
     "name": "stdout",
     "output_type": "stream",
     "text": [
      "total:  (31.0, 47.0, -19.0)\n"
     ]
    }
   ],
   "source": [
    "print('total: ',Poisson_model_median_interval(2e3,1e3,8,6,1.,15, 'powerlawpeak_lines_giveni'))\n"
   ]
  },
  {
   "cell_type": "code",
   "execution_count": 17,
   "metadata": {
    "scrolled": true
   },
   "outputs": [
    {
     "name": "stderr",
     "output_type": "stream",
     "text": [
      "/usr/local/lib/python3.7/site-packages/ipykernel_launcher.py:6: RuntimeWarning: invalid value encountered in sqrt\n",
      "  \n",
      "/usr/local/lib/python3.7/site-packages/ipykernel_launcher.py:7: RuntimeWarning: invalid value encountered in less\n",
      "  import sys\n",
      "/usr/local/lib/python3.7/site-packages/ipykernel_launcher.py:7: RuntimeWarning: invalid value encountered in greater\n",
      "  import sys\n"
     ]
    },
    {
     "name": "stdout",
     "output_type": "stream",
     "text": [
      "(10.0, 32.0, -10.0)\n"
     ]
    }
   ],
   "source": [
    "### \n",
    "# powerlaw+peak across model uncertainty t= 6 yrs, 15 pm (SciRD), DC =75 %\n",
    "\n",
    "print(Poisson_model_median_interval(2e3,1e3,8,6.,0.75,15,'powerlawpeak_lines_cutoff_giveni'))"
   ]
  },
  {
   "cell_type": "code",
   "execution_count": 18,
   "metadata": {},
   "outputs": [
    {
     "name": "stderr",
     "output_type": "stream",
     "text": [
      "/usr/local/lib/python3.7/site-packages/ipykernel_launcher.py:6: RuntimeWarning: invalid value encountered in sqrt\n",
      "  \n",
      "/usr/local/lib/python3.7/site-packages/ipykernel_launcher.py:7: RuntimeWarning: invalid value encountered in less\n",
      "  import sys\n",
      "/usr/local/lib/python3.7/site-packages/ipykernel_launcher.py:7: RuntimeWarning: invalid value encountered in greater\n",
      "  import sys\n"
     ]
    },
    {
     "name": "stdout",
     "output_type": "stream",
     "text": [
      "total:  (21.0, 31.0, -14.0)\n"
     ]
    }
   ],
   "source": [
    "print('total: ',Poisson_model_median_interval(2e3,1e3,8.,6.,.75,15, 'powerlawpeak_lines_giveni'))\n"
   ]
  },
  {
   "cell_type": "code",
   "execution_count": 19,
   "metadata": {},
   "outputs": [
    {
     "name": "stderr",
     "output_type": "stream",
     "text": [
      "/usr/local/lib/python3.7/site-packages/ipykernel_launcher.py:6: RuntimeWarning: invalid value encountered in sqrt\n",
      "  \n",
      "/usr/local/lib/python3.7/site-packages/ipykernel_launcher.py:7: RuntimeWarning: invalid value encountered in less\n",
      "  import sys\n",
      "/usr/local/lib/python3.7/site-packages/ipykernel_launcher.py:7: RuntimeWarning: invalid value encountered in greater\n",
      "  import sys\n"
     ]
    },
    {
     "name": "stdout",
     "output_type": "stream",
     "text": [
      "(28.0, 68.0, -25.0)\n"
     ]
    }
   ],
   "source": [
    "### \n",
    "# powerlaw+peak across model uncertainty t= 6 yrs, 10 pm (MRD), DC =75 %\n",
    "\n",
    "print(Poisson_model_median_interval(2e3,1e3,8,6.,0.75,10,'powerlawpeak_lines_cutoff_giveni'))"
   ]
  },
  {
   "cell_type": "code",
   "execution_count": 20,
   "metadata": {},
   "outputs": [
    {
     "name": "stderr",
     "output_type": "stream",
     "text": [
      "/usr/local/lib/python3.7/site-packages/ipykernel_launcher.py:6: RuntimeWarning: invalid value encountered in sqrt\n",
      "  \n",
      "/usr/local/lib/python3.7/site-packages/ipykernel_launcher.py:7: RuntimeWarning: invalid value encountered in less\n",
      "  import sys\n",
      "/usr/local/lib/python3.7/site-packages/ipykernel_launcher.py:7: RuntimeWarning: invalid value encountered in greater\n",
      "  import sys\n"
     ]
    },
    {
     "name": "stdout",
     "output_type": "stream",
     "text": [
      "total:  (58.0, 66.0, -33.0)\n"
     ]
    }
   ],
   "source": [
    "print('total: ',Poisson_model_median_interval(2e3,1e3,8,6,.75,10, 'powerlawpeak_lines_giveni'))\n"
   ]
  },
  {
   "cell_type": "code",
   "execution_count": 21,
   "metadata": {
    "scrolled": false
   },
   "outputs": [
    {
     "name": "stderr",
     "output_type": "stream",
     "text": [
      "/usr/local/lib/python3.7/site-packages/ipykernel_launcher.py:6: RuntimeWarning: invalid value encountered in sqrt\n",
      "  \n",
      "/usr/local/lib/python3.7/site-packages/ipykernel_launcher.py:7: RuntimeWarning: invalid value encountered in less\n",
      "  import sys\n",
      "/usr/local/lib/python3.7/site-packages/ipykernel_launcher.py:7: RuntimeWarning: invalid value encountered in greater\n",
      "  import sys\n"
     ]
    },
    {
     "name": "stdout",
     "output_type": "stream",
     "text": [
      "(54.0, 106.0, -45.0)\n"
     ]
    }
   ],
   "source": [
    "### \n",
    "# powerlaw+peak across model uncertainty t= 10 yrs, 10 pm (MRD), DC =75 %\n",
    "\n",
    "print(Poisson_model_median_interval(2e3,1e3,8,10,0.75,10,'powerlawpeak_lines_cutoff_giveni'))"
   ]
  },
  {
   "cell_type": "code",
   "execution_count": 22,
   "metadata": {
    "scrolled": true
   },
   "outputs": [
    {
     "name": "stderr",
     "output_type": "stream",
     "text": [
      "/usr/local/lib/python3.7/site-packages/ipykernel_launcher.py:6: RuntimeWarning: invalid value encountered in sqrt\n",
      "  \n",
      "/usr/local/lib/python3.7/site-packages/ipykernel_launcher.py:7: RuntimeWarning: invalid value encountered in less\n",
      "  import sys\n",
      "/usr/local/lib/python3.7/site-packages/ipykernel_launcher.py:7: RuntimeWarning: invalid value encountered in greater\n",
      "  import sys\n"
     ]
    },
    {
     "name": "stdout",
     "output_type": "stream",
     "text": [
      "total:  (118.0, 115.0, -60.0)\n"
     ]
    }
   ],
   "source": [
    "print('total: ',Poisson_model_median_interval(2e3,1e3,8,10,.75,10, 'powerlawpeak_lines_giveni'))\n"
   ]
  },
  {
   "cell_type": "code",
   "execution_count": 24,
   "metadata": {
    "scrolled": false
   },
   "outputs": [
    {
     "name": "stderr",
     "output_type": "stream",
     "text": [
      "/usr/local/lib/python3.7/site-packages/ipykernel_launcher.py:6: RuntimeWarning: invalid value encountered in sqrt\n",
      "  \n",
      "/usr/local/lib/python3.7/site-packages/ipykernel_launcher.py:7: RuntimeWarning: invalid value encountered in less\n",
      "  import sys\n",
      "/usr/local/lib/python3.7/site-packages/ipykernel_launcher.py:7: RuntimeWarning: invalid value encountered in greater\n",
      "  import sys\n"
     ]
    },
    {
     "name": "stdout",
     "output_type": "stream",
     "text": [
      "(83.0, 150.0, -66.0)\n"
     ]
    }
   ],
   "source": [
    "### \n",
    "# powerlaw+peak across model uncertainty t= 10 yrs, 10 pm (MRD), DC =75 %\n",
    "\n",
    "print(Poisson_model_median_interval(2e3,1e3,8,10,1.,10,'powerlawpeak_lines_cutoff_giveni'))"
   ]
  },
  {
   "cell_type": "code",
   "execution_count": 25,
   "metadata": {
    "scrolled": true
   },
   "outputs": [
    {
     "name": "stderr",
     "output_type": "stream",
     "text": [
      "/usr/local/lib/python3.7/site-packages/ipykernel_launcher.py:6: RuntimeWarning: invalid value encountered in sqrt\n",
      "  \n",
      "/usr/local/lib/python3.7/site-packages/ipykernel_launcher.py:7: RuntimeWarning: invalid value encountered in less\n",
      "  import sys\n",
      "/usr/local/lib/python3.7/site-packages/ipykernel_launcher.py:7: RuntimeWarning: invalid value encountered in greater\n",
      "  import sys\n"
     ]
    },
    {
     "name": "stdout",
     "output_type": "stream",
     "text": [
      "total:  (176.0, 136.0, -82.0)\n"
     ]
    }
   ],
   "source": [
    "print('total: ',Poisson_model_median_interval(2e3,1e3,8,10,1.,10, 'powerlawpeak_lines_giveni'))\n"
   ]
  },
  {
   "cell_type": "markdown",
   "metadata": {},
   "source": [
    "# Results NR"
   ]
  },
  {
   "cell_type": "code",
   "execution_count": 14,
   "metadata": {},
   "outputs": [
    {
     "name": "stdout",
     "output_type": "stream",
     "text": [
      "88796702723.53726\n",
      "(11.0, 24.0, -9.0)\n"
     ]
    }
   ],
   "source": [
    "### #consolidatedistr(Nsingle,iterations,massoption,SNRth,tobs,dutycycle,index_lines,PM)\n",
    "# new NR with rate distribution (within Nsingle) t= 10 yrs, 15 pm (SciRD), DC =100 %\n",
    "\n",
    "med = Nevents(consolidatedistr(10**5,1,'NR_intrinsic',8.,10.,1.,1,15)) \n",
    "print(med)\n",
    "\n",
    "print(Poisson_Gamma_median_interval(med,1e3))"
   ]
  },
  {
   "cell_type": "code",
   "execution_count": 15,
   "metadata": {},
   "outputs": [
    {
     "name": "stdout",
     "output_type": "stream",
     "text": [
      "45905607970.238594\n",
      "(6.0, 12.0, -5.0)\n"
     ]
    }
   ],
   "source": [
    "### \n",
    "# new NR with rate distribution (within Nsingle) t= 6 yrs, 15 pm (SciRD), DC =100 %\n",
    "\n",
    "med = Nevents(consolidatedistr(10**5,1,'NR_intrinsic',8.,6.,1.,1,15)) \n",
    "print(med)\n",
    "\n",
    "print(Poisson_Gamma_median_interval(med,1e3))"
   ]
  },
  {
   "cell_type": "code",
   "execution_count": 16,
   "metadata": {},
   "outputs": [
    {
     "name": "stdout",
     "output_type": "stream",
     "text": [
      "31822916673.18849\n",
      "(4.0, 9.0, -4.0)\n"
     ]
    }
   ],
   "source": [
    "### \n",
    "# new NR with rate distribution (within Nsingle) t= 6 yrs, 15 pm (SciRD), DC =75 %\n",
    "\n",
    "med = Nevents(consolidatedistr(10**5,1,'NR_intrinsic',8.,6.,0.75,1,15.)) \n",
    "print(med)\n",
    "\n",
    "print(Poisson_Gamma_median_interval(med,1e3))"
   ]
  },
  {
   "cell_type": "code",
   "execution_count": 17,
   "metadata": {},
   "outputs": [
    {
     "name": "stdout",
     "output_type": "stream",
     "text": [
      "73038342368.40323\n",
      "(9.0, 18.0, -8.0)\n"
     ]
    }
   ],
   "source": [
    "### \n",
    "# new NR with rate distribution (within Nsingle) t= 6 yrs, 10 pm (MRD), DC =75 %\n",
    "\n",
    "med = Nevents(consolidatedistr(10**5,1,'NR_intrinsic',8.,6.,0.75,1,10.)) \n",
    "print(med)\n",
    "\n",
    "print(Poisson_Gamma_median_interval(med,1e3))"
   ]
  },
  {
   "cell_type": "code",
   "execution_count": 18,
   "metadata": {},
   "outputs": [
    {
     "name": "stdout",
     "output_type": "stream",
     "text": [
      "129026172643.88512\n",
      "(16.0, 33.0, -13.0)\n"
     ]
    }
   ],
   "source": [
    "### \n",
    "# new NR with rate distribution (within Nsingle) t= 10 yrs, 10 pm (MRD), DC =75 %\n",
    "\n",
    "med = Nevents(consolidatedistr(10**5,1,'NR_intrinsic',8.,10.,0.75,1,10.)) \n",
    "print(med)\n",
    "\n",
    "print(Poisson_Gamma_median_interval(med,1e3))"
   ]
  },
  {
   "cell_type": "code",
   "execution_count": 36,
   "metadata": {},
   "outputs": [
    {
     "name": "stdout",
     "output_type": "stream",
     "text": [
      "173303187850.63742\n",
      "(21.0, 44.0, -17.0)\n"
     ]
    }
   ],
   "source": [
    "### \n",
    "# new NR with rate distribution (within Nsingle) t= 10 yrs, 10 pm (MRD), DC =75 %\n",
    "\n",
    "med = Nevents(consolidatedistr(10**5,1,'NR_intrinsic',8.,10.,1.,1,10.)) \n",
    "print(med)\n",
    "\n",
    "print(Poisson_Gamma_median_interval(med,1e3))\n"
   ]
  },
  {
   "cell_type": "code",
   "execution_count": 43,
   "metadata": {},
   "outputs": [
    {
     "name": "stdout",
     "output_type": "stream",
     "text": [
      "[(4.0, 9.0, -4.0), (3.0, 7.0, -3.0), (2.0, 5.0, -2.0), (2.0, 4.0, -2.0), (1.0, 4.0, -1.0), (1.0, 3.0, -1.0), (1.0, 2.0, -1.0), (0.0, 3.0, 0.0)]\n"
     ]
    }
   ],
   "source": [
    "#to do again.\n",
    "\n",
    "#Nsingle,iterations,massoption,SNRth,tobs,dutycycle,index_lines,PM\n",
    "intervals_pess = [Poisson_Gamma_median_interval(Nevents(consolidatedistr(10**5,1,'NR_intrinsic',snrth,6.,0.75,1,15.)) ,1e3)\n",
    "             for snrth in [8.,9.,10.,11.,12.,13.,14.,15.] ]\n",
    "\n",
    "print(intervals_pess)\n"
   ]
  },
  {
   "cell_type": "code",
   "execution_count": 34,
   "metadata": {},
   "outputs": [],
   "source": [
    "intervals_pess =[(4.0, 9.0, -4.0), (3.0, 7.0, -3.0), (2.0, 5.0, -2.0), (2.0, 4.0, -2.0), (1.0, 4.0, -1.0), (1.0, 3.0, -1.0), (1.0, 2.0, -1.0), (0.0, 3.0, 0.0)]\n",
    "medians_pess=[]\n",
    "errorupper_pess=[]\n",
    "errorlower_pess=[]\n",
    "for i in range(len(intervals_pess)):\n",
    "    medians_pess.append(intervals_pess[i][0])\n",
    "    errorupper_pess.append(intervals_pess[i][1])\n",
    "    errorlower_pess.append(np.abs(intervals_pess[i][2]))\n",
    "    \n",
    "asymmetric_error_pess=[errorlower_pess,errorupper_pess]\n"
   ]
  },
  {
   "cell_type": "code",
   "execution_count": 33,
   "metadata": {},
   "outputs": [
    {
     "name": "stderr",
     "output_type": "stream",
     "text": [
      "/usr/local/lib/python3.7/site-packages/ipykernel_launcher.py:22: RuntimeWarning: overflow encountered in exp\n",
      "/usr/local/lib/python3.7/site-packages/ipykernel_launcher.py:22: RuntimeWarning: invalid value encountered in double_scalars\n",
      "/usr/local/lib/python3.7/site-packages/ipykernel_launcher.py:6: IntegrationWarning: The occurrence of roundoff error is detected, which prevents \n",
      "  the requested tolerance from being achieved.  The error may be \n",
      "  underestimated.\n",
      "  \n"
     ]
    }
   ],
   "source": [
    "#Nsingle,iterations,massoption,SNRth,tobs,dutycycle,index_lines,PM\n",
    "intervals = [Poisson_Gamma_median_interval(Nevents(consolidatedistr(10**5,1,'NR_intrinsic',snrth,10.,0.75,1,10.)) ,1e3)\n",
    "             for snrth in [4.,5.,6.,7,8,9,10,11,12,13,14,15] ]\n",
    "\n",
    "\n"
   ]
  },
  {
   "cell_type": "code",
   "execution_count": 25,
   "metadata": {},
   "outputs": [
    {
     "name": "stdout",
     "output_type": "stream",
     "text": [
      "[(56.0, 113.0, -45.0), (41.0, 69.0, -33.0), (29.0, 58.0, -24.0), (21.0, 42.0, -18.0), (17.0, 34.0, -14.0), (13.0, 26.0, -11.0), (10.0, 20.0, -9.0), (8.0, 16.0, -7.0), (6.0, 13.0, -5.0), (5.0, 11.0, -5.0), (4.0, 9.0, -4.0), (3.0, 8.0, -3.0)]\n"
     ]
    }
   ],
   "source": [
    "print(intervals)"
   ]
  },
  {
   "cell_type": "code",
   "execution_count": 35,
   "metadata": {},
   "outputs": [],
   "source": [
    "intervals = [(56.0, 113.0, -45.0), (41.0, 69.0, -33.0), (29.0, 58.0, -24.0), (21.0, 42.0, -18.0), (17.0, 34.0, -14.0), (13.0, 26.0, -11.0), (10.0, 20.0, -9.0), (8.0, 16.0, -7.0), (6.0, 13.0, -5.0), (5.0, 11.0, -5.0), (4.0, 9.0, -4.0), (3.0, 8.0, -3.0)]\n",
    "medians=[]\n",
    "errorupper=[]\n",
    "errorlower=[]\n",
    "for i in range(len(intervals)):\n",
    "    medians.append(intervals[i][0])\n",
    "    errorupper.append(intervals[i][1])\n",
    "    errorlower.append(np.abs(intervals[i][2]))\n",
    "    \n",
    "asymmetric_error=[errorlower,errorupper]\n"
   ]
  },
  {
   "cell_type": "code",
   "execution_count": 45,
   "metadata": {},
   "outputs": [
    {
     "data": {
      "image/png": "[encoded data removed]",
      "text/plain": [
       "<Figure size 383.76x288 with 1 Axes>"
      ]
     },
     "metadata": {
      "needs_background": "light"
     },
     "output_type": "display_data"
    }
   ],
   "source": [
    "snrs=[4.,5.,6.,7,8,9,10,11,12,13,14,15]\n",
    "snrs_pess=[8.1,9.1,10.1,11.1,12.1,13.1,14.1,15.1]\n",
    "\n",
    "fig,ax = plt.subplots(figsize=(5.33,4))\n",
    "ax.errorbar(snrs, medians, yerr=asymmetric_error, fmt='o', color='b', label='MRD 10 yrs')\n",
    "ax.errorbar(snrs_pess, medians_pess, yerr=asymmetric_error_pess, fmt='o', color='r', label='SciRD 6 yrs')\n",
    "ax.set_xlabel(r'${\\rm SNR}_{\\rm thr}$')\n",
    "ax.set_ylabel(r'$N$')\n",
    "ax.set_xlim((7.5,15.5))\n",
    "ax.set_ylim((-5,60))\n",
    "ax.tick_params(labelsize=12)\n",
    "\n",
    "legend2 = plt.legend(loc=(0.6,0.765),fontsize=11,framealpha=0.5,handlelength=1.8)\n",
    "legend2.get_frame().set_linewidth(0.0)\n",
    "\n",
    "plt.tight_layout()\n",
    "plt.savefig('N_vs_thr_model=NR_t=10_6_dc=75_MRD_SciRD_new.pdf',bbox_inches='tight')\n",
    "plt.show()"
   ]
  },
  {
   "cell_type": "markdown",
   "metadata": {},
   "source": [
    "### Tests misc"
   ]
  },
  {
   "cell_type": "code",
   "execution_count": 59,
   "metadata": {},
   "outputs": [
    {
     "data": {
      "image/png": "[encoded data removed]",
      "text/plain": [
       "<Figure size 432x288 with 2 Axes>"
      ]
     },
     "metadata": {
      "needs_background": "light"
     },
     "output_type": "display_data"
    }
   ],
   "source": [
    "plt.imshow(new_pops[7,:,:])\n",
    "plt.colorbar()\n",
    "plt.show() "
   ]
  },
  {
   "cell_type": "code",
   "execution_count": 72,
   "metadata": {},
   "outputs": [
    {
     "name": "stderr",
     "output_type": "stream",
     "text": [
      "/usr/local/lib/python3.7/site-packages/ipykernel_launcher.py:11: RuntimeWarning: overflow encountered in exp\n",
      "  # This is added back by InteractiveShellApp.init_path()\n"
     ]
    },
    {
     "name": "stdout",
     "output_type": "stream",
     "text": [
      "1.338481999999999\n"
     ]
    }
   ],
   "source": [
    "#test pre-compute\n",
    "\n",
    "t = time.process_time()\n",
    "index_p= 0\n",
    "test = zeros((len(mass_1),len(mass_ratio)))\n",
    "\n",
    "firstterms=list(map(lambda x: powerlawm1(x,samples_pop['lam'][index_p],samples_pop['alpha'][index_p],\n",
    "                                             samples_pop['mmin'][index_p],samples_pop['delta_m'][index_p],\n",
    "                                             samples_pop['mmax'][index_p],samples_pop['mpp'][index_p],\n",
    "                                             samples_pop['sigpp'][index_p]), mass_1))\n",
    "\n",
    "for i in range(len(mass_1)):\n",
    "    for j in range(len(mass_ratio)):\n",
    "        secondterm=powerlawq(mass_ratio[j],samples_pop['beta'][index_p],samples_pop['mmin'][index_p],\n",
    "                             mass_1[i],samples_pop['delta_m'][index_p])\n",
    "        test[i,j]=firstterms[i]*secondterm\n",
    "        \n",
    "test = np.transpose(test)\n",
    "elapsed_time = time.process_time() - t\n",
    "print(elapsed_time)"
   ]
  },
  {
   "cell_type": "code",
   "execution_count": 232,
   "metadata": {},
   "outputs": [
    {
     "data": {
      "image/png": "[encoded data removed]",
      "text/plain": [
       "<Figure size 432x288 with 2 Axes>"
      ]
     },
     "metadata": {
      "needs_background": "light"
     },
     "output_type": "display_data"
    },
    {
     "name": "stdout",
     "output_type": "stream",
     "text": [
      "26.83733995309088 26.563489545406274\n"
     ]
    }
   ],
   "source": [
    "index_lines_max=mass_lines[\"mass_ratio\"].shape[0]\n",
    "index=800\n",
    "mass_ppd_1=np.outer(mass_lines[\"mass_ratio\"][index_lines],mass_lines[\"mass_1\"][index_lines])\n",
    "\n",
    "plt.imshow(mass_ppd_1)#,  #extent=[0.1,1,3,100]);\n",
    "plt.colorbar()\n",
    "plt.show() \n",
    "\n",
    "realrate=np.trapz(mass_lines[\"mass_ratio\"][index],mass_ratio)\n",
    "realrate2=np.trapz(mass_lines[\"mass_1\"][index],mass_1)\n",
    "print(realrate,realrate2)\n"
   ]
  },
  {
   "cell_type": "code",
   "execution_count": 105,
   "metadata": {
    "scrolled": true
   },
   "outputs": [
    {
     "name": "stdout",
     "output_type": "stream",
     "text": [
      "9.893893893893894 0.7691382765531062\n"
     ]
    }
   ],
   "source": [
    "# sample from numerical dist\n",
    "rate_powerlawpeak = np.trapz(np.trapz(mass_ppd, mass_ratio, axis=0),mass_1,axis=0)\n",
    "print('rate:',rate_powerlawpeak)\n",
    "\n",
    "# Create a flat copy of the array (https://stackoverflow.com/questions/56017163/given-a-2d-numpy-array-representing-a-2d-distribution-how-to-sample-data-from-t)\n",
    "flat = mass_ppd.flatten()/mass_ppd.flatten().sum()\n",
    "\n",
    "\n",
    "# Then, sample an index from the 1D array with the\n",
    "# probability distribution from the original array\n",
    "sample_index = np.random.choice(a=flat.size, p=flat)\n",
    "\n",
    "# Take this index and adjust it so it matches the original array\n",
    "adjusted_index = np.unravel_index(sample_index, mass_ppd.shape)\n",
    "#print(mass_1[adjusted_index[1]], mass_ratio[adjusted_index[0]] )\n"
   ]
  },
  {
   "cell_type": "code",
   "execution_count": 44,
   "metadata": {},
   "outputs": [],
   "source": [
    "m1samples= [] \n",
    "qsamples = []\n",
    "for i in range(6300):\n",
    "    flat = mass_ppd_norm.flatten()/mass_ppd_norm.flatten().sum()\n",
    "    sample_index = np.random.choice(a=flat.size, p=flat)\n",
    "    adjusted_index = np.unravel_index(sample_index, mass_ppd.shape)\n",
    "    m1 = mass_1[adjusted_index[1]]\n",
    "    q = mass_ratio[adjusted_index[0]]\n",
    "    m1samples.append(m1)\n",
    "    qsamples.append(q) \n",
    "    "
   ]
  },
  {
   "cell_type": "code",
   "execution_count": 43,
   "metadata": {},
   "outputs": [
    {
     "data": {
      "text/plain": [
       "6300"
      ]
     },
     "execution_count": 43,
     "metadata": {},
     "output_type": "execute_result"
    }
   ],
   "source": [
    "samplesAndrea = np.loadtxt('samples_ary.txt')\n",
    "len(samplesAndrea)"
   ]
  },
  {
   "cell_type": "code",
   "execution_count": 84,
   "metadata": {},
   "outputs": [],
   "source": [
    "m1_ppd=np.sum(mass_ppd,axis=0)*(mass_ratio[1]-mass_ratio[0])/np.sum(mass_ppd_norm)"
   ]
  },
  {
   "cell_type": "code",
   "execution_count": 89,
   "metadata": {},
   "outputs": [
    {
     "data": {
      "text/plain": [
       "Text(0, 0.5, '$p(m1)$')"
      ]
     },
     "execution_count": 89,
     "metadata": {},
     "output_type": "execute_result"
    },
    {
     "data": {
      "image/png": "[encoded data removed]",
      "text/plain": [
       "<Figure size 432x288 with 1 Axes>"
      ]
     },
     "metadata": {
      "needs_background": "light"
     },
     "output_type": "display_data"
    }
   ],
   "source": [
    "plt.hist(m1samples,100,alpha=0.5,density=True,label='Laura')\n",
    "plt.hist(samplesAndrea[:,1],100,alpha=0.5,density=True,label='Andrea')\n",
    "plt.plot(mass_1,m1_ppd,label='True')\n",
    "plt.xlabel(r\"$m1$\")\n",
    "plt.legend()\n",
    "plt.ylabel(r\"$p(m1)$\")\n",
    "#plt.gca().set_yticks([]);"
   ]
  },
  {
   "cell_type": "code",
   "execution_count": 45,
   "metadata": {},
   "outputs": [
    {
     "data": {
      "text/plain": [
       "Text(0, 0.5, 'm1')"
      ]
     },
     "execution_count": 45,
     "metadata": {},
     "output_type": "execute_result"
    },
    {
     "data": {
      "image/png": "[encoded data removed]",
      "text/plain": [
       "<Figure size 432x288 with 1 Axes>"
      ]
     },
     "metadata": {
      "needs_background": "light"
     },
     "output_type": "display_data"
    }
   ],
   "source": [
    "plt.scatter(qsamples, m1samples, s=1)\n",
    "plt.xlabel('q')\n",
    "plt.ylabel('m1')"
   ]
  },
  {
   "cell_type": "code",
   "execution_count": 46,
   "metadata": {},
   "outputs": [
    {
     "data": {
      "text/plain": [
       "Text(0, 0.5, 'm1')"
      ]
     },
     "execution_count": 46,
     "metadata": {},
     "output_type": "execute_result"
    },
    {
     "data": {
      "image/png": "[encoded data removed]",
      "text/plain": [
       "<Figure size 432x288 with 1 Axes>"
      ]
     },
     "metadata": {
      "needs_background": "light"
     },
     "output_type": "display_data"
    }
   ],
   "source": [
    "plt.scatter(samplesAndrea[:,0], samplesAndrea[:,1], s=1)\n",
    "plt.xlabel('q')\n",
    "plt.ylabel('m1')"
   ]
  },
  {
   "cell_type": "code",
   "execution_count": 4,
   "metadata": {},
   "outputs": [],
   "source": [
    "#mass_ppd.shape\n",
    "#mass_and_ratio = np.zeros(mass_ppd.shape)#,dtype=tuple)\n",
    "#for i in range(mass_ppd.shape[0]):\n",
    "#    for j in range(mass_ppd.shape[1]):\n",
    "#        mass_and_ratio[i,j] = mass_ratio[i]*mass_1[j]"
   ]
  },
  {
   "cell_type": "code",
   "execution_count": 97,
   "metadata": {},
   "outputs": [
    {
     "name": "stdout",
     "output_type": "stream",
     "text": [
      "24.87981296458682\n"
     ]
    }
   ],
   "source": [
    "#flat = mass_ppd.flatten()/np.trapz(np.trapz(mass_ppd, mass_ratio, axis=0), mass_1, axis=0)\n",
    "#mass_ppd_norm = np.zeros(mass_ppd.shape)#,dtype=tuple)\n",
    "\n",
    "#for i in range(mass_ppd.shape[0]-1): #ratio\n",
    "#    for j in range(mass_ppd.shape[1]-1): #m1\n",
    "#        if i<mass_ppd.shape[0]:\n",
    "#            mass_ppd_norm[i,j] = mass_ppd[i,j] * (mass_ratio[i+1]-mass_ratio[i])\n",
    "#        else:\n",
    "#            mass_ppd_norm[i,j] = mass_ppd[i,j] * 0\n",
    "#        if j<mass_ppd.shape[1]:\n",
    "#            mass_ppd_norm[i,j] = mass_ppd_norm[i,j] * (mass_1[j+1]-mass_1[j])\n",
    "#        else:\n",
    "#            mass_ppd_norm[i,j] = mass_ppd_norm[i,j] * 0 \n",
    "\n"
   ]
  }
 ],
 "metadata": {
  "kernelspec": {
   "display_name": "Python 3",
   "language": "python",
   "name": "python3"
  },
  "language_info": {
   "codemirror_mode": {
    "name": "ipython",
    "version": 3
   },
   "file_extension": ".py",
   "mimetype": "text/x-python",
   "name": "python",
   "nbconvert_exporter": "python",
   "pygments_lexer": "ipython3",
   "version": "3.7.3"
  }
 },
 "nbformat": 4,
 "nbformat_minor": 4
}
