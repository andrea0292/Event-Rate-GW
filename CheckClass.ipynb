{
 "cells": [
  {
   "cell_type": "code",
   "execution_count": 8,
   "metadata": {},
   "outputs": [],
   "source": [
    "import numpy as np\n",
    "from scipy import integrate\n",
    "import corner\n",
    "import random\n",
    "from collections import Counter\n",
    "import time\n",
    "import scipy\n",
    "from scipy.stats import poisson # use as poisson.pmf(number of events , mean value)\n",
    "from scipy import optimize\n",
    "import multiprocessing as mp\n",
    "from multiprocessing import Pool\n",
    "\n",
    "import astropy.units as u\n",
    "import astropy.constants as c\n",
    "from astropy.cosmology import FlatLambdaCDM, z_at_value\n",
    "from tqdm import *\n",
    "from astropy.cosmology import Planck13 as cosmo\n",
    "from astropy import constants as const\n",
    "import cmath\n",
    "\n",
    "year = 60*60*24*(365.250000000000000000000000000); # s\n"
   ]
  },
  {
   "cell_type": "markdown",
   "metadata": {},
   "source": [
    "# Check the Python class"
   ]
  },
  {
   "cell_type": "markdown",
   "metadata": {},
   "source": [
    "To start with, let's take a look at the class for GW general function. To calculate for example merger times  "
   ]
  },
  {
   "cell_type": "code",
   "execution_count": 3,
   "metadata": {},
   "outputs": [],
   "source": [
    "from EventRates import GWfunctions\n",
    "from EventRates import NumberIntrinsic\n",
    "from EventRates import NumberRates\n",
    "\n",
    "# create an instance of the GWfunctions and for the event rates\n",
    "\n",
    "GW = GWfunctions()\n",
    "Nevents = NumberIntrinsic()\n",
    "NeventFinal = NumberRates()"
   ]
  },
  {
   "cell_type": "code",
   "execution_count": 9,
   "metadata": {},
   "outputs": [
    {
     "data": {
      "text/plain": [
       "13427940.460558776"
      ]
     },
     "execution_count": 9,
     "metadata": {},
     "output_type": "execute_result"
    }
   ],
   "source": [
    "GW.Tmerger(10 ,12, 0.1)"
   ]
  },
  {
   "cell_type": "code",
   "execution_count": 10,
   "metadata": {},
   "outputs": [
    {
     "data": {
      "text/plain": [
       "6.155512461769017"
      ]
     },
     "execution_count": 10,
     "metadata": {},
     "output_type": "execute_result"
    }
   ],
   "source": [
    "z0 = 0.24716227944027847\n",
    "tmerger0 = 5.073762956477287*year\n",
    "m10 = 88.7\n",
    "m20 = 64.93\n",
    "(iota0, psi0, theta0, phi0) = 2.23353428920549, 5.484427462941964, 2.014813251983311, 2.374251372635906\n",
    "fmin0 = GW.findFmin(tmerger0,m10,m20)\n",
    "tobs = 6.*year\n",
    "fmax0= GW.getfmax(m10*(1.+z0),m20*(1.+z0),fmin0/(1+z0),tobs)\n",
    "\n",
    "GW.SNR(iota0,psi0,theta0,phi0,fmin0/(1+z0),fmax0,m10*(1+z0),m20*(1+z0),GW.distL(z0),15)\n"
   ]
  },
  {
   "cell_type": "markdown",
   "metadata": {},
   "source": [
    "Event rate intrinsic"
   ]
  },
  {
   "cell_type": "code",
   "execution_count": null,
   "metadata": {},
   "outputs": [],
   "source": [
    "# Function --> NeventsIntrinsic(Nsingle,iterations, massoption,SNRth, Tobs, duty, ttmin, ttmax, leng)\n",
    "# Leng refer to LISA noise, 15 or 10 (pm)"
   ]
  },
  {
   "cell_type": "code",
   "execution_count": 7,
   "metadata": {},
   "outputs": [
    {
     "data": {
      "text/plain": [
       "39.92736320714672"
      ]
     },
     "execution_count": 7,
     "metadata": {},
     "output_type": "execute_result"
    }
   ],
   "source": [
    "Nevents.NeventsIntrinsic(10000, 1,'NR',8, 10, 0.75, 0.0001, 40, 10)"
   ]
  },
  {
   "cell_type": "code",
   "execution_count": 5,
   "metadata": {},
   "outputs": [
    {
     "data": {
      "text/plain": [
       "(5.0, 11.0, -5.0)"
      ]
     },
     "execution_count": 5,
     "metadata": {},
     "output_type": "execute_result"
    }
   ],
   "source": [
    "NeventFinal.NumberEvents(100, 100, 10000, 1,'NR',8, 10, 0.75, 0.0001, 40, 10)"
   ]
  },
  {
   "cell_type": "code",
   "execution_count": null,
   "metadata": {},
   "outputs": [],
   "source": []
  }
 ],
 "metadata": {
  "kernelspec": {
   "display_name": "Python 3",
   "language": "python",
   "name": "python3"
  },
  "language_info": {
   "codemirror_mode": {
    "name": "ipython",
    "version": 3
   },
   "file_extension": ".py",
   "mimetype": "text/x-python",
   "name": "python",
   "nbconvert_exporter": "python",
   "pygments_lexer": "ipython3",
   "version": "3.7.2"
  }
 },
 "nbformat": 4,
 "nbformat_minor": 4
}
