{
 "cells": [
  {
   "cell_type": "code",
   "execution_count": 1,
   "metadata": {},
   "outputs": [],
   "source": [
    "import numpy as np\n",
    "from numpy import sqrt\n",
    "from numpy import sin\n",
    "from numpy import pi\n",
    "from numpy import cos\n",
    "from numpy import exp\n",
    "from numpy import tanh\n",
    "from numpy import zeros\n",
    "from numpy import arccos\n",
    "from numpy import log10\n",
    "from matplotlib import pyplot as plt\n",
    "import scipy.optimize as opt\n",
    "import emcee\n",
    "from pylab import plot\n",
    "from scipy import integrate\n",
    "import corner\n",
    "import random\n",
    "from collections import Counter\n",
    "import time\n",
    "import scipy\n",
    "from scipy.stats import poisson # use as poisson.pmf(number of events , mean value)\n",
    "from scipy import optimize\n",
    "import multiprocessing as mp\n",
    "from multiprocessing import Pool\n",
    "\n",
    "import astropy.units as u\n",
    "import astropy.constants as c\n",
    "from astropy.cosmology import FlatLambdaCDM, z_at_value\n",
    "from tqdm import *\n",
    "from astropy.cosmology import Planck13 as cosmo\n",
    "from astropy import constants as const"
   ]
  },
  {
   "cell_type": "code",
   "execution_count": 2,
   "metadata": {},
   "outputs": [],
   "source": [
    "import cmath\n",
    "# we work in geometrized units\n",
    "Msol = 1.47680000000000000000000000000000000 # in km\n",
    "c = 1 # we have actually put them to one everywhere in the code already\n",
    "G = 1\n",
    "year = 60*60*24*(365.250000000000000000000000000); # s\n",
    "cc = 2.9980000000000000000000000000000*10**5 # velocity of light in Km/s\n",
    "pc = 3.0856770000000000000000000000*10**13 # km\n",
    "\n",
    "H0 = 67.9 # km /s / Mpc # changed to PLANCK 2015\n",
    "Omegam = 0.306\n",
    "OmegaL = 0.694\n",
    "Omegar = 0.\n",
    "\n",
    "# some useful functions \n",
    "def distL(z):\n",
    "    return (1+z) * integrate.quad(invE,0,z)[0] *cc / H0 *10**6*pc # km\n",
    "\n",
    "def Ez(z):\n",
    "    return sqrt(Omegar*(1+z)**4+Omegam*(1+z)**3+OmegaL)\n",
    "\n",
    "def invE(z):\n",
    "    return 1. / Ez(z)\n",
    "\n",
    "def primopezzo(zp):\n",
    "    return 1/Ez(zp)*(integrate.quad(invE,0,zp)[0])**2\n",
    "\n",
    "def dVdz(z):\n",
    "    return 4*pi*(cc/H0)**3*primopezzo(z) # Mpc**3\n",
    "\n",
    "def dtdf(f,m1,m2):  # Hz, km, km, gravitational wave frequency\n",
    "    return 5/(96*pi**(8/3))*(1./cc*(m1 + m2)*(m1*m2/(m1 + m2)**2)**(3/5))**(-5/\n",
    "  3)*f**(-11/3)  # s^2, assuming f in Hz and m in km\n",
    "\n",
    "def solof(f):\n",
    "    return f**(-11/3)\n",
    "\n",
    "def nu(m1,m2):\n",
    "    return m1*m2/((m1+m2)**2)\n",
    "\n",
    "def Mc(m1,m2):\n",
    "    return (m1 + m2) * (m1*m2/((m1+m2)**2))**(3/5)"
   ]
  },
  {
   "cell_type": "code",
   "execution_count": 3,
   "metadata": {},
   "outputs": [],
   "source": [
    "# Some other useful functions for frequencies, time of merger, ecc \n",
    "\n",
    "# frequency functions \n",
    "\n",
    "def fMIN2(fmax0,m1,m2,Tobs): # gravitational wave frequency\n",
    "    return 1/(1/fmax0**(8/3)+256/5*(Mc(m1,m2)/cc)**(5/3)*pi**(8/3)*(Tobs))**(3/8)\n",
    "\n",
    "def fmax(m1,m2,fmin,Tobs): # gravitational wave frequency\n",
    "    return fmin*((5*cc)/(5*cc-256*fmin**(8/3)*pi**(8/3)*Tobs*Mc(m1,m2)*(Mc(m1,m2)/cc)**(2/3)))**(3/8)\n",
    "\n",
    "\n",
    "# gives fmax, given fmin and Tobs. If fmax is above 10 Hz, gives 10 Hz instead. frequency is always in Hz\n",
    "\n",
    "def getfmax(m1,m2,fmin,Tobs): # gravitational wave frequency\n",
    "    if fMIN2(1,m1,m2,Tobs)>fmin:\n",
    "        return fmax(m1,m2,fmin,Tobs)\n",
    "    else: \n",
    "        return 1\n",
    "    \n",
    "def Tmerger(m1,m2,fmin): # gravitational wave frequency\n",
    "    return 5. * (m1 + m2)**(1./3.) * cc**(5./3.)/ (256. * fmin**(8./3.) * m1 * m2 * pi**(8./3.))\n",
    "\n",
    "getfmax(13.251739749586237,12.614719123231842,0.07658687835617596,10*year)\n",
    "Tmerger(29*Msol,36*Msol,0.01)/year\n",
    "\n",
    "\n",
    "from scipy.optimize import root_scalar\n",
    "def findFmin(timemerger,m1,m2):\n",
    "    def condition(fmin):\n",
    "        return timemerger-Tmerger(m1,m2,fmin)\n",
    "    return root_scalar(condition,bracket=(10**-4,0.1)).root\n",
    "\n"
   ]
  },
  {
   "cell_type": "code",
   "execution_count": 4,
   "metadata": {},
   "outputs": [],
   "source": [
    "#here we want to add also the part with the SNR \n",
    "\n",
    "# LISA noise parameters\n",
    "Amp = 5/10*18/10*10**-44\n",
    "alpha = 138/1000\n",
    "beta = -221\n",
    "kappa = 521\n",
    "gamma = 1680\n",
    "fk = 113/10**5\n",
    "L0 = 25/10*10**9\n",
    "fstar = 1909/100*10**-3\n",
    "pm = 10**-12\n",
    "\n",
    "skyav=(4/5*sqrt(2)*sin(pi/3))\n",
    "\n",
    "# noise function, checked with Mathematica\n",
    "\n",
    "def Sacc(f):\n",
    "    return (3*10**-15)**2*(1+(4/10*10**-3/f)**2)*(1+(f/(8*10**-3))**4)\n",
    "\n",
    "def Sgal(f):\n",
    "    return Amp*f**(-7/3)*exp(-f**alpha+beta*f*sin(kappa*f))*(1+tanh(gamma*(fk-f)))\n",
    "\n",
    "def Soms(f):\n",
    "    return (15. *pm)**2*(1+(2*10**-3/f)**4)  # noi: 10\n",
    "\n",
    "def Sacc(f):\n",
    "    return (3*10**-15)**2*(1+(4/10*10**-3/f)**2)*(1+(f/(8*10**-3))**4)\n",
    "    \n",
    "def SnSA(f):\n",
    "    return 10/3*(4*Sacc(f)/(2*pi*f)**4+Soms(f))/(L0**2)*(1+6/10*(f/fstar)**2)\n",
    "\n",
    "def R(f):\n",
    "    return 3/20*2\n",
    "\n",
    "def Sn(f):\n",
    "    return abs(SnSA(f)+Sgal(f))\n",
    "\n",
    "def Pn(f): # gravitational wave frequency\n",
    "    return abs(Sn(f)*R(f))\n",
    "\n",
    "def Aplus(iota,psi):\n",
    "    return -(1+cos(iota)**2)*cos(2*psi)-2*cos(iota)*sin(2*psi)\n",
    "\n",
    "def Across(iota,psi):\n",
    "    return (1+cos(iota)**2)*sin(2*psi)-2*cos(iota)*cos(2*psi)\n",
    "\n",
    "def Fplus(theta,phi):\n",
    "    return 1/2*(1+cos(theta)**2)*cos(2*phi)\n",
    "\n",
    "def Fcross(theta,phi):\n",
    "    return cos(theta)*sin(2*phi)\n",
    "\n",
    "def factorsky(iota,psi,theta,phi):\n",
    "    return Fplus(theta,phi)*Aplus(iota,psi)+1j*Fcross(theta,phi)*Across(iota,psi)\n",
    "\n",
    "def factorskySNR(iota,psi,theta,phi):\n",
    "    return abs(sqrt(2)*sin(pi/3)*(Fplus(theta,phi)*Aplus(iota,psi)+1j*Fcross(theta,phi)*Across(iota,psi)))\n"
   ]
  },
  {
   "cell_type": "code",
   "execution_count": 7,
   "metadata": {},
   "outputs": [],
   "source": [
    "# waveform\n",
    "\n",
    "def ampl(m1,m2,d): \n",
    "    return (Mc(m1,m2)*G)**(5/6)*sqrt(5/24)/(pi**(2/3)*d*c**(3/2))\n",
    "def habs(m1,m2,d,f): # gravitational wave frequency\n",
    "    return ampl(m1,m2,d)*f**(-7/6)\n",
    "\n",
    "#print(habs(12.4913,12.3884,10.8287*10**6*pc,1./cc))"
   ]
  },
  {
   "cell_type": "code",
   "execution_count": 9,
   "metadata": {},
   "outputs": [],
   "source": [
    "# Here we define the SNR; \n",
    "# be careful that I have already put the factor for the sky average\n",
    "# we use the GW only template.\n",
    "\n",
    "def SNR(iota,psi,theta,phi,fmin,fmax,m1,m2,d): # gravitational wave frequency\n",
    "    return sqrt(4*integrate.quad(lambda x: (factorskySNR(iota,psi,theta,phi)*habs(m1,m2,d, x/cc))**2/(Pn(x)*(cc**2)), fmin, fmax)[0])\n",
    "#different noise here!\n",
    "\n",
    "def SNRAverage(fmin,fmax,m1,m2,d): # gravitational wave frequency\n",
    "    return sqrt(4*integrate.quad(lambda x: (skyav*habs(m1,m2,d, x/cc))**2/(Pn(x)*(cc**2)), fmin, fmax)[0])\n",
    "\n",
    "\n",
    "#print(SNR(pi/4,pi/4,pi/4,pi/4,0.01,fmax(30*Msol,10*Msol,0.01,10*year),60*Msol,10*Msol,400*10**6*pc),400*10**6*pc)\n",
    "#print(SNR(pi/4,pi/4,pi/4,pi/4,0.01,1,10*Msol,20*Msol,10**23))\n"
   ]
  },
  {
   "cell_type": "code",
   "execution_count": 10,
   "metadata": {},
   "outputs": [],
   "source": [
    "eobdata = np.loadtxt('EOBmasses.dat')\n",
    "\n",
    "NRdata = np.loadtxt('NRmasses.dat')\n",
    "\n",
    "Phendata = np.loadtxt('PHENmasses.dat')"
   ]
  },
  {
   "cell_type": "code",
   "execution_count": 11,
   "metadata": {},
   "outputs": [],
   "source": [
    "def gendistr(N,iteration,massoption,SNRth):\n",
    "    \n",
    "\n",
    "    N=int(N)\n",
    "    # Define functions to store intermediate products; I haven't decided on the most convenient format for the final catalogs yet...\n",
    "\n",
    "    massmin=50*Msol\n",
    "    massmax=100*Msol\n",
    "\n",
    "    # Largest horizon redshift; don't waste computing time above this\n",
    "    zmax = 0.512\n",
    "    zmin = 0.1\n",
    "    # Largest comoving distance for sampling\n",
    "    #??? dove la usa? -->  cdmax=astropy.cosmology.Planck15.comoving_distance(zmax).value # Mpc\n",
    "    # z pdf normalization. Comoving volume at largest redshift (because comoving volume at z=0 is 0)\n",
    "    # Vczhor = (astropy.cosmology.Planck15.comoving_volume(zmax)/astropy.units.Gpc**3).decompose().value #Gpc^3\n",
    "    # largest merger time (yrs)\n",
    "    tmax = 40\n",
    "    tobs = 10\n",
    "    # ground-based duty cycle\n",
    "    dutycycle= 1\n",
    "\n",
    "    data=[]\n",
    "    for i in range(N):\n",
    "\n",
    "        #Comoving distance uniform on sphere\n",
    "        #while True:\n",
    "        #    cd = np.sum(np.random.uniform(0, cdmax,3)**2)**0.5\n",
    "        #    if cd<cdmax: break\n",
    "        # Convert to redshift\n",
    "        #z = astropy.cosmology.z_at_value(astropy.cosmology.Planck15.comoving_distance,cd*astropy.units.Mpc )\n",
    "        # Convert to luminosity distance\n",
    "\n",
    "\n",
    "        z = np.random.uniform(zmin,zmax)\n",
    "        dl = distL(z)\n",
    "\n",
    "        # Mass spectrum\n",
    "        if massoption=='log': # Log flat distribution in both masses\n",
    "            bothm=10**np.random.uniform(np.log10(massmin),np.log10(massmax),2)\n",
    "            m1= max(bothm)\n",
    "            m2= min(bothm)\n",
    "        \n",
    "        if massoption == 'EOB':\n",
    "            index = np.random.choice(len(eobdata))\n",
    "            m1 = Msol*eobdata[index][0]\n",
    "            m2 = Msol*eobdata[index][1]\n",
    "        \n",
    "        if massoption == 'PHEN':\n",
    "            index = np.random.choice(len(Phendata))\n",
    "            m1 = Msol* Phendata[index][0]\n",
    "            m2 = Msol*Phendata[index][1]\n",
    "            \n",
    "        if massoption == 'NR':\n",
    "            index = np.random.choice(len(NRdata))\n",
    "            m1 = Msol*NRdata[index][0]\n",
    "            m2 = Msol*NRdata[index][1]\n",
    "        \n",
    "        if massoption=='powerlaw': # Power law with spectral index alpha in primary; uniform in secondary\n",
    "            alpha=-2.3\n",
    "            m1 = (massmin**(alpha+1.)+np.random.uniform(0.,1.)*(massmax**(alpha+1.)-massmin**(alpha+1.)))**(1./(alpha+1.))\n",
    "            m2 = np.random.uniform(massmin,m1)\n",
    "        # Sky-location, inclination, polarization, initial phase\n",
    "        cosiota = random.uniform(-1.,1.)\n",
    "        psi = random.uniform(0,2*pi)\n",
    "        costheta=random.uniform(-1.,1.)\n",
    "        phi=random.uniform(0,2*pi)\n",
    "        iota=np.arccos(cosiota)\n",
    "        theta=np.arccos(costheta)\n",
    "        #phic = np.random.uniform(0,2.*np.pi)\n",
    "        \n",
    "        # Merger time\n",
    "        tmerger=np.random.uniform(1*year,41*year)\n",
    "        \n",
    "        #fmin=np.random.uniform(1e-5,0.01)\n",
    "        fmin=findFmin(tmerger,m1,m2)\n",
    "        Fmax= getfmax(m1*(1+z),m2*(1+z),fmin/(1+z),tobs*year)  #fmax(m1,m2,fmin,tobs*year)\n",
    "        #Fmax = 1 #Fmax=1\n",
    "        snr=np.sqrt(dutycycle)*SNR(iota,psi,theta,phi,fmin/(1+z),Fmax,m1*(1+z),m2*(1+z),dl)\n",
    "\n",
    "\n",
    "        # Order from Antoine's code:\n",
    "        # double m1 = atof(argv[1]);\n",
    "        # double m2 = atof(argv[2]);\n",
    "        # double costhN = atof(argv[3]);\n",
    "        # double phiN = atof(argv[4]);\n",
    "        # double dist = atof(argv[5]);\n",
    "        # double costhL = atof(argv[6]);\n",
    "        # double phiL = atof(argv[7]);\n",
    "        # double tmerger = atof(argv[8]);\n",
    "        # double phic = atof(argv[9]);\n",
    "\n",
    "        # Here I pile up together some factors in the rate integral\n",
    "        #dVcdz = dVdz(z)\n",
    "        dVcdz = cosmo.comoving_volume(z).value \n",
    "        integralbulk = tmax * (zmax-zmin) * dVcdz   *np.heaviside(snr-SNRth,0) * (1./(1.+z))\n",
    "\n",
    "        data.append(np.array([m1,m2,z,fmin,integralbulk,snr]))\n",
    "\n",
    "    return np.array(data).T\n",
    "\n"
   ]
  },
  {
   "cell_type": "code",
   "execution_count": 12,
   "metadata": {},
   "outputs": [],
   "source": [
    "zP = np.random.uniform(0.1,0.512)\n",
    "dlP = distL(zP)"
   ]
  },
  {
   "cell_type": "code",
   "execution_count": 13,
   "metadata": {},
   "outputs": [],
   "source": [
    "tmergerP=np.random.uniform(1*year,41*year)"
   ]
  },
  {
   "cell_type": "code",
   "execution_count": 14,
   "metadata": {},
   "outputs": [],
   "source": [
    "indexP = np.random.choice(len(Phendata))\n",
    "m1P = Phendata[indexP][0]\n",
    "m2P = Phendata[indexP][1]"
   ]
  },
  {
   "cell_type": "code",
   "execution_count": 15,
   "metadata": {},
   "outputs": [],
   "source": [
    "fminP=findFmin(tmergerP,m1P,m2P)"
   ]
  },
  {
   "cell_type": "code",
   "execution_count": 16,
   "metadata": {},
   "outputs": [],
   "source": [
    "cosiotaP = random.uniform(-1.,1.)\n",
    "psiP = random.uniform(0,2*pi)\n",
    "costhetaP=random.uniform(-1.,1.)\n",
    "phiP=random.uniform(0,2*pi)\n",
    "iotaP=np.arccos(cosiotaP)\n",
    "thetaP=np.arccos(costhetaP)"
   ]
  },
  {
   "cell_type": "code",
   "execution_count": 17,
   "metadata": {},
   "outputs": [],
   "source": [
    "FmaxP=getfmax(m1P*(1+zP),m2P*(1+zP),fminP/(1+zP),6*year)"
   ]
  },
  {
   "cell_type": "code",
   "execution_count": 18,
   "metadata": {},
   "outputs": [
    {
     "data": {
      "text/plain": [
       "5.640942490568317"
      ]
     },
     "execution_count": 18,
     "metadata": {},
     "output_type": "execute_result"
    }
   ],
   "source": [
    "SNR(iotaP,psiP,thetaP,phiP,fminP/(1+zP),FmaxP,m1P*(1+zP),m2P*(1+zP),dlP)\n"
   ]
  },
  {
   "cell_type": "code",
   "execution_count": 21,
   "metadata": {},
   "outputs": [],
   "source": [
    "def consolidatedistr(Nsingle,iterations,massoption,SNRth):\n",
    "\n",
    "    Nsingle = int(Nsingle)\n",
    "    iterations = int(iterations)\n",
    "\n",
    "    Ntot = Nsingle*iterations\n",
    "    data=[]\n",
    "    for it in range(0,iterations):\n",
    "        data.append(gendistr(Nsingle,it,massoption,SNRth))\n",
    "\n",
    "    data=np.array(data)\n",
    "\n",
    "    #[m1,m2,z,pdetLIGO,pdetCE,tmerger,SNR4,SNR10,integralbulk]\n",
    "\n",
    "    m1 = np.concatenate(data[:,0])\n",
    "    m2 = np.concatenate(data[:,1])\n",
    "    z = np.concatenate(data[:,2])\n",
    "    #pdetLIGO = np.concatenate(data[:,3])\n",
    "    #pdetCE = np.concatenate(data[:,4])\n",
    "    #tmerger = np.concatenate(data[:,3])\n",
    "    fmin = np.concatenate(data[:,3])\n",
    "    #SNR4 = np.concatenate(data[:,6])\n",
    "    #SNR10 = np.concatenate(data[:,7])\n",
    "    integralbulk = np.concatenate(data[:,4])\n",
    "    SNR10 = np.concatenate(data[:,5])\n",
    "\n",
    "    return m1,m2,z,fmin,integralbulk,SNR10"
   ]
  },
  {
   "cell_type": "code",
   "execution_count": 22,
   "metadata": {},
   "outputs": [],
   "source": [
    "def Nevents(bigdata,massoption,rateinterval):\n",
    "\n",
    "    # bigdata is the output of consolidatedistr\n",
    "    m1,m2,z,fmin,integralbulk,SNR10 = bigdata #consolidatedistr(Nsingle,iterations)\n",
    "\n",
    "    Ntot = len(m1)\n",
    "\n",
    "\n",
    "    # Intrisinc merger rate from LIGO O2 catalog. Use the numbers reported in Sec 4 of 1811.12940, which averages over the two pipelines.\n",
    "    totalrate={}\n",
    "    if massoption=='powerlaw':\n",
    "        totalrate['median'] =  57*10**(-9)\n",
    "        totalrate['upper'] = (57 + 40)*10**(-9)\n",
    "        totalrate['lower'] = (57. - 25.)*10**(-9)\n",
    "    if massoption=='log':\n",
    "        totalrate['median'] = 0.13*10**(-9) #19.*10**(-9)\n",
    "        totalrate['upper'] = (19. + 13.)*10**(-9)\n",
    "        totalrate['lower'] = (19. - 8.2)*10**(-9)\n",
    "        \n",
    "    if massoption=='EOB' or massoption=='NR' or massoption=='PHEN':\n",
    "        totalrate['median'] = 0.13*10**(-9) #19.*10**(-9)\n",
    "        totalrate['upper'] = (0.13 + 0.3)*10**(-9)\n",
    "        totalrate['lower'] = (0.13 - 0.11)*10**(-9)\n",
    "\n",
    "    \n",
    "    montecarlo_contributions = totalrate[rateinterval] * integralbulk / Ntot\n",
    "    \n",
    "\n",
    "    return np.sum(montecarlo_contributions)\n",
    "\n"
   ]
  },
  {
   "cell_type": "code",
   "execution_count": 23,
   "metadata": {},
   "outputs": [
    {
     "data": {
      "text/plain": [
       "4.7095065857686205"
      ]
     },
     "execution_count": 23,
     "metadata": {},
     "output_type": "execute_result"
    }
   ],
   "source": [
    "Nevents(consolidatedistr(10**3,1,'EOB',8),'EOB','median')"
   ]
  },
  {
   "cell_type": "markdown",
   "metadata": {},
   "source": [
    "# Here we want to try the Gamma function to sample the rate "
   ]
  },
  {
   "cell_type": "code",
   "execution_count": 24,
   "metadata": {},
   "outputs": [],
   "source": [
    "import scipy.special as sps"
   ]
  },
  {
   "cell_type": "markdown",
   "metadata": {},
   "source": [
    "Samples are drawn from a Gamma distribution with specified parameters, shape (sometimes designated “k”) and scale (sometimes designated “theta”), where both parameters are > 0."
   ]
  },
  {
   "cell_type": "code",
   "execution_count": 31,
   "metadata": {},
   "outputs": [],
   "source": [
    "year = 60 * 60 * 24 * 365"
   ]
  },
  {
   "cell_type": "code",
   "execution_count": 44,
   "metadata": {},
   "outputs": [],
   "source": [
    "shape = 1 \n",
    "scale = 1/(57*10**(-9))\n",
    "\n",
    "s = np.random.gamma(shape,scale, 1000)"
   ]
  },
  {
   "cell_type": "code",
   "execution_count": 52,
   "metadata": {},
   "outputs": [],
   "source": [
    "def PDF(rate, k ):\n",
    "    \n",
    "    scale = 1/rate\n",
    "    \n",
    "    t = np.random.gamma(k,scale)\n",
    "    \n",
    "    return t**(k-1)*(np.exp(-t/scale) /  (sps.gamma(k)*scale**k))"
   ]
  },
  {
   "cell_type": "code",
   "execution_count": 55,
   "metadata": {},
   "outputs": [
    {
     "data": {
      "text/plain": [
       "9.451407044987117e-11"
      ]
     },
     "execution_count": 55,
     "metadata": {},
     "output_type": "execute_result"
    }
   ],
   "source": [
    "PDF((0.13*10**(-9)), 1)"
   ]
  },
  {
   "cell_type": "code",
   "execution_count": 46,
   "metadata": {},
   "outputs": [
    {
     "data": {
      "image/png": "[encoded data removed]",
      "text/plain": [
       "<Figure size 432x288 with 1 Axes>"
      ]
     },
     "metadata": {
      "needs_background": "light"
     },
     "output_type": "display_data"
    }
   ],
   "source": [
    "count, bins, ignored = plt.hist(s, 50, density=True)\n",
    "y = bins**(shape-1)*(np.exp(-bins/scale) /  \n",
    "                     (sps.gamma(shape)*scale**shape))\n",
    "plt.plot(bins, y, linewidth=2, color='r')  \n",
    "plt.show()"
   ]
  },
  {
   "cell_type": "code",
   "execution_count": null,
   "metadata": {},
   "outputs": [],
   "source": []
  }
 ],
 "metadata": {
  "kernelspec": {
   "display_name": "Python 3",
   "language": "python",
   "name": "python3"
  },
  "language_info": {
   "codemirror_mode": {
    "name": "ipython",
    "version": 3
   },
   "file_extension": ".py",
   "mimetype": "text/x-python",
   "name": "python",
   "nbconvert_exporter": "python",
   "pygments_lexer": "ipython3",
   "version": "3.7.2"
  }
 },
 "nbformat": 4,
 "nbformat_minor": 2
}
