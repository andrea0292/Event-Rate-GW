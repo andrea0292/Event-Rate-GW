{
 "cells": [
  {
   "cell_type": "code",
   "execution_count": 435,
   "metadata": {},
   "outputs": [],
   "source": [
    "import numpy as np\n",
    "from numpy import sqrt\n",
    "from numpy import sin\n",
    "from numpy import pi\n",
    "from numpy import cos\n",
    "from numpy import exp\n",
    "from numpy import tanh\n",
    "from numpy import zeros\n",
    "from numpy import arccos\n",
    "from numpy import log10\n",
    "from matplotlib import pyplot as plt\n",
    "import scipy.optimize as opt\n",
    "import emcee\n",
    "from pylab import plot\n",
    "from scipy import integrate\n",
    "import corner\n",
    "import random\n",
    "from collections import Counter\n",
    "import time\n",
    "import scipy\n",
    "from scipy.stats import poisson # use as poisson.pmf(number of events , mean value)\n",
    "from scipy import optimize\n",
    "import multiprocessing as mp\n",
    "from multiprocessing import Pool\n",
    "\n",
    "import astropy.units as u\n",
    "import astropy.constants as c\n",
    "from astropy.cosmology import FlatLambdaCDM, z_at_value\n",
    "from tqdm import *\n",
    "from astropy.cosmology import Planck13 as cosmo\n",
    "from astropy import constants as const\n",
    "\n",
    "import matplotlib.pyplot as plt\n",
    "import matplotlib.gridspec as gridspec\n",
    "import cmasher as cmr\n",
    "import matplotlib.colors as clrs\n",
    "import matplotlib.cm as cmap\n",
    "\n",
    "colors = ['#8a1f1f','#79a43a','#C59D34','#171782', '#cf6717','#ad6faa',\n",
    "          '#009999','#828282']\n",
    "plt.rcParams['axes.prop_cycle'] = plt.cycler(color=colors)\n",
    "plt.rcParams['lines.linewidth'] = 3.0\n",
    "plt.rcParams['axes.linewidth'] = 2."
   ]
  },
  {
   "cell_type": "code",
   "execution_count": 436,
   "metadata": {},
   "outputs": [],
   "source": [
    "import cmath\n",
    "# we work in geometrized units\n",
    "Msol = 1.47680000000000000000000000000000000 # in km\n",
    "c = 1 # we have actually put them to one everywhere in the code already\n",
    "G = 1\n",
    "year = 60*60*24*(365.250000000000000000000000000); # s\n",
    "cc = 2.9980000000000000000000000000000*10**5 # velocity of light in Km/s\n",
    "pc = 3.0856770000000000000000000000*10**13 # km\n",
    "\n",
    "H0 = 67.9 # km /s / Mpc # changed to PLANCK 2015\n",
    "Omegam = 0.306\n",
    "OmegaL = 0.694\n",
    "Omegar = 0.\n",
    "\n",
    "# some useful functions \n",
    "def distL(z):\n",
    "    return (1+z) * integrate.quad(invE,0,z)[0] *cc / H0 *10**6*pc # km\n",
    "\n",
    "def Ez(z):\n",
    "    return sqrt(Omegar*(1+z)**4+Omegam*(1+z)**3+OmegaL)\n",
    "\n",
    "def invE(z):\n",
    "    return 1. / Ez(z)\n",
    "\n",
    "def primopezzo(zp):\n",
    "    return 1/Ez(zp)*(integrate.quad(invE,0,zp)[0])**2\n",
    "\n",
    "def dVdz(z):\n",
    "    return 4*pi*(cc/H0)**3*primopezzo(z) # Mpc**3\n",
    "\n",
    "def dtdf(f,m1,m2):  # Hz, km, km, gravitational wave frequency\n",
    "    return 5/(96*pi**(8/3))*(1./cc*(m1 + m2)*(m1*m2/(m1 + m2)**2)**(3/5))**(-5/\n",
    "  3)*f**(-11/3)  # s^2, assuming f in Hz and m in km\n",
    "\n",
    "def solof(f):\n",
    "    return f**(-11/3)\n",
    "\n",
    "def nu(m1,m2):\n",
    "    return m1*m2/((m1+m2)**2)\n",
    "\n",
    "def Mc(m1,m2):\n",
    "    return (m1 + m2) * (m1*m2/((m1+m2)**2))**(3/5)"
   ]
  },
  {
   "cell_type": "code",
   "execution_count": 437,
   "metadata": {},
   "outputs": [],
   "source": [
    "# Some other useful functions for frequencies, time of merger, ecc \n",
    "\n",
    "# frequency functions \n",
    "\n",
    "def fMIN2(fmax0,m1,m2,Tobs): # gravitational wave frequency\n",
    "    return 1/(1/fmax0**(8/3)+256/5*(Mc(m1,m2)/cc)**(5/3)*pi**(8/3)*(Tobs))**(3/8)\n",
    "\n",
    "def fmax(m1,m2,fmin,Tobs): # gravitational wave frequency\n",
    "    return fmin*((5*cc)/(5*cc-256*fmin**(8/3)*pi**(8/3)*Tobs*Mc(m1,m2)*(Mc(m1,m2)/cc)**(2/3)))**(3/8)\n",
    "\n",
    "\n",
    "# gives fmax, given fmin and Tobs. If fmax is above 10 Hz, gives 10 Hz instead. frequency is always in Hz\n",
    "\n",
    "def getfmax(m1,m2,fmin,Tobs): # gravitational wave frequency\n",
    "    if fMIN2(1,m1,m2,Tobs)>fmin:\n",
    "        return fmax(m1,m2,fmin,Tobs)\n",
    "    else: \n",
    "        return 1\n",
    "    \n",
    "def Tmerger(m1,m2,fmin): # gravitational wave frequency\n",
    "    return 5. * (m1 + m2)**(1./3.) * cc**(5./3.)/ (256. * fmin**(8./3.) * m1 * m2 * pi**(8./3.))\n",
    "\n",
    "getfmax(13.251739749586237,12.614719123231842,0.07658687835617596,10*year)\n",
    "Tmerger(29*Msol,36*Msol,0.01)/year\n",
    "\n",
    "\n",
    "from scipy.optimize import root_scalar\n",
    "def findFmin(timemerger,m1,m2):\n",
    "    def condition(fmin):\n",
    "        return timemerger-Tmerger(m1,m2,fmin)\n",
    "    return root_scalar(condition,bracket=(10**-4,0.1)).root\n",
    "\n"
   ]
  },
  {
   "cell_type": "code",
   "execution_count": 438,
   "metadata": {},
   "outputs": [],
   "source": [
    "#here we want to add also the part with the SNR \n",
    "\n",
    "# LISA noise parameters\n",
    "Amp = 5/10*18/10*10**-44\n",
    "alpha = 138/1000\n",
    "beta = -221\n",
    "kappa = 521\n",
    "gamma = 1680\n",
    "fk = 113/10**5\n",
    "L0 = 25/10*10**9\n",
    "fstar = 1909/100*10**-3\n",
    "pm = 10**-12\n",
    "\n",
    "skyav=(4/5*sqrt(2)*sin(pi/3))\n",
    "\n",
    "# noise function, checked with Mathematica\n",
    "\n",
    "def Sacc(f):\n",
    "    return (3*10**-15)**2*(1+(4/10*10**-3/f)**2)*(1+(f/(8*10**-3))**4)\n",
    "\n",
    "def Sgal(f):\n",
    "    return Amp*f**(-7/3)*exp(-f**alpha+beta*f*sin(kappa*f))*(1+tanh(gamma*(fk-f)))\n",
    "\n",
    "def Soms(f):\n",
    "    return (15. *pm)**2*(1+(2*10**-3/f)**4)  # noi: 10\n",
    "\n",
    "def Sacc(f):\n",
    "    return (3*10**-15)**2*(1+(4/10*10**-3/f)**2)*(1+(f/(8*10**-3))**4)\n",
    "    \n",
    "def SnSA(f):\n",
    "    return 10/3*(4*Sacc(f)/(2*pi*f)**4+Soms(f))/(L0**2)*(1+6/10*(f/fstar)**2)\n",
    "\n",
    "def R(f):\n",
    "    return 3/20*2\n",
    "\n",
    "def Sn(f):\n",
    "    return abs(SnSA(f)+Sgal(f))\n",
    "\n",
    "def Pn(f): # gravitational wave frequency\n",
    "    return abs(Sn(f)*R(f))\n",
    "\n",
    "def Aplus(iota,psi):\n",
    "    return -(1+cos(iota)**2)*cos(2*psi)-2*cos(iota)*sin(2*psi)\n",
    "\n",
    "def Across(iota,psi):\n",
    "    return (1+cos(iota)**2)*sin(2*psi)-2*cos(iota)*cos(2*psi)\n",
    "\n",
    "def Fplus(theta,phi):\n",
    "    return 1/2*(1+cos(theta)**2)*cos(2*phi)\n",
    "\n",
    "def Fcross(theta,phi):\n",
    "    return cos(theta)*sin(2*phi)\n",
    "\n",
    "def factorsky(iota,psi,theta,phi):\n",
    "    return Fplus(theta,phi)*Aplus(iota,psi)+1j*Fcross(theta,phi)*Across(iota,psi)\n",
    "\n",
    "def factorskySNR(iota,psi,theta,phi):\n",
    "    return abs(sqrt(2)*sin(pi/3)*(Fplus(theta,phi)*Aplus(iota,psi)+1j*Fcross(theta,phi)*Across(iota,psi)))\n"
   ]
  },
  {
   "cell_type": "code",
   "execution_count": 439,
   "metadata": {},
   "outputs": [],
   "source": [
    "# waveform\n",
    "\n",
    "def ampl(m1,m2,d): \n",
    "    return (Mc(m1,m2)*G)**(5/6)*sqrt(5/24)/(pi**(2/3)*d*c**(3/2))\n",
    "def habs(m1,m2,d,f): # gravitational wave frequency\n",
    "    return ampl(m1,m2,d)*f**(-7/6)\n",
    "\n",
    "#print(habs(12.4913,12.3884,10.8287*10**6*pc,1./cc))"
   ]
  },
  {
   "cell_type": "code",
   "execution_count": 440,
   "metadata": {},
   "outputs": [],
   "source": [
    "# Here we define the SNR; \n",
    "# be careful that I have already put the factor for the sky average\n",
    "# we use the GW only template.\n",
    "\n",
    "def SNR(iota,psi,theta,phi,fmin,fmax,m1,m2,d): # gravitational wave frequency\n",
    "    return sqrt(4*integrate.quad(lambda x: (factorskySNR(iota,psi,theta,phi)*habs(m1,m2,d, x/cc))**2/(Pn(x)*(cc**2)), fmin, fmax)[0])\n",
    "#different noise here!\n",
    "\n",
    "def SNRAverage(fmin,fmax,m1,m2,d): # gravitational wave frequency\n",
    "    return sqrt(4*integrate.quad(lambda x: (skyav*habs(m1,m2,d, x/cc))**2/(Pn(x)*(cc**2)), fmin, fmax)[0])\n",
    "\n",
    "\n",
    "#print(SNR(pi/4,pi/4,pi/4,pi/4,0.01,fmax(30*Msol,10*Msol,0.01,10*year),60*Msol,10*Msol,400*10**6*pc),400*10**6*pc)\n",
    "#print(SNR(pi/4,pi/4,pi/4,pi/4,0.01,1,10*Msol,20*Msol,10**23))\n"
   ]
  },
  {
   "cell_type": "code",
   "execution_count": 441,
   "metadata": {},
   "outputs": [],
   "source": [
    "eobdata = np.loadtxt('EOBmasses.dat')\n",
    "\n",
    "NRdata = np.loadtxt('NRmasses.dat')\n",
    "\n",
    "Phendata = np.loadtxt('PHENmasses.dat')"
   ]
  },
  {
   "cell_type": "code",
   "execution_count": 152,
   "metadata": {},
   "outputs": [
    {
     "data": {
      "text/plain": [
       "array([[ 94.82355589,  66.75023683],\n",
       "       [ 94.15420345,  55.51580746],\n",
       "       [102.70256369,  53.35599928],\n",
       "       ...,\n",
       "       [ 98.34671354,  70.28418126],\n",
       "       [ 72.53043726,  65.99127363],\n",
       "       [ 91.62076424,  61.80077506]])"
      ]
     },
     "execution_count": 152,
     "metadata": {},
     "output_type": "execute_result"
    }
   ],
   "source": [
    "Phendata"
   ]
  },
  {
   "cell_type": "code",
   "execution_count": 442,
   "metadata": {},
   "outputs": [],
   "source": [
    "def gendistr(N,iteration,massoption,SNRth, which):\n",
    "    \n",
    "\n",
    "    N=int(N)\n",
    "    # Define functions to store intermediate products; I haven't decided on the most convenient format for the final catalogs yet...\n",
    "\n",
    "    massmin=50*Msol\n",
    "    massmax=100*Msol\n",
    "\n",
    "    # Largest horizon redshift; don't waste computing time above this\n",
    "    zmax = 0.512\n",
    "    zmin = 0.1\n",
    "    # Largest comoving distance for sampling\n",
    "    #??? dove la usa? -->  cdmax=astropy.cosmology.Planck15.comoving_distance(zmax).value # Mpc\n",
    "    # z pdf normalization. Comoving volume at largest redshift (because comoving volume at z=0 is 0)\n",
    "    # Vczhor = (astropy.cosmology.Planck15.comoving_volume(zmax)/astropy.units.Gpc**3).decompose().value #Gpc^3\n",
    "    # largest merger time (yrs)\n",
    "    tmax = 40\n",
    "    tobs = 10\n",
    "    # ground-based duty cycle\n",
    "    dutycycle= 1\n",
    "\n",
    "    data=[]\n",
    "    for i in range(N):\n",
    "\n",
    "        #Comoving distance uniform on sphere\n",
    "        #while True:\n",
    "        #    cd = np.sum(np.random.uniform(0, cdmax,3)**2)**0.5\n",
    "        #    if cd<cdmax: break\n",
    "        # Convert to redshift\n",
    "        #z = astropy.cosmology.z_at_value(astropy.cosmology.Planck15.comoving_distance,cd*astropy.units.Mpc )\n",
    "        # Convert to luminosity distance\n",
    "\n",
    "\n",
    "        z = np.random.uniform(zmin,zmax)\n",
    "        dl = distL(z)\n",
    "\n",
    "        # Mass spectrum\n",
    "        if massoption=='log': # Log flat distribution in both masses\n",
    "            bothm=10**np.random.uniform(np.log10(massmin),np.log10(massmax),2)\n",
    "            m1= max(bothm)\n",
    "            m2= min(bothm)\n",
    "            Rate = 57*10**(-9)\n",
    "        \n",
    "        if massoption == 'EOB':\n",
    "            index = np.random.choice(len(eobdata))\n",
    "            m1 = Msol*eobdata[index][0]\n",
    "            m2 = Msol*eobdata[index][1]\n",
    "            Rate = 0.13*10**(-9)\n",
    "        \n",
    "        if massoption == 'PHEN':\n",
    "            index = np.random.choice(len(Phendata))\n",
    "            m1 = Msol* Phendata[index][0]\n",
    "            m2 = Msol*Phendata[index][1]\n",
    "            Rate = 0.13*10**(-9)\n",
    "            \n",
    "        if massoption == 'NR':\n",
    "            index = np.random.choice(len(NRdata))\n",
    "            m1 = Msol*NRdata[index][0]\n",
    "            m2 = Msol*NRdata[index][1]\n",
    "            Rate = 0.13*10**(-9)\n",
    "        \n",
    "        if massoption=='powerlaw': # Power law with spectral index alpha in primary; uniform in secondary\n",
    "            alpha=-2.3\n",
    "            m1 = (massmin**(alpha+1.)+np.random.uniform(0.,1.)*(massmax**(alpha+1.)-massmin**(alpha+1.)))**(1./(alpha+1.))\n",
    "            m2 = np.random.uniform(massmin,m1)\n",
    "            Rate = 0.13*10**(-9)\n",
    "                \n",
    "        # Sky-location, inclination, polarization, initial phase\n",
    "        cosiota = random.uniform(-1.,1.)\n",
    "        psi = random.uniform(0,2*pi)\n",
    "        costheta=random.uniform(-1.,1.)\n",
    "        phi=random.uniform(0,2*pi)\n",
    "        iota=np.arccos(cosiota)\n",
    "        theta=np.arccos(costheta)\n",
    "        #phic = np.random.uniform(0,2.*np.pi)\n",
    "        \n",
    "        # Merger time\n",
    "        tmerger=np.random.uniform(1*year,41*year)\n",
    "        \n",
    "        #fmin=np.random.uniform(1e-5,0.01)\n",
    "        fmin=findFmin(tmerger,m1,m2)\n",
    "        Fmax= getfmax(m1*(1+z),m2*(1+z),fmin/(1+z),tobs*year)  #fmax(m1,m2,fmin,tobs*year)\n",
    "        #Fmax = 1 #Fmax=1\n",
    "        snr=np.sqrt(dutycycle)*SNR(iota,psi,theta,phi,fmin/(1+z),Fmax,m1*(1+z),m2*(1+z),dl)\n",
    "\n",
    "\n",
    "        dVcdz = cosmo.comoving_volume(z).value \n",
    "        rateSampling = 1 / np.random.gamma(1, 1/ Rate) #np.random.normal(Rate, 0.3e-9)#1 / np.random.gamma(1, 1/ Rate)\n",
    "        \n",
    "        if which == 'new':\n",
    "            integralbulk = rateSampling * tmax * (zmax-zmin) * dVcdz   *np.heaviside(snr-SNRth,0) * (1./(1.+z))\n",
    "            \n",
    "        if which == 'old':\n",
    "            \n",
    "            integralbulk = tmax * (zmax-zmin) * dVcdz   *np.heaviside(snr-SNRth,0) * (1./(1.+z))\n",
    "\n",
    "        data.append(np.array([m1,m2,z,fmin,integralbulk,snr]))\n",
    "\n",
    "    return np.array(data).T\n",
    "\n"
   ]
  },
  {
   "cell_type": "code",
   "execution_count": null,
   "metadata": {},
   "outputs": [],
   "source": []
  },
  {
   "cell_type": "code",
   "execution_count": 87,
   "metadata": {},
   "outputs": [],
   "source": [
    "arrayN = np.arange(1,1000, 1)\n",
    "totry = np.array([1 / np.random.gamma(1, 1/ (0.13*10**(-9))) for n in arrayN])"
   ]
  },
  {
   "cell_type": "code",
   "execution_count": 133,
   "metadata": {},
   "outputs": [
    {
     "data": {
      "text/plain": [
       "0.005675352427525946"
      ]
     },
     "execution_count": 133,
     "metadata": {},
     "output_type": "execute_result"
    }
   ],
   "source": [
    "(10 * year) / np.random.gamma(8, 1/ (0.13*10**(-9))) "
   ]
  },
  {
   "cell_type": "code",
   "execution_count": 66,
   "metadata": {},
   "outputs": [],
   "source": [
    "zP = np.random.uniform(0.1,0.512)\n",
    "dlP = distL(zP)"
   ]
  },
  {
   "cell_type": "code",
   "execution_count": 67,
   "metadata": {},
   "outputs": [],
   "source": [
    "tmergerP=np.random.uniform(1*year,41*year)"
   ]
  },
  {
   "cell_type": "code",
   "execution_count": 68,
   "metadata": {},
   "outputs": [],
   "source": [
    "indexP = np.random.choice(len(Phendata))\n",
    "m1P = Phendata[indexP][0]\n",
    "m2P = Phendata[indexP][1]"
   ]
  },
  {
   "cell_type": "code",
   "execution_count": 15,
   "metadata": {},
   "outputs": [],
   "source": [
    "fminP=findFmin(tmergerP,m1P,m2P)"
   ]
  },
  {
   "cell_type": "code",
   "execution_count": 443,
   "metadata": {},
   "outputs": [],
   "source": [
    "cosiotaP = random.uniform(-1.,1.)\n",
    "psiP = random.uniform(0,2*pi)\n",
    "costhetaP=random.uniform(-1.,1.)\n",
    "phiP=random.uniform(0,2*pi)\n",
    "iotaP=np.arccos(cosiotaP)\n",
    "thetaP=np.arccos(costhetaP)"
   ]
  },
  {
   "cell_type": "code",
   "execution_count": 17,
   "metadata": {},
   "outputs": [],
   "source": [
    "FmaxP=getfmax(m1P*(1+zP),m2P*(1+zP),fminP/(1+zP),6*year)"
   ]
  },
  {
   "cell_type": "code",
   "execution_count": 444,
   "metadata": {},
   "outputs": [
    {
     "data": {
      "text/plain": [
       "6.333099331142612"
      ]
     },
     "execution_count": 444,
     "metadata": {},
     "output_type": "execute_result"
    }
   ],
   "source": [
    "SNR(iotaP,psiP,thetaP,phiP,fminP/(1+zP),FmaxP,m1P*(1+zP),m2P*(1+zP),dlP)\n"
   ]
  },
  {
   "cell_type": "code",
   "execution_count": 445,
   "metadata": {},
   "outputs": [],
   "source": [
    "def consolidatedistr(Nsingle,iterations,massoption,SNRth, which):\n",
    "\n",
    "    Nsingle = int(Nsingle)\n",
    "    iterations = int(iterations)\n",
    "\n",
    "    Ntot = Nsingle*iterations\n",
    "    data=[]\n",
    "    for it in range(0,iterations):\n",
    "        data.append(gendistr(Nsingle,it,massoption,SNRth, which))\n",
    "\n",
    "    data=np.array(data)\n",
    "\n",
    "    #[m1,m2,z,pdetLIGO,pdetCE,tmerger,SNR4,SNR10,integralbulk]\n",
    "\n",
    "    m1 = np.concatenate(data[:,0])\n",
    "    m2 = np.concatenate(data[:,1])\n",
    "    z = np.concatenate(data[:,2])\n",
    "    #pdetLIGO = np.concatenate(data[:,3])\n",
    "    #pdetCE = np.concatenate(data[:,4])\n",
    "    #tmerger = np.concatenate(data[:,3])\n",
    "    fmin = np.concatenate(data[:,3])\n",
    "    #SNR4 = np.concatenate(data[:,6])\n",
    "    #SNR10 = np.concatenate(data[:,7])\n",
    "    integralbulk = np.concatenate(data[:,4])\n",
    "    SNR10 = np.concatenate(data[:,5])\n",
    "\n",
    "    return m1,m2,z,fmin,integralbulk,SNR10"
   ]
  },
  {
   "cell_type": "code",
   "execution_count": 446,
   "metadata": {},
   "outputs": [],
   "source": [
    "def NeventsNew(bigdata,massoption, which, Narray):\n",
    "\n",
    "    # bigdata is the output of consolidatedistr\n",
    "    m1,m2,z,fmin,integralbulk,SNR10 = bigdata #consolidatedistr(Nsingle,iterations)\n",
    "\n",
    "    Ntot = len(m1)\n",
    "    \n",
    "    if which == 'new':\n",
    "        \n",
    "        montecarlo_contributions = integralbulk / Ntot\n",
    "        \n",
    "        return np.sum(montecarlo_contributions)\n",
    "        \n",
    "    if which == 'old':\n",
    "        \n",
    "        if massoption=='log': # Log flat distribution in both masses\n",
    "            Rate = 57*10**(-9)\n",
    "        \n",
    "        if massoption == 'EOB'or massoption == 'PHEN' or massoption == 'NR' or massoption=='powerlaw':\n",
    "            Rate = 0.13*10**(-9)\n",
    "            \n",
    "        results = []\n",
    "        \n",
    "        for n in range(Narray):\n",
    "            \n",
    "            rateSampling = 1 / np.random.gamma(1, 1/ Rate)\n",
    "            montecarlo_contributions =  rateSampling * integralbulk / Ntot\n",
    "            inte = np.sum(montecarlo_contributions)\n",
    "            results.append(inte)\n",
    "            \n",
    "        return np.mean(results), np.std(results)\n",
    "\n"
   ]
  },
  {
   "cell_type": "code",
   "execution_count": 150,
   "metadata": {},
   "outputs": [
    {
     "data": {
      "text/plain": [
       "(6.0177988692023305, 0.0)"
      ]
     },
     "execution_count": 150,
     "metadata": {},
     "output_type": "execute_result"
    }
   ],
   "source": [
    "NeventsNew(consolidatedistr(10**3,1,'EOB',8, 'old'),'EOB', 'old', 1)"
   ]
  },
  {
   "cell_type": "code",
   "execution_count": 451,
   "metadata": {},
   "outputs": [],
   "source": [
    "def Nevents(bigdata,massoption,rateinterval):\n",
    "\n",
    "    # bigdata is the output of consolidatedistr\n",
    "    m1,m2,z,fmin,integralbulk,SNR10 = bigdata #consolidatedistr(Nsingle,iterations)\n",
    "\n",
    "    Ntot = len(m1)\n",
    "\n",
    "\n",
    "    # Intrisinc merger rate from LIGO O2 catalog. Use the numbers reported in Sec 4 of 1811.12940, which averages over the two pipelines.\n",
    "    totalrate={}\n",
    "    if massoption=='powerlaw':\n",
    "        totalrate['median'] =  57*10**(-9)\n",
    "        totalrate['upper'] = (57 + 40)*10**(-9)\n",
    "        totalrate['lower'] = (57. - 25.)*10**(-9)\n",
    "    if massoption=='log':\n",
    "        totalrate['median'] = 0.13*10**(-9) #19.*10**(-9)\n",
    "        totalrate['upper'] = (19. + 13.)*10**(-9)\n",
    "        totalrate['lower'] = (19. - 8.2)*10**(-9)\n",
    "        \n",
    "    if massoption=='EOB' or massoption=='NR' or massoption=='PHEN':\n",
    "        totalrate['median'] = 0.13*10**(-9) #19.*10**(-9)\n",
    "        totalrate['upper'] = (0.13 + 0.3)*10**(-9)\n",
    "        totalrate['lower'] = (0.13 - 0.11)*10**(-9)\n",
    "\n",
    "    \n",
    "    montecarlo_contributions = totalrate[rateinterval] * integralbulk / Ntot\n",
    "    \n",
    "\n",
    "    return np.sum(montecarlo_contributions)\n",
    "\n"
   ]
  },
  {
   "cell_type": "code",
   "execution_count": 450,
   "metadata": {},
   "outputs": [
    {
     "ename": "TypeError",
     "evalue": "consolidatedistr() missing 1 required positional argument: 'which'",
     "output_type": "error",
     "traceback": [
      "\u001b[0;31m---------------------------------------------------------------------------\u001b[0m",
      "\u001b[0;31mTypeError\u001b[0m                                 Traceback (most recent call last)",
      "\u001b[0;32m<ipython-input-450-79db40788530>\u001b[0m in \u001b[0;36m<module>\u001b[0;34m\u001b[0m\n\u001b[0;32m----> 1\u001b[0;31m \u001b[0mNevents\u001b[0m\u001b[0;34m(\u001b[0m\u001b[0mconsolidatedistr\u001b[0m\u001b[0;34m(\u001b[0m\u001b[0;36m10\u001b[0m\u001b[0;34m**\u001b[0m\u001b[0;36m2\u001b[0m\u001b[0;34m,\u001b[0m\u001b[0;36m1\u001b[0m\u001b[0;34m,\u001b[0m\u001b[0;34m'EOB'\u001b[0m\u001b[0;34m,\u001b[0m\u001b[0;36m8\u001b[0m\u001b[0;34m)\u001b[0m\u001b[0;34m,\u001b[0m\u001b[0;34m'EOB'\u001b[0m\u001b[0;34m,\u001b[0m\u001b[0;34m'median'\u001b[0m\u001b[0;34m)\u001b[0m\u001b[0;34m\u001b[0m\u001b[0;34m\u001b[0m\u001b[0m\n\u001b[0m",
      "\u001b[0;31mTypeError\u001b[0m: consolidatedistr() missing 1 required positional argument: 'which'"
     ]
    }
   ],
   "source": [
    "Nevents(consolidatedistr(10**2,1,'EOB',8),'EOB','median')"
   ]
  },
  {
   "cell_type": "code",
   "execution_count": 114,
   "metadata": {},
   "outputs": [
    {
     "data": {
      "text/plain": [
       "4.481842296899249"
      ]
     },
     "execution_count": 114,
     "metadata": {},
     "output_type": "execute_result"
    }
   ],
   "source": [
    "NeventsNew(consolidatedistr(10**4,1,'EOB',8),'EOB')"
   ]
  },
  {
   "cell_type": "markdown",
   "metadata": {},
   "source": [
    "# Here we want to try another distribution for the masses"
   ]
  },
  {
   "cell_type": "code",
   "execution_count": 153,
   "metadata": {},
   "outputs": [],
   "source": [
    "import h5py\n",
    "\n"
   ]
  },
  {
   "cell_type": "code",
   "execution_count": 235,
   "metadata": {},
   "outputs": [],
   "source": [
    "data = h5py.File('/Users/andreacaputo/Desktop/Phd/BinaryLISALIGO/Event_SamplesWaveTransient/all_events/o1o2o3_mass_c_iid_mag_two_comp_iid_tilt_powerlaw_redshift_mass_data.h5', 'r')\n",
    "\n",
    "data2 = h5py.File('/Users/andreacaputo/Desktop/Phd/BinaryLISALIGO/Event_SamplesWaveTransient/all_events/o1o2o3_mass_c_iid_mag_two_comp_iid_tilt_powerlaw_redshift_samples.hdf5', 'r')\n"
   ]
  },
  {
   "cell_type": "code",
   "execution_count": 238,
   "metadata": {},
   "outputs": [
    {
     "data": {
      "text/plain": [
       "['names', 'original', 'reweighted']"
      ]
     },
     "execution_count": 238,
     "metadata": {},
     "output_type": "execute_result"
    }
   ],
   "source": [
    "list(data2.keys())"
   ]
  },
  {
   "cell_type": "code",
   "execution_count": 242,
   "metadata": {},
   "outputs": [
    {
     "data": {
      "text/plain": [
       "<HDF5 dataset \"mass_2\": shape (45, 4278), type \"<f8\">"
      ]
     },
     "execution_count": 242,
     "metadata": {},
     "output_type": "execute_result"
    }
   ],
   "source": [
    "data2['original']['mass_2']"
   ]
  },
  {
   "cell_type": "code",
   "execution_count": 243,
   "metadata": {},
   "outputs": [
    {
     "data": {
      "text/plain": [
       "['a_1',\n",
       " 'a_2',\n",
       " 'cos_tilt_1',\n",
       " 'cos_tilt_2',\n",
       " 'mass_1',\n",
       " 'mass_2',\n",
       " 'mass_ratio',\n",
       " 'redshift']"
      ]
     },
     "execution_count": 243,
     "metadata": {},
     "output_type": "execute_result"
    }
   ],
   "source": [
    "list(data2['reweighted'].keys())"
   ]
  },
  {
   "cell_type": "code",
   "execution_count": 268,
   "metadata": {},
   "outputs": [
    {
     "data": {
      "text/plain": [
       "1000"
      ]
     },
     "execution_count": 268,
     "metadata": {},
     "output_type": "execute_result"
    }
   ],
   "source": [
    "len(mass_ppd[:][0])"
   ]
  },
  {
   "cell_type": "code",
   "execution_count": 274,
   "metadata": {},
   "outputs": [
    {
     "data": {
      "text/plain": [
       "(3e-10, 1)"
      ]
     },
     "execution_count": 274,
     "metadata": {},
     "output_type": "execute_result"
    },
    {
     "data": {
      "image/png": "[encoded data removed]",
      "text/plain": [
       "<Figure size 648x504 with 1 Axes>"
      ]
     },
     "metadata": {
      "needs_background": "light"
     },
     "output_type": "display_data"
    }
   ],
   "source": [
    "#Results_Gaussian_0.1eV_R=7.5_z=2.hdf5\n",
    "gs = gridspec.GridSpec(1, 1,left=0.14,bottom=0.14,right=0.98,top=0.97)\n",
    "fig = plt.figure(figsize=(9,7))\n",
    "\n",
    "ax = plt.subplot(gs[0,0])\n",
    "\n",
    "plt.plot(mass_1, mass_ppd[:][100])\n",
    "\n",
    "plt.loglog()\n",
    "\n",
    "ax.set_ylabel(r'$m_1$',fontsize=20)\n",
    "ax.set_xlabel(r'$p(m_1)$',fontsize=20)\n",
    "ax.tick_params(axis='both',width=1,length=8,labelsize=15)\n",
    "ax.tick_params(axis='both',which='minor',width=1,length=3,labelsize=15)\n",
    "ax.grid()\n",
    "\n",
    "ax.set_xlim(1, 200)\n",
    "#ax.set_xlim(mDM[0].value,mDM[-1].value)\n",
    "ax.set_ylim(3e-10,1)\n"
   ]
  },
  {
   "cell_type": "code",
   "execution_count": 233,
   "metadata": {},
   "outputs": [],
   "source": [
    "mass_ppd = data[\"ppd\"]\n",
    "mass_lines = data[\"lines\"]\n",
    " \n",
    "mass_1 = np.linspace(3, 100, 1000)\n",
    "mass_ratio = np.linspace(0.1, 1, 500)\n",
    "\n",
    "# Integrate the 2D PPD over mass ratio to get marginal m1 PPD\n",
    "mass_1_ppd = np.trapz(mass_ppd, mass_ratio, axis=0)\n",
    "        \n",
    "# Get 0.05 and 0.95 percentiles at each m1\n",
    "mass_1_lower = np.percentile(mass_lines[\"mass_1\"], 5, axis=0)\n",
    "mass_1_upper = np.percentile(mass_lines[\"mass_1\"], 95, axis=0)"
   ]
  },
  {
   "cell_type": "code",
   "execution_count": 234,
   "metadata": {},
   "outputs": [
    {
     "data": {
      "text/plain": [
       "array([[0.00000000e+000, 0.00000000e+000, 0.00000000e+000, ...,\n",
       "        0.00000000e+000, 0.00000000e+000, 0.00000000e+000],\n",
       "       [0.00000000e+000, 0.00000000e+000, 0.00000000e+000, ...,\n",
       "        0.00000000e+000, 0.00000000e+000, 0.00000000e+000],\n",
       "       [0.00000000e+000, 0.00000000e+000, 0.00000000e+000, ...,\n",
       "        2.09696892e-014, 1.92663603e-014, 1.76992180e-014],\n",
       "       ...,\n",
       "       [0.00000000e+000, 0.00000000e+000, 0.00000000e+000, ...,\n",
       "        3.91884620e-049, 2.84993654e-049, 2.07163890e-049],\n",
       "       [0.00000000e+000, 0.00000000e+000, 0.00000000e+000, ...,\n",
       "        1.23581420e-133, 4.82451249e-134, 1.88071284e-134],\n",
       "       [0.00000000e+000, 0.00000000e+000, 0.00000000e+000, ...,\n",
       "        0.00000000e+000, 0.00000000e+000, 0.00000000e+000]])"
      ]
     },
     "execution_count": 234,
     "metadata": {},
     "output_type": "execute_result"
    }
   ],
   "source": [
    "mass_lines['mass_1'][:]"
   ]
  },
  {
   "cell_type": "markdown",
   "metadata": {},
   "source": [
    "# Try MCMC"
   ]
  },
  {
   "cell_type": "code",
   "execution_count": 286,
   "metadata": {},
   "outputs": [],
   "source": [
    "import emcee\n",
    "from scipy.interpolate import interp1d\n",
    "from scipy.interpolate import interp2d\n",
    "from scipy.misc import derivative"
   ]
  },
  {
   "cell_type": "markdown",
   "metadata": {},
   "source": [
    "Here just the analytics function, to try to see how the rate changes with the mass interval"
   ]
  },
  {
   "cell_type": "code",
   "execution_count": 558,
   "metadata": {},
   "outputs": [],
   "source": [
    "np.vectorize\n",
    "def function(m1, m2):\n",
    "    \n",
    "    fun = interp2d(mass_ratio , mass_1, np.transpose(mass_ppd))\n",
    "    \n",
    "    return fun(m2/ m1, m1)[0] * np.heaviside(m1-m2,0)\n",
    "   \n",
    "    "
   ]
  },
  {
   "cell_type": "code",
   "execution_count": 564,
   "metadata": {},
   "outputs": [],
   "source": [
    "mass_1_short = np.linspace(45, 100, 100)\n",
    "mass_2_short = np.linspace(45, 100, 100)"
   ]
  },
  {
   "cell_type": "code",
   "execution_count": 565,
   "metadata": {},
   "outputs": [],
   "source": [
    "tointegrateAry = np.array([np.array([function(m1, m2 ) for m1 in mass_1_short]) for m2 in mass_2_short])"
   ]
  },
  {
   "cell_type": "code",
   "execution_count": 566,
   "metadata": {},
   "outputs": [
    {
     "data": {
      "text/plain": [
       "16.90733893873539"
      ]
     },
     "execution_count": 566,
     "metadata": {},
     "output_type": "execute_result"
    }
   ],
   "source": [
    "np.trapz(np.trapz(tointegrateAry, mass_2_short , axis = 0), mass_1_short, axis = 0 )"
   ]
  },
  {
   "cell_type": "markdown",
   "metadata": {},
   "source": [
    "# Here I build the likelihood and the sampler"
   ]
  },
  {
   "cell_type": "code",
   "execution_count": 374,
   "metadata": {},
   "outputs": [],
   "source": [
    "#Here I interpolate the posterior function to use it for the MCMC\n",
    "\n",
    "np.vectorize\n",
    "def PostFunct(pars):\n",
    "    \n",
    "    q, m1 = pars \n",
    "    \n",
    "    fun = interp2d(mass_ratio , mass_1, np.transpose(mass_ppd))\n",
    "    \n",
    "    if q < 0.1 or q > 1 or m1 < 3 or m1 > 100:\n",
    "        return -np.inf\n",
    "    \n",
    "    else:\n",
    "        \n",
    "        return np.log(fun(q, m1))"
   ]
  },
  {
   "cell_type": "code",
   "execution_count": 387,
   "metadata": {},
   "outputs": [],
   "source": [
    "ndim = 2\n",
    "nwalkers = 32\n",
    "xopt = [0.7, 70]\n",
    "p0 = np.random.randn(nwalkers,ndim)*0.1*xopt + xopt"
   ]
  },
  {
   "cell_type": "code",
   "execution_count": 388,
   "metadata": {},
   "outputs": [],
   "source": [
    "sampler = emcee.EnsembleSampler(nwalkers, ndim, PostFunct)\n"
   ]
  },
  {
   "cell_type": "code",
   "execution_count": 389,
   "metadata": {},
   "outputs": [
    {
     "name": "stderr",
     "output_type": "stream",
     "text": [
      "/Users/andreacaputo/anaconda3/lib/python3.7/site-packages/ipykernel_launcher.py:15: RuntimeWarning: divide by zero encountered in log\n",
      "  from ipykernel import kernelapp as app\n"
     ]
    }
   ],
   "source": [
    "state = sampler.run_mcmc(p0, 200)"
   ]
  },
  {
   "cell_type": "code",
   "execution_count": 373,
   "metadata": {},
   "outputs": [
    {
     "data": {
      "text/plain": [
       "-1.0034035182040209"
      ]
     },
     "execution_count": 373,
     "metadata": {},
     "output_type": "execute_result"
    }
   ],
   "source": [
    "np.min(samples[:,0])"
   ]
  },
  {
   "cell_type": "code",
   "execution_count": 401,
   "metadata": {},
   "outputs": [
    {
     "data": {
      "text/plain": [
       "array([[ 0.37257855, 54.78769468],\n",
       "       [ 0.75026882, 77.84325243],\n",
       "       [ 0.5374384 , 67.45268994],\n",
       "       ...,\n",
       "       [ 0.58846064, 19.8820745 ],\n",
       "       [ 0.98187295,  6.91701058],\n",
       "       [ 0.94832983,  5.24618019]])"
      ]
     },
     "execution_count": 401,
     "metadata": {},
     "output_type": "execute_result"
    }
   ],
   "source": [
    "samples[100:]"
   ]
  },
  {
   "cell_type": "code",
   "execution_count": 466,
   "metadata": {},
   "outputs": [
    {
     "data": {
      "image/png": "[encoded data removed]",
      "text/plain": [
       "<Figure size 432x288 with 1 Axes>"
      ]
     },
     "metadata": {
      "needs_background": "light"
     },
     "output_type": "display_data"
    }
   ],
   "source": [
    "samples = sampler.get_chain(flat=True)\n",
    "plt.hist(samples[:, 0], 50, color=\"k\", histtype=\"step\")\n",
    "plt.xlabel(r\"$q$\")\n",
    "plt.ylabel(r\"$p(q)$\")\n",
    "plt.gca().set_yticks([]);"
   ]
  },
  {
   "cell_type": "code",
   "execution_count": 468,
   "metadata": {},
   "outputs": [
    {
     "data": {
      "image/png": "[encoded data removed]",
      "text/plain": [
       "<Figure size 432x288 with 1 Axes>"
      ]
     },
     "metadata": {
      "needs_background": "light"
     },
     "output_type": "display_data"
    }
   ],
   "source": [
    "samples = sampler.get_chain(flat=True)\n",
    "plt.hist(samples[:, 1], 50, color=\"k\", histtype=\"step\")\n",
    "plt.xlabel(r\"$m_1$\")\n",
    "plt.ylabel(r\"$p(m_1)$\")\n",
    "plt.gca().set_yticks([]);"
   ]
  },
  {
   "cell_type": "markdown",
   "metadata": {},
   "source": [
    "# Now let's use this "
   ]
  },
  {
   "cell_type": "code",
   "execution_count": 403,
   "metadata": {},
   "outputs": [],
   "source": [
    "samples_ary = samples[100:]"
   ]
  },
  {
   "cell_type": "code",
   "execution_count": 397,
   "metadata": {},
   "outputs": [],
   "source": [
    "rate = np.trapz(np.trapz(mass_ppd, mass_ratio, axis=0), mass_1, axis = 0)"
   ]
  },
  {
   "cell_type": "code",
   "execution_count": 568,
   "metadata": {},
   "outputs": [
    {
     "data": {
      "text/plain": [
       "24.87981296458682"
      ]
     },
     "execution_count": 568,
     "metadata": {},
     "output_type": "execute_result"
    }
   ],
   "source": [
    "rate"
   ]
  },
  {
   "cell_type": "code",
   "execution_count": 460,
   "metadata": {},
   "outputs": [],
   "source": [
    "np.savetxt(\"samples_ary.txt\", samples_ary)"
   ]
  },
  {
   "cell_type": "code",
   "execution_count": 462,
   "metadata": {},
   "outputs": [
    {
     "data": {
      "text/plain": [
       "array([[ 0.37257855, 54.78769468],\n",
       "       [ 0.75026882, 77.84325243],\n",
       "       [ 0.5374384 , 67.45268994],\n",
       "       ...,\n",
       "       [ 0.58846064, 19.8820745 ],\n",
       "       [ 0.98187295,  6.91701058],\n",
       "       [ 0.94832983,  5.24618019]])"
      ]
     },
     "execution_count": 462,
     "metadata": {},
     "output_type": "execute_result"
    }
   ],
   "source": [
    "np.loadtxt(\"samples_ary.txt\")"
   ]
  },
  {
   "cell_type": "code",
   "execution_count": 453,
   "metadata": {},
   "outputs": [
    {
     "data": {
      "text/plain": [
       "array([[1.33345713e+02],\n",
       "       [1.26287712e+02],\n",
       "       [1.55650102e-01],\n",
       "       [4.24293371e-03],\n",
       "       [0.00000000e+00],\n",
       "       [2.47652784e+00]])"
      ]
     },
     "execution_count": 453,
     "metadata": {},
     "output_type": "execute_result"
    }
   ],
   "source": [
    "gendistrUpdated(1,1, 'EOB', 8)"
   ]
  },
  {
   "cell_type": "markdown",
   "metadata": {},
   "source": [
    "# Now let's re-write the code for the number of events "
   ]
  },
  {
   "cell_type": "code",
   "execution_count": 574,
   "metadata": {},
   "outputs": [],
   "source": [
    "totalrateMedian = 0.13*10**(-9) \n",
    "totalrateUpper = (0.13 + 0.3)*10**(-9)\n",
    "totalrateLower = (0.13 - 0.11)*10**(-9)"
   ]
  },
  {
   "cell_type": "code",
   "execution_count": 590,
   "metadata": {},
   "outputs": [
    {
     "data": {
      "text/plain": [
       "1.0206151921006368"
      ]
     },
     "execution_count": 590,
     "metadata": {},
     "output_type": "execute_result"
    }
   ],
   "source": [
    "np.median(np.random.gamma(1, totalrateMedian * 1.46, 100000)) / totalrateMedian"
   ]
  },
  {
   "cell_type": "code",
   "execution_count": 591,
   "metadata": {},
   "outputs": [
    {
     "data": {
      "text/plain": [
       "1.0132478907530331"
      ]
     },
     "execution_count": 591,
     "metadata": {},
     "output_type": "execute_result"
    }
   ],
   "source": [
    "np.percentile(np.random.gamma(1, totalrateMedian * 1.46, 100000),90) / totalrateUpper"
   ]
  },
  {
   "cell_type": "code",
   "execution_count": 592,
   "metadata": {},
   "outputs": [
    {
     "data": {
      "text/plain": [
       "1.0017849878285914"
      ]
     },
     "execution_count": 592,
     "metadata": {},
     "output_type": "execute_result"
    }
   ],
   "source": [
    "np.percentile(np.random.gamma(1, totalrateMedian * 1.46, 100000),10) / totalrateLower"
   ]
  },
  {
   "cell_type": "markdown",
   "metadata": {},
   "source": [
    "# Now re-write the function for the catalogue"
   ]
  },
  {
   "cell_type": "code",
   "execution_count": 593,
   "metadata": {},
   "outputs": [],
   "source": [
    "def gendistr(N,iteration,massoption,SNRth):\n",
    "    \n",
    "\n",
    "    N=int(N)\n",
    "    # Define functions to store intermediate products; I haven't decided on the most convenient format for the final catalogs yet...\n",
    "\n",
    "    massmin=50*Msol\n",
    "    massmax=100*Msol\n",
    "\n",
    "    # Largest horizon redshift; don't waste computing time above this\n",
    "    zmax = 0.512\n",
    "    zmin = 0.1\n",
    "    # Largest comoving distance for sampling\n",
    "    #??? dove la usa? -->  cdmax=astropy.cosmology.Planck15.comoving_distance(zmax).value # Mpc\n",
    "    # z pdf normalization. Comoving volume at largest redshift (because comoving volume at z=0 is 0)\n",
    "    # Vczhor = (astropy.cosmology.Planck15.comoving_volume(zmax)/astropy.units.Gpc**3).decompose().value #Gpc^3\n",
    "    # largest merger time (yrs)\n",
    "    tmax = 40\n",
    "    tobs = 10\n",
    "    # ground-based duty cycle\n",
    "    dutycycle= 1\n",
    "\n",
    "    data=[]\n",
    "    for i in range(N):\n",
    "\n",
    "        #Comoving distance uniform on sphere\n",
    "        #while True:\n",
    "        #    cd = np.sum(np.random.uniform(0, cdmax,3)**2)**0.5\n",
    "        #    if cd<cdmax: break\n",
    "        # Convert to redshift\n",
    "        #z = astropy.cosmology.z_at_value(astropy.cosmology.Planck15.comoving_distance,cd*astropy.units.Mpc )\n",
    "        # Convert to luminosity distance\n",
    "\n",
    "\n",
    "        z = np.random.uniform(zmin,zmax)\n",
    "        dl = distL(z)\n",
    "\n",
    "        # Mass spectrum\n",
    "        if massoption=='log': # Log flat distribution in both masses\n",
    "            bothm=10**np.random.uniform(np.log10(massmin),np.log10(massmax),2)\n",
    "            m1= max(bothm)\n",
    "            m2= min(bothm)\n",
    "            Rate = 57*10**(-9)\n",
    "        \n",
    "        if massoption == 'EOB':\n",
    "            index = np.random.choice(len(eobdata))\n",
    "            m1 = Msol*eobdata[index][0]\n",
    "            m2 = Msol*eobdata[index][1]\n",
    "            Rate = 0.13*10**(-9)\n",
    "        \n",
    "        if massoption == 'PHEN':\n",
    "            index = np.random.choice(len(Phendata))\n",
    "            m1 = Msol* Phendata[index][0]\n",
    "            m2 = Msol*Phendata[index][1]\n",
    "            Rate = 0.13*10**(-9)\n",
    "            \n",
    "        if massoption == 'NR':\n",
    "            index = np.random.choice(len(NRdata))\n",
    "            m1 = Msol*NRdata[index][0]\n",
    "            m2 = Msol*NRdata[index][1]\n",
    "            Rate = 0.13*10**(-9)\n",
    "        \n",
    "        if massoption=='powerlaw': # Power law with spectral index alpha in primary; uniform in secondary\n",
    "            alpha=-2.3\n",
    "            m1 = (massmin**(alpha+1.)+np.random.uniform(0.,1.)*(massmax**(alpha+1.)-massmin**(alpha+1.)))**(1./(alpha+1.))\n",
    "            m2 = np.random.uniform(massmin,m1)\n",
    "            Rate = 0.13*10**(-9)\n",
    "                \n",
    "        # Sky-location, inclination, polarization, initial phase\n",
    "        cosiota = random.uniform(-1.,1.)\n",
    "        psi = random.uniform(0,2*pi)\n",
    "        costheta=random.uniform(-1.,1.)\n",
    "        phi=random.uniform(0,2*pi)\n",
    "        iota=np.arccos(cosiota)\n",
    "        theta=np.arccos(costheta)\n",
    "        #phic = np.random.uniform(0,2.*np.pi)\n",
    "        \n",
    "        # Merger time\n",
    "        tmerger=np.random.uniform(1*year,41*year)\n",
    "        \n",
    "        #fmin=np.random.uniform(1e-5,0.01)\n",
    "        fmin=findFmin(tmerger,m1,m2)\n",
    "        Fmax= getfmax(m1*(1+z),m2*(1+z),fmin/(1+z),tobs*year)  #fmax(m1,m2,fmin,tobs*year)\n",
    "        #Fmax = 1 #Fmax=1\n",
    "        snr=np.sqrt(dutycycle)*SNR(iota,psi,theta,phi,fmin/(1+z),Fmax,m1*(1+z),m2*(1+z),dl)\n",
    "\n",
    "\n",
    "        dVcdz = cosmo.comoving_volume(z).value \n",
    "        rateSampling = np.random.gamma(1, Rate * 1.46) #np.random.normal(Rate, 0.3e-9)#1 / np.random.gamma(1, 1/ Rate)\n",
    "        \n",
    "        integralbulk = rateSampling * tmax * (zmax-zmin) * dVcdz   *np.heaviside(snr-SNRth,0) * (1./(1.+z))\n",
    "            \n",
    "        data.append(np.array([m1,m2,z,fmin,integralbulk,snr]))\n",
    "\n",
    "    return np.array(data).T"
   ]
  },
  {
   "cell_type": "code",
   "execution_count": 596,
   "metadata": {},
   "outputs": [],
   "source": [
    "def consolidatedistr(Nsingle,iterations,massoption,SNRth):\n",
    "\n",
    "    Nsingle = int(Nsingle)\n",
    "    iterations = int(iterations)\n",
    "\n",
    "    Ntot = Nsingle*iterations\n",
    "    data=[]\n",
    "    for it in range(0,iterations):\n",
    "        data.append(gendistr(Nsingle,it,massoption,SNRth))\n",
    "\n",
    "    data=np.array(data)\n",
    "\n",
    "    #[m1,m2,z,pdetLIGO,pdetCE,tmerger,SNR4,SNR10,integralbulk]\n",
    "\n",
    "    m1 = np.concatenate(data[:,0])\n",
    "    m2 = np.concatenate(data[:,1])\n",
    "    z = np.concatenate(data[:,2])\n",
    "    #pdetLIGO = np.concatenate(data[:,3])\n",
    "    #pdetCE = np.concatenate(data[:,4])\n",
    "    #tmerger = np.concatenate(data[:,3])\n",
    "    fmin = np.concatenate(data[:,3])\n",
    "    #SNR4 = np.concatenate(data[:,6])\n",
    "    #SNR10 = np.concatenate(data[:,7])\n",
    "    integralbulk = np.concatenate(data[:,4])\n",
    "    SNR10 = np.concatenate(data[:,5])\n",
    "\n",
    "    return m1,m2,z,fmin,integralbulk,SNR10"
   ]
  },
  {
   "cell_type": "code",
   "execution_count": 597,
   "metadata": {},
   "outputs": [],
   "source": [
    "def NeventsNew(bigdata,massoption):\n",
    "\n",
    "    # bigdata is the output of consolidatedistr\n",
    "    m1,m2,z,fmin,integralbulk,SNR10 = bigdata #consolidatedistr(Nsingle,iterations)\n",
    "\n",
    "    Ntot = len(m1)\n",
    "     \n",
    "    montecarlo_contributions = integralbulk / Ntot\n",
    "        \n",
    "    return np.sum(montecarlo_contributions)\n",
    "        \n"
   ]
  },
  {
   "cell_type": "code",
   "execution_count": null,
   "metadata": {},
   "outputs": [],
   "source": [
    "Nevents(consolidatedistr(10**5,1,'NR',8),'NR')"
   ]
  },
  {
   "cell_type": "markdown",
   "metadata": {},
   "source": [
    "# Old Stuff"
   ]
  },
  {
   "cell_type": "code",
   "execution_count": 570,
   "metadata": {},
   "outputs": [],
   "source": [
    "def gendistrUpdated(N,iteration,massoption,SNRth):\n",
    "    \n",
    "\n",
    "    N=int(N)\n",
    "    # Define functions to store intermediate products; I haven't decided on the most convenient format for the final catalogs yet...\n",
    "\n",
    "    massmin=50*Msol\n",
    "    massmax=100*Msol\n",
    "\n",
    "    # Largest horizon redshift; don't waste computing time above this\n",
    "    zmax = 0.512\n",
    "    zmin = 0.1\n",
    "    # Largest comoving distance for sampling\n",
    "    #??? dove la usa? -->  cdmax=astropy.cosmology.Planck15.comoving_distance(zmax).value # Mpc\n",
    "    # z pdf normalization. Comoving volume at largest redshift (because comoving volume at z=0 is 0)\n",
    "    # Vczhor = (astropy.cosmology.Planck15.comoving_volume(zmax)/astropy.units.Gpc**3).decompose().value #Gpc^3\n",
    "    # largest merger time (yrs)\n",
    "    tmax = 40\n",
    "    tobs = 10\n",
    "    # ground-based duty cycle\n",
    "    dutycycle= 1\n",
    "\n",
    "    data=[]\n",
    "    for i in range(N):\n",
    "\n",
    "        #Comoving distance uniform on sphere\n",
    "        #while True:\n",
    "        #    cd = np.sum(np.random.uniform(0, cdmax,3)**2)**0.5\n",
    "        #    if cd<cdmax: break\n",
    "        # Convert to redshift\n",
    "        #z = astropy.cosmology.z_at_value(astropy.cosmology.Planck15.comoving_distance,cd*astropy.units.Mpc )\n",
    "        # Convert to luminosity distance\n",
    "\n",
    "\n",
    "        z = np.random.uniform(zmin,zmax)\n",
    "        dl = distL(z)\n",
    "\n",
    "        # Mass spectrum\n",
    "        if massoption=='log': # Log flat distribution in both masses\n",
    "            bothm=10**np.random.uniform(np.log10(massmin),np.log10(massmax),2)\n",
    "            m1= max(bothm)\n",
    "            m2= min(bothm)\n",
    "            norm = 1\n",
    "        \n",
    "        if massoption == 'EOB':\n",
    "            index = np.random.choice(len(eobdata))\n",
    "            m1 = Msol*eobdata[index][0]\n",
    "            m2 = Msol*eobdata[index][1]\n",
    "            norm = 1\n",
    "        \n",
    "        if massoption == 'PHEN':\n",
    "            index = np.random.choice(len(Phendata))\n",
    "            m1 = Msol* Phendata[index][0]\n",
    "            m2 = Msol*Phendata[index][1]\n",
    "            Rate = 0.13*10**(-9)\n",
    "            \n",
    "        if massoption == 'NR':\n",
    "            index = np.random.choice(len(NRdata))\n",
    "            m1 = Msol*NRdata[index][0]\n",
    "            m2 = Msol*NRdata[index][1]\n",
    "            norm = 1\n",
    "        \n",
    "        if massoption=='powerlaw': # Power law with spectral index alpha in primary; uniform in secondary\n",
    "            alpha=-2.3\n",
    "            m1 = (massmin**(alpha+1.)+np.random.uniform(0.,1.)*(massmax**(alpha+1.)-massmin**(alpha+1.)))**(1./(alpha+1.))\n",
    "            m2 = np.random.uniform(massmin,m1)\n",
    "            norm = 1\n",
    "            \n",
    "        if massoption =='broken':\n",
    "            index = np.random.choice(len(samples_ary))\n",
    "            m1 = Msol* samples_ary[index][1]\n",
    "            m2 = Msol * samples_ary[index][1] * samples_ary[index][0]\n",
    "            norm = 1\n",
    "            \n",
    "        if massoption =='AGN':\n",
    "            index = np.random.choice(len(samples_ary))\n",
    "            m1 = Msol* samples_ary[index][1]\n",
    "            m2 = Msol * samples_ary[index][1] * samples_ary[index][0]\n",
    "            \n",
    "            if m1 <= 45 *Msol:\n",
    "                norm = 0\n",
    "            else:\n",
    "                norm = 1\n",
    "                \n",
    "        if massoption =='AGN':\n",
    "            index = np.random.choice(len(samples_ary))\n",
    "            m1 = Msol* samples_ary[index][1]\n",
    "            m2 = Msol * samples_ary[index][1] * samples_ary[index][0]\n",
    "            \n",
    "            if m1 <= 45 *Msol:\n",
    "                norm = 0\n",
    "            else:\n",
    "                norm = 1\n",
    "            \n",
    "                \n",
    "        # Sky-location, inclination, polarization, initial phase\n",
    "        cosiota = random.uniform(-1.,1.)\n",
    "        psi = random.uniform(0,2*pi)\n",
    "        costheta=random.uniform(-1.,1.)\n",
    "        phi=random.uniform(0,2*pi)\n",
    "        iota=np.arccos(cosiota)\n",
    "        theta=np.arccos(costheta)\n",
    "        #phic = np.random.uniform(0,2.*np.pi)\n",
    "        \n",
    "        # Merger time\n",
    "        tmerger=np.random.uniform(1*year,41*year)\n",
    "        \n",
    "        #fmin=np.random.uniform(1e-5,0.01)\n",
    "        fmin=findFmin(tmerger,m1,m2)\n",
    "        Fmax= getfmax(m1*(1+z),m2*(1+z),fmin/(1+z),tobs*year)  #fmax(m1,m2,fmin,tobs*year)\n",
    "        #Fmax = 1 #Fmax=1\n",
    "        snr=np.sqrt(dutycycle)*SNR(iota,psi,theta,phi,fmin/(1+z),Fmax,m1*(1+z),m2*(1+z),dl)\n",
    "\n",
    "\n",
    "        dVcdz = cosmo.comoving_volume(z).value \n",
    "            \n",
    "        integralbulk = norm * tmax * (zmax-zmin) * dVcdz   *np.heaviside(snr-SNRth,0) * (1./(1.+z))\n",
    "\n",
    "        data.append(np.array([m1,m2,z,fmin,integralbulk,snr]))\n",
    "\n",
    "    return np.array(data).T\n",
    "\n"
   ]
  },
  {
   "cell_type": "code",
   "execution_count": 433,
   "metadata": {},
   "outputs": [
    {
     "data": {
      "text/plain": [
       "42.266204658503135"
      ]
     },
     "execution_count": 433,
     "metadata": {},
     "output_type": "execute_result"
    }
   ],
   "source": [
    "Msol* samples_ary[10][0] * samples_ary[10][1]"
   ]
  },
  {
   "cell_type": "code",
   "execution_count": 571,
   "metadata": {},
   "outputs": [],
   "source": [
    "def consolidatedistrUpdated(Nsingle,iterations,massoption,SNRth):\n",
    "\n",
    "    Nsingle = int(Nsingle)\n",
    "    iterations = int(iterations)\n",
    "\n",
    "    Ntot = Nsingle*iterations\n",
    "    data=[]\n",
    "    for it in range(0,iterations):\n",
    "        data.append(gendistrUpdated(Nsingle,it,massoption,SNRth))\n",
    "\n",
    "    data=np.array(data)\n",
    "\n",
    "    #[m1,m2,z,pdetLIGO,pdetCE,tmerger,SNR4,SNR10,integralbulk]\n",
    "\n",
    "    m1 = np.concatenate(data[:,0])\n",
    "    m2 = np.concatenate(data[:,1])\n",
    "    z = np.concatenate(data[:,2])\n",
    "    #pdetLIGO = np.concatenate(data[:,3])\n",
    "    #pdetCE = np.concatenate(data[:,4])\n",
    "    #tmerger = np.concatenate(data[:,3])\n",
    "    fmin = np.concatenate(data[:,3])\n",
    "    #SNR4 = np.concatenate(data[:,6])\n",
    "    #SNR10 = np.concatenate(data[:,7])\n",
    "    integralbulk = np.concatenate(data[:,4])\n",
    "    SNR10 = np.concatenate(data[:,5])\n",
    "\n",
    "    return m1,m2,z,fmin,integralbulk,SNR10\n"
   ]
  },
  {
   "cell_type": "code",
   "execution_count": 572,
   "metadata": {},
   "outputs": [],
   "source": [
    "def NeventsUpdated(bigdata,massoption,rateinterval):\n",
    "\n",
    "    # bigdata is the output of consolidatedistr\n",
    "    m1,m2,z,fmin,integralbulk,SNR10 = bigdata #consolidatedistr(Nsingle,iterations)\n",
    "\n",
    "    Ntot = len(m1)\n",
    "\n",
    "    # Intrisinc merger rate from LIGO O2 catalog. Use the numbers reported in Sec 4 of 1811.12940, which averages over the two pipelines.\n",
    "    totalrate={}\n",
    "    if massoption=='powerlaw':\n",
    "        totalrate['median'] =  57*10**(-9)\n",
    "        totalrate['upper'] = (57 + 40)*10**(-9)\n",
    "        totalrate['lower'] = (57. - 25.)*10**(-9)\n",
    "    if massoption=='log':\n",
    "        totalrate['median'] = 0.13*10**(-9) #19.*10**(-9)\n",
    "        totalrate['upper'] = (19. + 13.)*10**(-9)\n",
    "        totalrate['lower'] = (19. - 8.2)*10**(-9)\n",
    "        \n",
    "    if massoption=='EOB' or massoption=='NR' or massoption=='PHEN':\n",
    "        totalrate['median'] = 0.13*10**(-9) #19.*10**(-9)\n",
    "        totalrate['upper'] = (0.13 + 0.3)*10**(-9)\n",
    "        totalrate['lower'] = (0.13 - 0.11)*10**(-9)\n",
    "        \n",
    "    if massoption=='broken' or massoption=='AGN':\n",
    "        totalrate['median'] = rate*10**(-9) #19.*10**(-9)\n",
    "        totalrate['upper'] = (19. + 13.)*10**(-9)\n",
    "        totalrate['lower'] = (19. - 8.2)*10**(-9)\n",
    "\n",
    "    \n",
    "    montecarlo_contributions = totalrate[rateinterval] * integralbulk / Ntot\n",
    "    \n",
    "\n",
    "    return np.sum(montecarlo_contributions)\n"
   ]
  },
  {
   "cell_type": "code",
   "execution_count": 457,
   "metadata": {},
   "outputs": [
    {
     "data": {
      "text/plain": [
       "24.87981296458682"
      ]
     },
     "execution_count": 457,
     "metadata": {},
     "output_type": "execute_result"
    }
   ],
   "source": [
    "rate"
   ]
  },
  {
   "cell_type": "code",
   "execution_count": 497,
   "metadata": {},
   "outputs": [
    {
     "data": {
      "text/plain": [
       "66.01046378697276"
      ]
     },
     "execution_count": 497,
     "metadata": {},
     "output_type": "execute_result"
    }
   ],
   "source": [
    "NeventsUpdated(consolidatedistrUpdated(10**5,1,'broken',8),'broken','median')"
   ]
  },
  {
   "cell_type": "code",
   "execution_count": null,
   "metadata": {},
   "outputs": [],
   "source": [
    "NeventsUpdated(consolidatedistrUpdated(10**5,1,'broken',8),'broken','median')"
   ]
  },
  {
   "cell_type": "code",
   "execution_count": 573,
   "metadata": {},
   "outputs": [
    {
     "data": {
      "text/plain": [
       "60.2394055864585"
      ]
     },
     "execution_count": 573,
     "metadata": {},
     "output_type": "execute_result"
    }
   ],
   "source": [
    "NeventsUpdated(consolidatedistrUpdated(10**5,1,'AGN',8),'AGN','median')"
   ]
  },
  {
   "cell_type": "code",
   "execution_count": 499,
   "metadata": {},
   "outputs": [
    {
     "data": {
      "text/plain": [
       "44.99826109992512"
      ]
     },
     "execution_count": 499,
     "metadata": {},
     "output_type": "execute_result"
    }
   ],
   "source": [
    "NeventsUpdated(consolidatedistrUpdated(10**5,1,'AGN',8),'AGN','median')"
   ]
  },
  {
   "cell_type": "code",
   "execution_count": null,
   "metadata": {},
   "outputs": [],
   "source": []
  }
 ],
 "metadata": {
  "kernelspec": {
   "display_name": "Python 3",
   "language": "python",
   "name": "python3"
  },
  "language_info": {
   "codemirror_mode": {
    "name": "ipython",
    "version": 3
   },
   "file_extension": ".py",
   "mimetype": "text/x-python",
   "name": "python",
   "nbconvert_exporter": "python",
   "pygments_lexer": "ipython3",
   "version": "3.7.2"
  }
 },
 "nbformat": 4,
 "nbformat_minor": 2
}
